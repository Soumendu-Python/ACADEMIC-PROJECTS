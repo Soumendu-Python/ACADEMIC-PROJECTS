{
 "cells": [
  {
   "cell_type": "code",
   "execution_count": 1,
   "id": "04630307",
   "metadata": {},
   "outputs": [],
   "source": [
    "import numpy as np\n",
    "import pandas as pd\n",
    "import matplotlib.pyplot as plt\n",
    "import seaborn as sns"
   ]
  },
  {
   "cell_type": "code",
   "execution_count": 2,
   "id": "48b26657",
   "metadata": {},
   "outputs": [],
   "source": [
    "import os\n",
    "os.chdir('C:\\\\Post Graduate Course in Data Analytics\\\\MACHINE LEARNING\\\\KAGGLE DATASETS\\\\BM Operations')"
   ]
  },
  {
   "cell_type": "code",
   "execution_count": 3,
   "id": "10dc282c",
   "metadata": {},
   "outputs": [
    {
     "data": {
      "text/html": [
       "<div>\n",
       "<style scoped>\n",
       "    .dataframe tbody tr th:only-of-type {\n",
       "        vertical-align: middle;\n",
       "    }\n",
       "\n",
       "    .dataframe tbody tr th {\n",
       "        vertical-align: top;\n",
       "    }\n",
       "\n",
       "    .dataframe thead th {\n",
       "        text-align: right;\n",
       "    }\n",
       "</style>\n",
       "<table border=\"1\" class=\"dataframe\">\n",
       "  <thead>\n",
       "    <tr style=\"text-align: right;\">\n",
       "      <th></th>\n",
       "      <th>pelvic_incidence</th>\n",
       "      <th>pelvic_tilt</th>\n",
       "      <th>lumbar_lordosis_angle</th>\n",
       "      <th>sacral_slope</th>\n",
       "      <th>pelvic_radius</th>\n",
       "      <th>degree_spondylolisthesis</th>\n",
       "      <th>class</th>\n",
       "    </tr>\n",
       "  </thead>\n",
       "  <tbody>\n",
       "    <tr>\n",
       "      <th>0</th>\n",
       "      <td>63.027817</td>\n",
       "      <td>22.552586</td>\n",
       "      <td>39.609117</td>\n",
       "      <td>40.475232</td>\n",
       "      <td>98.672917</td>\n",
       "      <td>-0.254400</td>\n",
       "      <td>Hernia</td>\n",
       "    </tr>\n",
       "    <tr>\n",
       "      <th>1</th>\n",
       "      <td>39.056951</td>\n",
       "      <td>10.060991</td>\n",
       "      <td>25.015378</td>\n",
       "      <td>28.995960</td>\n",
       "      <td>114.405425</td>\n",
       "      <td>4.564259</td>\n",
       "      <td>Hernia</td>\n",
       "    </tr>\n",
       "    <tr>\n",
       "      <th>2</th>\n",
       "      <td>68.832021</td>\n",
       "      <td>22.218482</td>\n",
       "      <td>50.092194</td>\n",
       "      <td>46.613539</td>\n",
       "      <td>105.985135</td>\n",
       "      <td>-3.530317</td>\n",
       "      <td>Hernia</td>\n",
       "    </tr>\n",
       "    <tr>\n",
       "      <th>3</th>\n",
       "      <td>69.297008</td>\n",
       "      <td>24.652878</td>\n",
       "      <td>44.311238</td>\n",
       "      <td>44.644130</td>\n",
       "      <td>101.868495</td>\n",
       "      <td>11.211523</td>\n",
       "      <td>Hernia</td>\n",
       "    </tr>\n",
       "    <tr>\n",
       "      <th>4</th>\n",
       "      <td>49.712859</td>\n",
       "      <td>9.652075</td>\n",
       "      <td>28.317406</td>\n",
       "      <td>40.060784</td>\n",
       "      <td>108.168725</td>\n",
       "      <td>7.918501</td>\n",
       "      <td>Hernia</td>\n",
       "    </tr>\n",
       "    <tr>\n",
       "      <th>...</th>\n",
       "      <td>...</td>\n",
       "      <td>...</td>\n",
       "      <td>...</td>\n",
       "      <td>...</td>\n",
       "      <td>...</td>\n",
       "      <td>...</td>\n",
       "      <td>...</td>\n",
       "    </tr>\n",
       "    <tr>\n",
       "      <th>305</th>\n",
       "      <td>47.903565</td>\n",
       "      <td>13.616688</td>\n",
       "      <td>36.000000</td>\n",
       "      <td>34.286877</td>\n",
       "      <td>117.449062</td>\n",
       "      <td>-4.245395</td>\n",
       "      <td>Normal</td>\n",
       "    </tr>\n",
       "    <tr>\n",
       "      <th>306</th>\n",
       "      <td>53.936748</td>\n",
       "      <td>20.721496</td>\n",
       "      <td>29.220534</td>\n",
       "      <td>33.215251</td>\n",
       "      <td>114.365845</td>\n",
       "      <td>-0.421010</td>\n",
       "      <td>Normal</td>\n",
       "    </tr>\n",
       "    <tr>\n",
       "      <th>307</th>\n",
       "      <td>61.446597</td>\n",
       "      <td>22.694968</td>\n",
       "      <td>46.170347</td>\n",
       "      <td>38.751628</td>\n",
       "      <td>125.670725</td>\n",
       "      <td>-2.707880</td>\n",
       "      <td>Normal</td>\n",
       "    </tr>\n",
       "    <tr>\n",
       "      <th>308</th>\n",
       "      <td>45.252792</td>\n",
       "      <td>8.693157</td>\n",
       "      <td>41.583126</td>\n",
       "      <td>36.559635</td>\n",
       "      <td>118.545842</td>\n",
       "      <td>0.214750</td>\n",
       "      <td>Normal</td>\n",
       "    </tr>\n",
       "    <tr>\n",
       "      <th>309</th>\n",
       "      <td>33.841641</td>\n",
       "      <td>5.073991</td>\n",
       "      <td>36.641233</td>\n",
       "      <td>28.767649</td>\n",
       "      <td>123.945244</td>\n",
       "      <td>-0.199249</td>\n",
       "      <td>Normal</td>\n",
       "    </tr>\n",
       "  </tbody>\n",
       "</table>\n",
       "<p>310 rows × 7 columns</p>\n",
       "</div>"
      ],
      "text/plain": [
       "     pelvic_incidence  pelvic_tilt  lumbar_lordosis_angle  sacral_slope  \\\n",
       "0           63.027817    22.552586              39.609117     40.475232   \n",
       "1           39.056951    10.060991              25.015378     28.995960   \n",
       "2           68.832021    22.218482              50.092194     46.613539   \n",
       "3           69.297008    24.652878              44.311238     44.644130   \n",
       "4           49.712859     9.652075              28.317406     40.060784   \n",
       "..                ...          ...                    ...           ...   \n",
       "305         47.903565    13.616688              36.000000     34.286877   \n",
       "306         53.936748    20.721496              29.220534     33.215251   \n",
       "307         61.446597    22.694968              46.170347     38.751628   \n",
       "308         45.252792     8.693157              41.583126     36.559635   \n",
       "309         33.841641     5.073991              36.641233     28.767649   \n",
       "\n",
       "     pelvic_radius  degree_spondylolisthesis   class  \n",
       "0        98.672917                 -0.254400  Hernia  \n",
       "1       114.405425                  4.564259  Hernia  \n",
       "2       105.985135                 -3.530317  Hernia  \n",
       "3       101.868495                 11.211523  Hernia  \n",
       "4       108.168725                  7.918501  Hernia  \n",
       "..             ...                       ...     ...  \n",
       "305     117.449062                 -4.245395  Normal  \n",
       "306     114.365845                 -0.421010  Normal  \n",
       "307     125.670725                 -2.707880  Normal  \n",
       "308     118.545842                  0.214750  Normal  \n",
       "309     123.945244                 -0.199249  Normal  \n",
       "\n",
       "[310 rows x 7 columns]"
      ]
     },
     "execution_count": 3,
     "metadata": {},
     "output_type": "execute_result"
    }
   ],
   "source": [
    "df=pd.read_csv('column_3C_weka.csv')\n",
    "df"
   ]
  },
  {
   "cell_type": "code",
   "execution_count": 4,
   "id": "ffc3f618",
   "metadata": {},
   "outputs": [
    {
     "name": "stdout",
     "output_type": "stream",
     "text": [
      "<class 'pandas.core.frame.DataFrame'>\n",
      "RangeIndex: 310 entries, 0 to 309\n",
      "Data columns (total 7 columns):\n",
      " #   Column                    Non-Null Count  Dtype  \n",
      "---  ------                    --------------  -----  \n",
      " 0   pelvic_incidence          310 non-null    float64\n",
      " 1   pelvic_tilt               310 non-null    float64\n",
      " 2   lumbar_lordosis_angle     310 non-null    float64\n",
      " 3   sacral_slope              310 non-null    float64\n",
      " 4   pelvic_radius             310 non-null    float64\n",
      " 5   degree_spondylolisthesis  310 non-null    float64\n",
      " 6   class                     310 non-null    object \n",
      "dtypes: float64(6), object(1)\n",
      "memory usage: 17.1+ KB\n"
     ]
    }
   ],
   "source": [
    "df.info()"
   ]
  },
  {
   "cell_type": "code",
   "execution_count": 5,
   "id": "8b97c6da",
   "metadata": {},
   "outputs": [
    {
     "data": {
      "text/plain": [
       "(310, 7)"
      ]
     },
     "execution_count": 5,
     "metadata": {},
     "output_type": "execute_result"
    }
   ],
   "source": [
    "df.shape"
   ]
  },
  {
   "cell_type": "code",
   "execution_count": 6,
   "id": "a2dff7cb",
   "metadata": {},
   "outputs": [
    {
     "data": {
      "text/html": [
       "<div>\n",
       "<style scoped>\n",
       "    .dataframe tbody tr th:only-of-type {\n",
       "        vertical-align: middle;\n",
       "    }\n",
       "\n",
       "    .dataframe tbody tr th {\n",
       "        vertical-align: top;\n",
       "    }\n",
       "\n",
       "    .dataframe thead th {\n",
       "        text-align: right;\n",
       "    }\n",
       "</style>\n",
       "<table border=\"1\" class=\"dataframe\">\n",
       "  <thead>\n",
       "    <tr style=\"text-align: right;\">\n",
       "      <th></th>\n",
       "      <th>pelvic_incidence</th>\n",
       "      <th>pelvic_tilt</th>\n",
       "      <th>lumbar_lordosis_angle</th>\n",
       "      <th>sacral_slope</th>\n",
       "      <th>pelvic_radius</th>\n",
       "      <th>degree_spondylolisthesis</th>\n",
       "    </tr>\n",
       "  </thead>\n",
       "  <tbody>\n",
       "    <tr>\n",
       "      <th>count</th>\n",
       "      <td>310.000000</td>\n",
       "      <td>310.000000</td>\n",
       "      <td>310.000000</td>\n",
       "      <td>310.000000</td>\n",
       "      <td>310.000000</td>\n",
       "      <td>310.000000</td>\n",
       "    </tr>\n",
       "    <tr>\n",
       "      <th>mean</th>\n",
       "      <td>60.496653</td>\n",
       "      <td>17.542822</td>\n",
       "      <td>51.930930</td>\n",
       "      <td>42.953831</td>\n",
       "      <td>117.920655</td>\n",
       "      <td>26.296694</td>\n",
       "    </tr>\n",
       "    <tr>\n",
       "      <th>std</th>\n",
       "      <td>17.236520</td>\n",
       "      <td>10.008330</td>\n",
       "      <td>18.554064</td>\n",
       "      <td>13.423102</td>\n",
       "      <td>13.317377</td>\n",
       "      <td>37.559027</td>\n",
       "    </tr>\n",
       "    <tr>\n",
       "      <th>min</th>\n",
       "      <td>26.147921</td>\n",
       "      <td>-6.554948</td>\n",
       "      <td>14.000000</td>\n",
       "      <td>13.366931</td>\n",
       "      <td>70.082575</td>\n",
       "      <td>-11.058179</td>\n",
       "    </tr>\n",
       "    <tr>\n",
       "      <th>25%</th>\n",
       "      <td>46.430294</td>\n",
       "      <td>10.667069</td>\n",
       "      <td>37.000000</td>\n",
       "      <td>33.347122</td>\n",
       "      <td>110.709196</td>\n",
       "      <td>1.603727</td>\n",
       "    </tr>\n",
       "    <tr>\n",
       "      <th>50%</th>\n",
       "      <td>58.691038</td>\n",
       "      <td>16.357689</td>\n",
       "      <td>49.562398</td>\n",
       "      <td>42.404912</td>\n",
       "      <td>118.268178</td>\n",
       "      <td>11.767934</td>\n",
       "    </tr>\n",
       "    <tr>\n",
       "      <th>75%</th>\n",
       "      <td>72.877696</td>\n",
       "      <td>22.120395</td>\n",
       "      <td>63.000000</td>\n",
       "      <td>52.695888</td>\n",
       "      <td>125.467674</td>\n",
       "      <td>41.287352</td>\n",
       "    </tr>\n",
       "    <tr>\n",
       "      <th>max</th>\n",
       "      <td>129.834041</td>\n",
       "      <td>49.431864</td>\n",
       "      <td>125.742385</td>\n",
       "      <td>121.429566</td>\n",
       "      <td>163.071041</td>\n",
       "      <td>418.543082</td>\n",
       "    </tr>\n",
       "  </tbody>\n",
       "</table>\n",
       "</div>"
      ],
      "text/plain": [
       "       pelvic_incidence  pelvic_tilt  lumbar_lordosis_angle  sacral_slope  \\\n",
       "count        310.000000   310.000000             310.000000    310.000000   \n",
       "mean          60.496653    17.542822              51.930930     42.953831   \n",
       "std           17.236520    10.008330              18.554064     13.423102   \n",
       "min           26.147921    -6.554948              14.000000     13.366931   \n",
       "25%           46.430294    10.667069              37.000000     33.347122   \n",
       "50%           58.691038    16.357689              49.562398     42.404912   \n",
       "75%           72.877696    22.120395              63.000000     52.695888   \n",
       "max          129.834041    49.431864             125.742385    121.429566   \n",
       "\n",
       "       pelvic_radius  degree_spondylolisthesis  \n",
       "count     310.000000                310.000000  \n",
       "mean      117.920655                 26.296694  \n",
       "std        13.317377                 37.559027  \n",
       "min        70.082575                -11.058179  \n",
       "25%       110.709196                  1.603727  \n",
       "50%       118.268178                 11.767934  \n",
       "75%       125.467674                 41.287352  \n",
       "max       163.071041                418.543082  "
      ]
     },
     "execution_count": 6,
     "metadata": {},
     "output_type": "execute_result"
    }
   ],
   "source": [
    "df.describe()"
   ]
  },
  {
   "cell_type": "code",
   "execution_count": 7,
   "id": "7c549e07",
   "metadata": {},
   "outputs": [
    {
     "data": {
      "text/plain": [
       "pelvic_incidence            0\n",
       "pelvic_tilt                 0\n",
       "lumbar_lordosis_angle       0\n",
       "sacral_slope                0\n",
       "pelvic_radius               0\n",
       "degree_spondylolisthesis    0\n",
       "class                       0\n",
       "dtype: int64"
      ]
     },
     "execution_count": 7,
     "metadata": {},
     "output_type": "execute_result"
    }
   ],
   "source": [
    "df.isnull().sum()"
   ]
  },
  {
   "cell_type": "code",
   "execution_count": 8,
   "id": "3c362bfd",
   "metadata": {},
   "outputs": [
    {
     "data": {
      "text/html": [
       "<div>\n",
       "<style scoped>\n",
       "    .dataframe tbody tr th:only-of-type {\n",
       "        vertical-align: middle;\n",
       "    }\n",
       "\n",
       "    .dataframe tbody tr th {\n",
       "        vertical-align: top;\n",
       "    }\n",
       "\n",
       "    .dataframe thead th {\n",
       "        text-align: right;\n",
       "    }\n",
       "</style>\n",
       "<table border=\"1\" class=\"dataframe\">\n",
       "  <thead>\n",
       "    <tr style=\"text-align: right;\">\n",
       "      <th></th>\n",
       "      <th>pelvic_incidence</th>\n",
       "      <th>pelvic_tilt</th>\n",
       "      <th>lumbar_lordosis_angle</th>\n",
       "      <th>sacral_slope</th>\n",
       "      <th>pelvic_radius</th>\n",
       "      <th>degree_spondylolisthesis</th>\n",
       "    </tr>\n",
       "  </thead>\n",
       "  <tbody>\n",
       "    <tr>\n",
       "      <th>pelvic_incidence</th>\n",
       "      <td>1.000000</td>\n",
       "      <td>0.629199</td>\n",
       "      <td>0.717282</td>\n",
       "      <td>0.814960</td>\n",
       "      <td>-0.247467</td>\n",
       "      <td>0.638743</td>\n",
       "    </tr>\n",
       "    <tr>\n",
       "      <th>pelvic_tilt</th>\n",
       "      <td>0.629199</td>\n",
       "      <td>1.000000</td>\n",
       "      <td>0.432764</td>\n",
       "      <td>0.062345</td>\n",
       "      <td>0.032668</td>\n",
       "      <td>0.397862</td>\n",
       "    </tr>\n",
       "    <tr>\n",
       "      <th>lumbar_lordosis_angle</th>\n",
       "      <td>0.717282</td>\n",
       "      <td>0.432764</td>\n",
       "      <td>1.000000</td>\n",
       "      <td>0.598387</td>\n",
       "      <td>-0.080344</td>\n",
       "      <td>0.533667</td>\n",
       "    </tr>\n",
       "    <tr>\n",
       "      <th>sacral_slope</th>\n",
       "      <td>0.814960</td>\n",
       "      <td>0.062345</td>\n",
       "      <td>0.598387</td>\n",
       "      <td>1.000000</td>\n",
       "      <td>-0.342128</td>\n",
       "      <td>0.523557</td>\n",
       "    </tr>\n",
       "    <tr>\n",
       "      <th>pelvic_radius</th>\n",
       "      <td>-0.247467</td>\n",
       "      <td>0.032668</td>\n",
       "      <td>-0.080344</td>\n",
       "      <td>-0.342128</td>\n",
       "      <td>1.000000</td>\n",
       "      <td>-0.026065</td>\n",
       "    </tr>\n",
       "    <tr>\n",
       "      <th>degree_spondylolisthesis</th>\n",
       "      <td>0.638743</td>\n",
       "      <td>0.397862</td>\n",
       "      <td>0.533667</td>\n",
       "      <td>0.523557</td>\n",
       "      <td>-0.026065</td>\n",
       "      <td>1.000000</td>\n",
       "    </tr>\n",
       "  </tbody>\n",
       "</table>\n",
       "</div>"
      ],
      "text/plain": [
       "                          pelvic_incidence  pelvic_tilt  \\\n",
       "pelvic_incidence                  1.000000     0.629199   \n",
       "pelvic_tilt                       0.629199     1.000000   \n",
       "lumbar_lordosis_angle             0.717282     0.432764   \n",
       "sacral_slope                      0.814960     0.062345   \n",
       "pelvic_radius                    -0.247467     0.032668   \n",
       "degree_spondylolisthesis          0.638743     0.397862   \n",
       "\n",
       "                          lumbar_lordosis_angle  sacral_slope  pelvic_radius  \\\n",
       "pelvic_incidence                       0.717282      0.814960      -0.247467   \n",
       "pelvic_tilt                            0.432764      0.062345       0.032668   \n",
       "lumbar_lordosis_angle                  1.000000      0.598387      -0.080344   \n",
       "sacral_slope                           0.598387      1.000000      -0.342128   \n",
       "pelvic_radius                         -0.080344     -0.342128       1.000000   \n",
       "degree_spondylolisthesis               0.533667      0.523557      -0.026065   \n",
       "\n",
       "                          degree_spondylolisthesis  \n",
       "pelvic_incidence                          0.638743  \n",
       "pelvic_tilt                               0.397862  \n",
       "lumbar_lordosis_angle                     0.533667  \n",
       "sacral_slope                              0.523557  \n",
       "pelvic_radius                            -0.026065  \n",
       "degree_spondylolisthesis                  1.000000  "
      ]
     },
     "execution_count": 8,
     "metadata": {},
     "output_type": "execute_result"
    }
   ],
   "source": [
    "df.corr()"
   ]
  },
  {
   "cell_type": "code",
   "execution_count": 9,
   "id": "21fc4641",
   "metadata": {},
   "outputs": [
    {
     "data": {
      "text/plain": [
       "(array([19., 62., 68., 57., 50., 39., 12.,  0.,  2.,  1.]),\n",
       " array([ 26.14792141,  36.51653333,  46.88514525,  57.25375717,\n",
       "         67.62236909,  77.99098101,  88.35959292,  98.72820484,\n",
       "        109.09681676, 119.46542868, 129.8340406 ]),\n",
       " <BarContainer object of 10 artists>)"
      ]
     },
     "execution_count": 9,
     "metadata": {},
     "output_type": "execute_result"
    },
    {
     "data": {
      "image/png": "[encoded data removed]",
      "text/plain": [
       "<Figure size 432x288 with 1 Axes>"
      ]
     },
     "metadata": {
      "needs_background": "light"
     },
     "output_type": "display_data"
    }
   ],
   "source": [
    "plt.hist(df['pelvic_incidence'])"
   ]
  },
  {
   "cell_type": "code",
   "execution_count": 10,
   "id": "641a2db3",
   "metadata": {},
   "outputs": [
    {
     "data": {
      "text/plain": [
       "<AxesSubplot:>"
      ]
     },
     "execution_count": 10,
     "metadata": {},
     "output_type": "execute_result"
    },
    {
     "data": {
      "image/png": "[encoded data removed]",
      "text/plain": [
       "<Figure size 432x288 with 1 Axes>"
      ]
     },
     "metadata": {
      "needs_background": "light"
     },
     "output_type": "display_data"
    }
   ],
   "source": [
    "df['pelvic_incidence'].plot.box(patch_artist=True)"
   ]
  },
  {
   "cell_type": "code",
   "execution_count": 11,
   "id": "f40bf1d7",
   "metadata": {},
   "outputs": [],
   "source": [
    "from scipy import stats"
   ]
  },
  {
   "cell_type": "code",
   "execution_count": 12,
   "id": "8e900cfc",
   "metadata": {},
   "outputs": [
    {
     "name": "stdout",
     "output_type": "stream",
     "text": [
      "26.447401299999996\n",
      "112.54879745999999\n",
      "3\n"
     ]
    }
   ],
   "source": [
    "iqr_pi=stats.iqr(df['pelvic_incidence'])\n",
    "print(iqr_pi)\n",
    "uplim_pi=df['pelvic_incidence'].quantile(0.75)+(1.5*iqr_pi)\n",
    "print(uplim_pi)\n",
    "print(len(df[df.pelvic_incidence>uplim_pi]))"
   ]
  },
  {
   "cell_type": "code",
   "execution_count": 13,
   "id": "de533730",
   "metadata": {},
   "outputs": [
    {
     "data": {
      "text/plain": [
       "<AxesSubplot:xlabel='pelvic_incidence', ylabel='class'>"
      ]
     },
     "execution_count": 13,
     "metadata": {},
     "output_type": "execute_result"
    },
    {
     "data": {
      "image/png": "[encoded data removed]",
      "text/plain": [
       "<Figure size 432x288 with 1 Axes>"
      ]
     },
     "metadata": {
      "needs_background": "light"
     },
     "output_type": "display_data"
    }
   ],
   "source": [
    "sns.stripplot(x='pelvic_incidence',y='class',data=df)"
   ]
  },
  {
   "cell_type": "code",
   "execution_count": 14,
   "id": "2c79989b",
   "metadata": {},
   "outputs": [
    {
     "data": {
      "text/plain": [
       "(array([ 5., 14., 56., 73., 79., 35., 18., 15., 11.,  4.]),\n",
       " array([-6.55494835, -0.95626715,  4.64241404, 10.24109524, 15.83977643,\n",
       "        21.43845763, 27.03713882, 32.63582002, 38.23450121, 43.83318241,\n",
       "        49.4318636 ]),\n",
       " <BarContainer object of 10 artists>)"
      ]
     },
     "execution_count": 14,
     "metadata": {},
     "output_type": "execute_result"
    },
    {
     "data": {
      "image/png": "[encoded data removed]",
      "text/plain": [
       "<Figure size 432x288 with 1 Axes>"
      ]
     },
     "metadata": {
      "needs_background": "light"
     },
     "output_type": "display_data"
    }
   ],
   "source": [
    "plt.hist(df['pelvic_tilt'])"
   ]
  },
  {
   "cell_type": "code",
   "execution_count": 15,
   "id": "5a5b0707",
   "metadata": {},
   "outputs": [
    {
     "data": {
      "text/plain": [
       "<AxesSubplot:>"
      ]
     },
     "execution_count": 15,
     "metadata": {},
     "output_type": "execute_result"
    },
    {
     "data": {
      "image/png": "[encoded data removed]",
      "text/plain": [
       "<Figure size 432x288 with 1 Axes>"
      ]
     },
     "metadata": {
      "needs_background": "light"
     },
     "output_type": "display_data"
    }
   ],
   "source": [
    "df['pelvic_tilt'].plot.box(patch_artist=True)"
   ]
  },
  {
   "cell_type": "code",
   "execution_count": 16,
   "id": "a7aa929d",
   "metadata": {},
   "outputs": [
    {
     "name": "stdout",
     "output_type": "stream",
     "text": [
      "11.453325679999999\n",
      "12\n",
      "1\n"
     ]
    }
   ],
   "source": [
    "iqr_pt=stats.iqr(df['pelvic_tilt'])\n",
    "print(iqr_pt)\n",
    "uplim_pt=df['pelvic_tilt'].quantile(0.75)+(1.5*iqr_pt)\n",
    "lowlim_pt=df['pelvic_tilt'].quantile(0.25)-(1.5*iqr_pt)\n",
    "print(len(df[df.pelvic_tilt>uplim_pt]))\n",
    "print(len(df[df.pelvic_tilt<lowlim_pt]))"
   ]
  },
  {
   "cell_type": "code",
   "execution_count": 17,
   "id": "5ea4a915",
   "metadata": {},
   "outputs": [
    {
     "data": {
      "text/plain": [
       "(array([12., 62., 68., 65., 53., 25., 18.,  6.,  0.,  1.]),\n",
       " array([ 14.        ,  25.17423855,  36.3484771 ,  47.52271565,\n",
       "         58.6969542 ,  69.87119275,  81.0454313 ,  92.21966985,\n",
       "        103.3939084 , 114.56814695, 125.7423855 ]),\n",
       " <BarContainer object of 10 artists>)"
      ]
     },
     "execution_count": 17,
     "metadata": {},
     "output_type": "execute_result"
    },
    {
     "data": {
      "image/png": "[encoded data removed]",
      "text/plain": [
       "<Figure size 432x288 with 1 Axes>"
      ]
     },
     "metadata": {
      "needs_background": "light"
     },
     "output_type": "display_data"
    }
   ],
   "source": [
    "plt.hist(df['lumbar_lordosis_angle'])"
   ]
  },
  {
   "cell_type": "code",
   "execution_count": 18,
   "id": "4655a9e0",
   "metadata": {},
   "outputs": [
    {
     "data": {
      "text/plain": [
       "<AxesSubplot:>"
      ]
     },
     "execution_count": 18,
     "metadata": {},
     "output_type": "execute_result"
    },
    {
     "data": {
      "image/png": "[encoded data removed]",
      "text/plain": [
       "<Figure size 432x288 with 1 Axes>"
      ]
     },
     "metadata": {
      "needs_background": "light"
     },
     "output_type": "display_data"
    }
   ],
   "source": [
    "df['lumbar_lordosis_angle'].plot.box(patch_artist=True)"
   ]
  },
  {
   "cell_type": "code",
   "execution_count": 19,
   "id": "60992f1c",
   "metadata": {},
   "outputs": [
    {
     "name": "stdout",
     "output_type": "stream",
     "text": [
      "25.99999999\n",
      "101.99999997500001\n",
      "1\n"
     ]
    }
   ],
   "source": [
    "iqr_lla=stats.iqr(df['lumbar_lordosis_angle'])\n",
    "print(iqr_lla)\n",
    "uplim_lla=df['lumbar_lordosis_angle'].quantile(0.75)+(1.5*iqr_lla)\n",
    "print(uplim_lla)\n",
    "print(len(df[df.lumbar_lordosis_angle>uplim_lla]))"
   ]
  },
  {
   "cell_type": "code",
   "execution_count": 20,
   "id": "c882b3f5",
   "metadata": {},
   "outputs": [
    {
     "data": {
      "text/plain": [
       "(array([22., 73., 92., 80., 36.,  3.,  3.,  0.,  0.,  1.]),\n",
       " array([ 13.3669307 ,  24.17319419,  34.97945768,  45.78572117,\n",
       "         56.59198466,  67.39824815,  78.20451164,  89.01077513,\n",
       "         99.81703862, 110.62330211, 121.4295656 ]),\n",
       " <BarContainer object of 10 artists>)"
      ]
     },
     "execution_count": 20,
     "metadata": {},
     "output_type": "execute_result"
    },
    {
     "data": {
      "image/png": "[encoded data removed]",
      "text/plain": [
       "<Figure size 432x288 with 1 Axes>"
      ]
     },
     "metadata": {
      "needs_background": "light"
     },
     "output_type": "display_data"
    }
   ],
   "source": [
    "plt.hist(df['sacral_slope'])"
   ]
  },
  {
   "cell_type": "code",
   "execution_count": 21,
   "id": "c38fab07",
   "metadata": {},
   "outputs": [
    {
     "data": {
      "text/plain": [
       "<AxesSubplot:>"
      ]
     },
     "execution_count": 21,
     "metadata": {},
     "output_type": "execute_result"
    },
    {
     "data": {
      "image/png": "[encoded data removed]",
      "text/plain": [
       "<Figure size 432x288 with 1 Axes>"
      ]
     },
     "metadata": {
      "needs_background": "light"
     },
     "output_type": "display_data"
    }
   ],
   "source": [
    "df['sacral_slope'].plot.box(patch_artist=True)"
   ]
  },
  {
   "cell_type": "code",
   "execution_count": 22,
   "id": "8323d39b",
   "metadata": {},
   "outputs": [
    {
     "name": "stdout",
     "output_type": "stream",
     "text": [
      "19.3487663425\n",
      "81.71903786875001\n",
      "1\n"
     ]
    }
   ],
   "source": [
    "iqr_ss=stats.iqr(df['sacral_slope'])\n",
    "print(iqr_ss)\n",
    "uplim_ss=df['sacral_slope'].quantile(0.75)+(1.5*iqr_ss)\n",
    "print(uplim_ss)\n",
    "print(len(df[df.sacral_slope>uplim_ss]))"
   ]
  },
  {
   "cell_type": "code",
   "execution_count": 23,
   "id": "6c52606c",
   "metadata": {},
   "outputs": [
    {
     "data": {
      "text/plain": [
       "(array([  2.,   4.,  16.,  36.,  73., 106.,  44.,  22.,   5.,   2.]),\n",
       " array([ 70.08257486,  79.38142142,  88.68026799,  97.97911455,\n",
       "        107.27796112, 116.57680768, 125.87565424, 135.17450081,\n",
       "        144.47334737, 153.77219394, 163.0710405 ]),\n",
       " <BarContainer object of 10 artists>)"
      ]
     },
     "execution_count": 23,
     "metadata": {},
     "output_type": "execute_result"
    },
    {
     "data": {
      "image/png": "[encoded data removed]",
      "text/plain": [
       "<Figure size 432x288 with 1 Axes>"
      ]
     },
     "metadata": {
      "needs_background": "light"
     },
     "output_type": "display_data"
    }
   ],
   "source": [
    "plt.hist(df['pelvic_radius'])"
   ]
  },
  {
   "cell_type": "code",
   "execution_count": 24,
   "id": "365e9337",
   "metadata": {},
   "outputs": [
    {
     "data": {
      "text/plain": [
       "<AxesSubplot:>"
      ]
     },
     "execution_count": 24,
     "metadata": {},
     "output_type": "execute_result"
    },
    {
     "data": {
      "image/png": "[encoded data removed]",
      "text/plain": [
       "<Figure size 432x288 with 1 Axes>"
      ]
     },
     "metadata": {
      "needs_background": "light"
     },
     "output_type": "display_data"
    }
   ],
   "source": [
    "df['pelvic_radius'].plot.box(patch_artist=True)"
   ]
  },
  {
   "cell_type": "code",
   "execution_count": 25,
   "id": "1c7badc4",
   "metadata": {},
   "outputs": [
    {
     "name": "stdout",
     "output_type": "stream",
     "text": [
      "14.758478124999996\n",
      "5\n",
      "6\n"
     ]
    }
   ],
   "source": [
    "iqr_pr=stats.iqr(df['pelvic_radius'])\n",
    "print(iqr_pr)\n",
    "uplim_pr=df['pelvic_radius'].quantile(0.75)+(1.5*iqr_pr)\n",
    "lowlim_pr=df['pelvic_radius'].quantile(0.25)-(1.5*iqr_pr)\n",
    "print(len(df[df.pelvic_radius>uplim_pr]))\n",
    "print(len(df[df.pelvic_radius<lowlim_pr]))"
   ]
  },
  {
   "cell_type": "code",
   "execution_count": 26,
   "id": "9ee46ef8",
   "metadata": {},
   "outputs": [
    {
     "data": {
      "text/plain": [
       "(array([205.,  83.,  17.,   4.,   0.,   0.,   0.,   0.,   0.,   1.]),\n",
       " array([-11.05817866,  31.90194742,  74.86207349, 117.82219957,\n",
       "        160.78232564, 203.74245172, 246.7025778 , 289.66270387,\n",
       "        332.62282995, 375.58295602, 418.5430821 ]),\n",
       " <BarContainer object of 10 artists>)"
      ]
     },
     "execution_count": 26,
     "metadata": {},
     "output_type": "execute_result"
    },
    {
     "data": {
      "image/png": "[encoded data removed]",
      "text/plain": [
       "<Figure size 432x288 with 1 Axes>"
      ]
     },
     "metadata": {
      "needs_background": "light"
     },
     "output_type": "display_data"
    }
   ],
   "source": [
    "plt.hist(df['degree_spondylolisthesis'])"
   ]
  },
  {
   "cell_type": "code",
   "execution_count": 27,
   "id": "99528cab",
   "metadata": {},
   "outputs": [
    {
     "data": {
      "text/plain": [
       "<AxesSubplot:>"
      ]
     },
     "execution_count": 27,
     "metadata": {},
     "output_type": "execute_result"
    },
    {
     "data": {
      "image/png": "[encoded data removed]",
      "text/plain": [
       "<Figure size 432x288 with 1 Axes>"
      ]
     },
     "metadata": {
      "needs_background": "light"
     },
     "output_type": "display_data"
    }
   ],
   "source": [
    "df['degree_spondylolisthesis'].plot.box(patch_artist=True)"
   ]
  },
  {
   "cell_type": "code",
   "execution_count": 28,
   "id": "3d65b069",
   "metadata": {},
   "outputs": [
    {
     "name": "stdout",
     "output_type": "stream",
     "text": [
      "10\n"
     ]
    }
   ],
   "source": [
    "iqr_ds=stats.iqr(df['degree_spondylolisthesis'])\n",
    "uplim_ds=df['degree_spondylolisthesis'].quantile(0.75)+(1.5*iqr_ds)\n",
    "print(len(df[df.degree_spondylolisthesis>uplim_ds]))"
   ]
  },
  {
   "cell_type": "code",
   "execution_count": 29,
   "id": "ff90485b",
   "metadata": {},
   "outputs": [
    {
     "data": {
      "text/plain": [
       "Spondylolisthesis    150\n",
       "Normal               100\n",
       "Hernia                60\n",
       "Name: class, dtype: int64"
      ]
     },
     "execution_count": 29,
     "metadata": {},
     "output_type": "execute_result"
    }
   ],
   "source": [
    "df['class'].value_counts()"
   ]
  },
  {
   "cell_type": "code",
   "execution_count": 30,
   "id": "bfff9169",
   "metadata": {},
   "outputs": [
    {
     "name": "stderr",
     "output_type": "stream",
     "text": [
      "C:\\Users\\soume\\anaconda3\\lib\\site-packages\\seaborn\\_decorators.py:36: FutureWarning: Pass the following variable as a keyword arg: x. From version 0.12, the only valid positional argument will be `data`, and passing other arguments without an explicit keyword will result in an error or misinterpretation.\n",
      "  warnings.warn(\n"
     ]
    },
    {
     "data": {
      "text/plain": [
       "<AxesSubplot:xlabel='class', ylabel='count'>"
      ]
     },
     "execution_count": 30,
     "metadata": {},
     "output_type": "execute_result"
    },
    {
     "data": {
      "image/png": "[encoded data removed]",
      "text/plain": [
       "<Figure size 432x288 with 1 Axes>"
      ]
     },
     "metadata": {
      "needs_background": "light"
     },
     "output_type": "display_data"
    }
   ],
   "source": [
    "sns.countplot(df['class'])"
   ]
  },
  {
   "cell_type": "code",
   "execution_count": 31,
   "id": "374fb102",
   "metadata": {},
   "outputs": [],
   "source": [
    "from scipy.stats import f_oneway"
   ]
  },
  {
   "cell_type": "code",
   "execution_count": 32,
   "id": "c0a5c314",
   "metadata": {},
   "outputs": [
    {
     "data": {
      "text/plain": [
       "F_onewayResult(statistic=98.53970917437489, pvalue=8.752848964938295e-34)"
      ]
     },
     "execution_count": 32,
     "metadata": {},
     "output_type": "execute_result"
    }
   ],
   "source": [
    "f_oneway(df['pelvic_incidence'][df['class']=='Spondylolisthesis'],\n",
    "        df['pelvic_incidence'][df['class']=='Normal'],\n",
    "        df['pelvic_incidence'][df['class']=='Hernia'])"
   ]
  },
  {
   "cell_type": "code",
   "execution_count": 33,
   "id": "707abe45",
   "metadata": {},
   "outputs": [
    {
     "data": {
      "text/plain": [
       "F_onewayResult(statistic=21.29919432898912, pvalue=2.176879152985521e-09)"
      ]
     },
     "execution_count": 33,
     "metadata": {},
     "output_type": "execute_result"
    }
   ],
   "source": [
    "f_oneway(df['pelvic_tilt'][df['class']=='Spondylolisthesis'],\n",
    "        df['pelvic_tilt'][df['class']=='Normal'],\n",
    "        df['pelvic_tilt'][df['class']=='Hernia'])"
   ]
  },
  {
   "cell_type": "code",
   "execution_count": 34,
   "id": "5dcf7347",
   "metadata": {},
   "outputs": [
    {
     "data": {
      "text/plain": [
       "F_onewayResult(statistic=114.98284047330317, pvalue=5.357329394004833e-38)"
      ]
     },
     "execution_count": 34,
     "metadata": {},
     "output_type": "execute_result"
    }
   ],
   "source": [
    "f_oneway(df['lumbar_lordosis_angle'][df['class']=='Spondylolisthesis'],\n",
    "        df['lumbar_lordosis_angle'][df['class']=='Normal'],\n",
    "        df['lumbar_lordosis_angle'][df['class']=='Hernia'])"
   ]
  },
  {
   "cell_type": "code",
   "execution_count": 35,
   "id": "3fe1664a",
   "metadata": {},
   "outputs": [
    {
     "data": {
      "text/plain": [
       "F_onewayResult(statistic=89.64395329777523, pvalue=2.175670364983569e-31)"
      ]
     },
     "execution_count": 35,
     "metadata": {},
     "output_type": "execute_result"
    }
   ],
   "source": [
    "f_oneway(df['sacral_slope'][df['class']=='Spondylolisthesis'],\n",
    "        df['sacral_slope'][df['class']=='Normal'],\n",
    "        df['sacral_slope'][df['class']=='Hernia'])"
   ]
  },
  {
   "cell_type": "code",
   "execution_count": 36,
   "id": "61ced0b7",
   "metadata": {},
   "outputs": [
    {
     "data": {
      "text/plain": [
       "F_onewayResult(statistic=16.86693475538487, pvalue=1.1219959042394205e-07)"
      ]
     },
     "execution_count": 36,
     "metadata": {},
     "output_type": "execute_result"
    }
   ],
   "source": [
    "f_oneway(df['pelvic_radius'][df['class']=='Spondylolisthesis'],\n",
    "        df['pelvic_radius'][df['class']=='Normal'],\n",
    "        df['pelvic_radius'][df['class']=='Hernia'])"
   ]
  },
  {
   "cell_type": "code",
   "execution_count": 37,
   "id": "907f2d24",
   "metadata": {},
   "outputs": [
    {
     "data": {
      "text/plain": [
       "F_onewayResult(statistic=119.12288060759808, pvalue=5.1147320770401214e-39)"
      ]
     },
     "execution_count": 37,
     "metadata": {},
     "output_type": "execute_result"
    }
   ],
   "source": [
    "f_oneway(df['degree_spondylolisthesis'][df['class']=='Spondylolisthesis'],\n",
    "        df['degree_spondylolisthesis'][df['class']=='Normal'],\n",
    "        df['degree_spondylolisthesis'][df['class']=='Hernia'])"
   ]
  },
  {
   "cell_type": "code",
   "execution_count": 38,
   "id": "bfe06695",
   "metadata": {},
   "outputs": [],
   "source": [
    "from scipy.stats import shapiro"
   ]
  },
  {
   "cell_type": "code",
   "execution_count": 39,
   "id": "09e1aa6e",
   "metadata": {},
   "outputs": [
    {
     "data": {
      "text/plain": [
       "ShapiroResult(statistic=0.9711233973503113, pvalue=7.132715381885646e-06)"
      ]
     },
     "execution_count": 39,
     "metadata": {},
     "output_type": "execute_result"
    }
   ],
   "source": [
    "shapiro(df['pelvic_incidence'])"
   ]
  },
  {
   "cell_type": "code",
   "execution_count": 40,
   "id": "56f4e325",
   "metadata": {},
   "outputs": [
    {
     "data": {
      "text/plain": [
       "ShapiroResult(statistic=0.9663856625556946, pvalue=1.320634396506648e-06)"
      ]
     },
     "execution_count": 40,
     "metadata": {},
     "output_type": "execute_result"
    }
   ],
   "source": [
    "shapiro(df['pelvic_tilt'])"
   ]
  },
  {
   "cell_type": "code",
   "execution_count": 41,
   "id": "ab38239c",
   "metadata": {},
   "outputs": [
    {
     "data": {
      "text/plain": [
       "ShapiroResult(statistic=0.9718118906021118, pvalue=9.219410458172206e-06)"
      ]
     },
     "execution_count": 41,
     "metadata": {},
     "output_type": "execute_result"
    }
   ],
   "source": [
    "shapiro(df['lumbar_lordosis_angle'])"
   ]
  },
  {
   "cell_type": "code",
   "execution_count": 42,
   "id": "441e0c7b",
   "metadata": {},
   "outputs": [
    {
     "data": {
      "text/plain": [
       "ShapiroResult(statistic=0.9639798402786255, pvalue=5.886313942937704e-07)"
      ]
     },
     "execution_count": 42,
     "metadata": {},
     "output_type": "execute_result"
    }
   ],
   "source": [
    "shapiro(df['sacral_slope'])"
   ]
  },
  {
   "cell_type": "code",
   "execution_count": 43,
   "id": "58d00f9c",
   "metadata": {},
   "outputs": [
    {
     "data": {
      "text/plain": [
       "ShapiroResult(statistic=0.9887223243713379, pvalue=0.0166160985827446)"
      ]
     },
     "execution_count": 43,
     "metadata": {},
     "output_type": "execute_result"
    }
   ],
   "source": [
    "shapiro(df['pelvic_radius'])"
   ]
  },
  {
   "cell_type": "code",
   "execution_count": 44,
   "id": "4d329e22",
   "metadata": {},
   "outputs": [
    {
     "data": {
      "text/plain": [
       "ShapiroResult(statistic=0.6969759464263916, pvalue=2.9074345875246996e-23)"
      ]
     },
     "execution_count": 44,
     "metadata": {},
     "output_type": "execute_result"
    }
   ],
   "source": [
    "shapiro(df['degree_spondylolisthesis'])"
   ]
  },
  {
   "cell_type": "code",
   "execution_count": 45,
   "id": "64413cc8",
   "metadata": {},
   "outputs": [
    {
     "data": {
      "text/plain": [
       "2    150\n",
       "1    100\n",
       "0     60\n",
       "Name: class, dtype: int64"
      ]
     },
     "execution_count": 45,
     "metadata": {},
     "output_type": "execute_result"
    }
   ],
   "source": [
    "from sklearn.preprocessing import LabelEncoder\n",
    "le=LabelEncoder()\n",
    "df['class']=le.fit_transform(df['class'])\n",
    "df['class'].value_counts()"
   ]
  },
  {
   "cell_type": "code",
   "execution_count": 46,
   "id": "3bf02d9c",
   "metadata": {},
   "outputs": [],
   "source": [
    "x=df.drop('class',axis=1)\n",
    "y=df['class']"
   ]
  },
  {
   "cell_type": "code",
   "execution_count": 47,
   "id": "911ab985",
   "metadata": {},
   "outputs": [],
   "source": [
    "from sklearn.model_selection import train_test_split"
   ]
  },
  {
   "cell_type": "code",
   "execution_count": 48,
   "id": "4fdc81d5",
   "metadata": {},
   "outputs": [
    {
     "name": "stdout",
     "output_type": "stream",
     "text": [
      "(232, 6)\n",
      "(232,)\n",
      "(78, 6)\n",
      "(78,)\n"
     ]
    }
   ],
   "source": [
    "xtrain,xtest,ytrain,ytest=train_test_split(x,y,test_size=0.25,random_state=7)\n",
    "print(xtrain.shape)\n",
    "print(ytrain.shape)\n",
    "print(xtest.shape)\n",
    "print(ytest.shape)"
   ]
  },
  {
   "cell_type": "code",
   "execution_count": 49,
   "id": "42895910",
   "metadata": {},
   "outputs": [],
   "source": [
    "from sklearn.linear_model import LogisticRegression"
   ]
  },
  {
   "cell_type": "code",
   "execution_count": 50,
   "id": "2e1b27e8",
   "metadata": {},
   "outputs": [
    {
     "name": "stderr",
     "output_type": "stream",
     "text": [
      "C:\\Users\\soume\\anaconda3\\lib\\site-packages\\sklearn\\linear_model\\_logistic.py:763: ConvergenceWarning: lbfgs failed to converge (status=1):\n",
      "STOP: TOTAL NO. of ITERATIONS REACHED LIMIT.\n",
      "\n",
      "Increase the number of iterations (max_iter) or scale the data as shown in:\n",
      "    https://scikit-learn.org/stable/modules/preprocessing.html\n",
      "Please also refer to the documentation for alternative solver options:\n",
      "    https://scikit-learn.org/stable/modules/linear_model.html#logistic-regression\n",
      "  n_iter_i = _check_optimize_result(\n"
     ]
    },
    {
     "data": {
      "text/plain": [
       "array([1, 2, 2, 2, 1, 1, 2, 2, 0, 2, 1, 2, 1, 1, 2, 2, 2, 0, 2, 0, 2, 2,\n",
       "       1, 2, 2, 1, 1, 2, 2, 2, 1, 2, 0, 2, 2, 2, 2, 1, 2, 2, 1, 1, 1, 1,\n",
       "       2, 2, 0, 1, 2, 1, 2, 1, 0, 2, 2, 2, 2, 2, 0, 2, 2, 1, 0, 2, 2, 1,\n",
       "       2, 1, 1, 2, 2, 1, 2, 2, 1, 2, 0, 1])"
      ]
     },
     "execution_count": 50,
     "metadata": {},
     "output_type": "execute_result"
    }
   ],
   "source": [
    "lr=LogisticRegression()\n",
    "lrmodel=lr.fit(xtrain,ytrain)\n",
    "ylr=lrmodel.predict(xtest)\n",
    "ylr"
   ]
  },
  {
   "cell_type": "code",
   "execution_count": 51,
   "id": "5f104f17",
   "metadata": {},
   "outputs": [],
   "source": [
    "from sklearn.metrics import classification_report,accuracy_score,confusion_matrix"
   ]
  },
  {
   "cell_type": "code",
   "execution_count": 52,
   "id": "fd99a532",
   "metadata": {},
   "outputs": [
    {
     "name": "stdout",
     "output_type": "stream",
     "text": [
      "              precision    recall  f1-score   support\n",
      "\n",
      "           0       0.56      0.56      0.56         9\n",
      "           1       0.92      0.77      0.84        30\n",
      "           2       0.89      1.00      0.94        39\n",
      "\n",
      "    accuracy                           0.86        78\n",
      "   macro avg       0.79      0.77      0.78        78\n",
      "weighted avg       0.86      0.86      0.86        78\n",
      "\n"
     ]
    }
   ],
   "source": [
    "print(classification_report(ytest,ylr))"
   ]
  },
  {
   "cell_type": "code",
   "execution_count": 53,
   "id": "9df87107",
   "metadata": {},
   "outputs": [
    {
     "data": {
      "text/plain": [
       "85.9"
      ]
     },
     "execution_count": 53,
     "metadata": {},
     "output_type": "execute_result"
    }
   ],
   "source": [
    "acc_lr=accuracy_score(ytest,ylr)*100\n",
    "acc_lr=round(acc_lr,1)\n",
    "acc_lr"
   ]
  },
  {
   "cell_type": "code",
   "execution_count": 54,
   "id": "dc3030c4",
   "metadata": {},
   "outputs": [],
   "source": [
    "from sklearn.preprocessing import StandardScaler\n",
    "sc=StandardScaler()\n",
    "xtrainsc=sc.fit_transform(xtrain)\n",
    "xtestsc=sc.fit_transform(xtest)"
   ]
  },
  {
   "cell_type": "code",
   "execution_count": 55,
   "id": "0eca02c8",
   "metadata": {},
   "outputs": [
    {
     "data": {
      "text/plain": [
       "array([1, 2, 2, 2, 1, 1, 2, 2, 0, 2, 1, 2, 1, 1, 2, 2, 2, 0, 2, 0, 2, 2,\n",
       "       1, 0, 2, 1, 1, 2, 2, 2, 0, 2, 0, 2, 2, 2, 2, 1, 2, 2, 1, 1, 1, 1,\n",
       "       2, 2, 0, 1, 2, 1, 2, 1, 1, 2, 2, 2, 2, 2, 0, 2, 2, 1, 0, 2, 2, 1,\n",
       "       2, 1, 1, 2, 2, 1, 2, 2, 1, 2, 0, 1])"
      ]
     },
     "execution_count": 55,
     "metadata": {},
     "output_type": "execute_result"
    }
   ],
   "source": [
    "lrmodel1=lr.fit(xtrainsc,ytrain)\n",
    "ylr1=lrmodel1.predict(xtestsc)\n",
    "ylr1"
   ]
  },
  {
   "cell_type": "code",
   "execution_count": 56,
   "id": "03212637",
   "metadata": {},
   "outputs": [
    {
     "name": "stdout",
     "output_type": "stream",
     "text": [
      "              precision    recall  f1-score   support\n",
      "\n",
      "           0       0.70      0.78      0.74         9\n",
      "           1       0.96      0.80      0.87        30\n",
      "           2       0.91      1.00      0.95        39\n",
      "\n",
      "    accuracy                           0.90        78\n",
      "   macro avg       0.86      0.86      0.85        78\n",
      "weighted avg       0.90      0.90      0.90        78\n",
      "\n"
     ]
    }
   ],
   "source": [
    "print(classification_report(ytest,ylr1))"
   ]
  },
  {
   "cell_type": "code",
   "execution_count": 57,
   "id": "9c27cda5",
   "metadata": {},
   "outputs": [
    {
     "data": {
      "text/plain": [
       "array([[ 7,  1,  1],\n",
       "       [ 3, 24,  3],\n",
       "       [ 0,  0, 39]], dtype=int64)"
      ]
     },
     "execution_count": 57,
     "metadata": {},
     "output_type": "execute_result"
    }
   ],
   "source": [
    "confusion_matrix(ytest,ylr1)"
   ]
  },
  {
   "cell_type": "code",
   "execution_count": 58,
   "id": "d94be23c",
   "metadata": {},
   "outputs": [
    {
     "data": {
      "text/plain": [
       "89.7"
      ]
     },
     "execution_count": 58,
     "metadata": {},
     "output_type": "execute_result"
    }
   ],
   "source": [
    "acc_lr1=accuracy_score(ytest,ylr1)*100\n",
    "acc_lr1=round(acc_lr1,1)\n",
    "acc_lr1"
   ]
  },
  {
   "cell_type": "code",
   "execution_count": 59,
   "id": "db7b810a",
   "metadata": {},
   "outputs": [],
   "source": [
    "from sklearn import tree\n",
    "from sklearn.tree import DecisionTreeClassifier"
   ]
  },
  {
   "cell_type": "code",
   "execution_count": 60,
   "id": "b32b66d0",
   "metadata": {},
   "outputs": [
    {
     "data": {
      "text/plain": [
       "array([0, 2, 2, 2, 1, 1, 2, 2, 0, 2, 1, 2, 2, 1, 2, 2, 2, 0, 2, 0, 2, 2,\n",
       "       1, 0, 2, 2, 1, 2, 2, 2, 0, 2, 0, 2, 2, 2, 2, 1, 2, 2, 0, 1, 1, 0,\n",
       "       2, 2, 0, 1, 2, 0, 2, 1, 0, 2, 2, 2, 2, 2, 0, 2, 2, 1, 0, 2, 2, 0,\n",
       "       2, 1, 1, 2, 2, 0, 2, 2, 0, 2, 1, 1])"
      ]
     },
     "execution_count": 60,
     "metadata": {},
     "output_type": "execute_result"
    }
   ],
   "source": [
    "dtc=DecisionTreeClassifier()\n",
    "dtcmodel=dtc.fit(xtrainsc,ytrain)\n",
    "ydtc=dtcmodel.predict(xtestsc)\n",
    "ydtc"
   ]
  },
  {
   "cell_type": "code",
   "execution_count": 61,
   "id": "571e17bf",
   "metadata": {},
   "outputs": [
    {
     "name": "stdout",
     "output_type": "stream",
     "text": [
      "              precision    recall  f1-score   support\n",
      "\n",
      "           0       0.47      0.89      0.62         9\n",
      "           1       1.00      0.53      0.70        30\n",
      "           2       0.87      1.00      0.93        39\n",
      "\n",
      "    accuracy                           0.81        78\n",
      "   macro avg       0.78      0.81      0.75        78\n",
      "weighted avg       0.87      0.81      0.80        78\n",
      "\n"
     ]
    }
   ],
   "source": [
    "print(classification_report(ytest,ydtc))"
   ]
  },
  {
   "cell_type": "code",
   "execution_count": 62,
   "id": "1b23d5df",
   "metadata": {},
   "outputs": [
    {
     "data": {
      "text/plain": [
       "80.8"
      ]
     },
     "execution_count": 62,
     "metadata": {},
     "output_type": "execute_result"
    }
   ],
   "source": [
    "acc_dtc=accuracy_score(ytest,ydtc)*100\n",
    "acc_dtc=round(acc_dtc,1)\n",
    "acc_dtc"
   ]
  },
  {
   "cell_type": "code",
   "execution_count": 63,
   "id": "de08ebb8",
   "metadata": {},
   "outputs": [
    {
     "data": {
      "image/png": "[encoded data removed]",
      "text/plain": [
       "<Figure size 1440x1440 with 1 Axes>"
      ]
     },
     "metadata": {
      "needs_background": "light"
     },
     "output_type": "display_data"
    }
   ],
   "source": [
    "fig,ax=plt.subplots(figsize=(20,20))\n",
    "tree.plot_tree(dtcmodel,ax=ax,fontsize=10,filled=True)\n",
    "plt.show()"
   ]
  },
  {
   "cell_type": "code",
   "execution_count": 64,
   "id": "c7e684f8",
   "metadata": {},
   "outputs": [],
   "source": [
    "from sklearn.ensemble import RandomForestClassifier"
   ]
  },
  {
   "cell_type": "code",
   "execution_count": 65,
   "id": "5b18b7df",
   "metadata": {},
   "outputs": [
    {
     "data": {
      "text/plain": [
       "array([1, 2, 2, 2, 0, 1, 2, 2, 0, 2, 1, 2, 1, 1, 2, 2, 2, 0, 2, 0, 2, 2,\n",
       "       1, 0, 2, 1, 1, 2, 2, 2, 0, 2, 0, 2, 2, 2, 2, 1, 2, 2, 0, 1, 1, 0,\n",
       "       2, 2, 0, 1, 2, 1, 2, 1, 1, 2, 2, 2, 2, 2, 0, 2, 2, 1, 0, 2, 2, 1,\n",
       "       2, 1, 1, 2, 2, 0, 2, 2, 1, 2, 1, 1])"
      ]
     },
     "execution_count": 65,
     "metadata": {},
     "output_type": "execute_result"
    }
   ],
   "source": [
    "rfc=RandomForestClassifier(n_estimators=200)\n",
    "rfcmodel=rfc.fit(xtrainsc,ytrain)\n",
    "yrfc=rfcmodel.predict(xtestsc)\n",
    "yrfc"
   ]
  },
  {
   "cell_type": "code",
   "execution_count": 66,
   "id": "6d70530b",
   "metadata": {},
   "outputs": [
    {
     "name": "stdout",
     "output_type": "stream",
     "text": [
      "              precision    recall  f1-score   support\n",
      "\n",
      "           0       0.62      0.89      0.73         9\n",
      "           1       1.00      0.73      0.85        30\n",
      "           2       0.91      1.00      0.95        39\n",
      "\n",
      "    accuracy                           0.88        78\n",
      "   macro avg       0.84      0.87      0.84        78\n",
      "weighted avg       0.91      0.88      0.88        78\n",
      "\n"
     ]
    }
   ],
   "source": [
    "print(classification_report(ytest,yrfc))"
   ]
  },
  {
   "cell_type": "code",
   "execution_count": 67,
   "id": "77075a0a",
   "metadata": {},
   "outputs": [
    {
     "data": {
      "text/plain": [
       "88.5"
      ]
     },
     "execution_count": 67,
     "metadata": {},
     "output_type": "execute_result"
    }
   ],
   "source": [
    "acc_rfc=accuracy_score(ytest,yrfc)*100\n",
    "acc_rfc=round(acc_rfc,1)\n",
    "acc_rfc"
   ]
  },
  {
   "cell_type": "code",
   "execution_count": 68,
   "id": "cdaba230",
   "metadata": {},
   "outputs": [],
   "source": [
    "from xgboost import XGBClassifier"
   ]
  },
  {
   "cell_type": "code",
   "execution_count": 69,
   "id": "fce1e6d0",
   "metadata": {},
   "outputs": [
    {
     "name": "stderr",
     "output_type": "stream",
     "text": [
      "C:\\Users\\soume\\anaconda3\\lib\\site-packages\\xgboost\\sklearn.py:1146: UserWarning: The use of label encoder in XGBClassifier is deprecated and will be removed in a future release. To remove this warning, do the following: 1) Pass option use_label_encoder=False when constructing XGBClassifier object; and 2) Encode your labels (y) as integers starting with 0, i.e. 0, 1, 2, ..., [num_class - 1].\n",
      "  warnings.warn(label_encoder_deprecation_msg, UserWarning)\n"
     ]
    },
    {
     "name": "stdout",
     "output_type": "stream",
     "text": [
      "[22:26:32] WARNING: C:/Users/Administrator/workspace/xgboost-win64_release_1.4.0/src/learner.cc:1095: Starting in XGBoost 1.3.0, the default evaluation metric used with the objective 'multi:softprob' was changed from 'merror' to 'mlogloss'. Explicitly set eval_metric if you'd like to restore the old behavior.\n"
     ]
    },
    {
     "data": {
      "text/plain": [
       "array([1, 2, 2, 2, 0, 1, 2, 2, 0, 2, 1, 2, 1, 1, 2, 2, 2, 0, 2, 0, 2, 2,\n",
       "       2, 2, 2, 1, 1, 2, 2, 2, 1, 2, 0, 2, 2, 2, 2, 1, 2, 2, 0, 1, 1, 0,\n",
       "       2, 2, 0, 1, 2, 0, 2, 1, 1, 2, 2, 2, 2, 2, 0, 2, 2, 1, 0, 2, 2, 1,\n",
       "       2, 1, 0, 2, 2, 0, 2, 2, 1, 2, 1, 1])"
      ]
     },
     "execution_count": 69,
     "metadata": {},
     "output_type": "execute_result"
    }
   ],
   "source": [
    "xgbc=XGBClassifier()\n",
    "xmodel=xgbc.fit(xtrainsc,ytrain)\n",
    "yxg=xmodel.predict(xtestsc)\n",
    "yxg"
   ]
  },
  {
   "cell_type": "code",
   "execution_count": 70,
   "id": "8dabf763",
   "metadata": {},
   "outputs": [
    {
     "name": "stdout",
     "output_type": "stream",
     "text": [
      "              precision    recall  f1-score   support\n",
      "\n",
      "           0       0.46      0.67      0.55         9\n",
      "           1       0.95      0.63      0.76        30\n",
      "           2       0.87      1.00      0.93        39\n",
      "\n",
      "    accuracy                           0.82        78\n",
      "   macro avg       0.76      0.77      0.74        78\n",
      "weighted avg       0.85      0.82      0.82        78\n",
      "\n"
     ]
    }
   ],
   "source": [
    "print(classification_report(ytest,yxg))"
   ]
  },
  {
   "cell_type": "code",
   "execution_count": 71,
   "id": "534c1302",
   "metadata": {},
   "outputs": [
    {
     "data": {
      "text/plain": [
       "82.1"
      ]
     },
     "execution_count": 71,
     "metadata": {},
     "output_type": "execute_result"
    }
   ],
   "source": [
    "acc_xgb=accuracy_score(ytest,yxg)*100\n",
    "acc_xgb=round(acc_xgb,1)\n",
    "acc_xgb"
   ]
  },
  {
   "cell_type": "code",
   "execution_count": 72,
   "id": "5ad2c82a",
   "metadata": {},
   "outputs": [],
   "source": [
    "from sklearn.svm import SVC"
   ]
  },
  {
   "cell_type": "code",
   "execution_count": 73,
   "id": "5e4dc660",
   "metadata": {},
   "outputs": [],
   "source": [
    "svc=SVC(kernel='linear',gamma='auto',probability=True)"
   ]
  },
  {
   "cell_type": "code",
   "execution_count": 74,
   "id": "bedbfb89",
   "metadata": {},
   "outputs": [
    {
     "data": {
      "text/plain": [
       "array([1, 2, 2, 2, 1, 1, 2, 2, 0, 2, 1, 2, 1, 1, 2, 2, 2, 0, 2, 0, 2, 2,\n",
       "       1, 2, 2, 1, 1, 2, 2, 2, 0, 2, 0, 2, 2, 2, 2, 1, 2, 2, 0, 1, 1, 1,\n",
       "       2, 2, 0, 1, 2, 1, 2, 1, 1, 2, 2, 2, 2, 2, 0, 2, 2, 1, 0, 2, 2, 1,\n",
       "       2, 1, 1, 2, 2, 1, 1, 2, 1, 2, 0, 1])"
      ]
     },
     "execution_count": 74,
     "metadata": {},
     "output_type": "execute_result"
    }
   ],
   "source": [
    "svcmodel=svc.fit(xtrainsc,ytrain)\n",
    "ysvc=svcmodel.predict(xtestsc)\n",
    "ysvc"
   ]
  },
  {
   "cell_type": "code",
   "execution_count": 75,
   "id": "b5217580",
   "metadata": {},
   "outputs": [
    {
     "name": "stdout",
     "output_type": "stream",
     "text": [
      "              precision    recall  f1-score   support\n",
      "\n",
      "           0       0.70      0.78      0.74         9\n",
      "           1       1.00      0.83      0.91        30\n",
      "           2       0.91      1.00      0.95        39\n",
      "\n",
      "    accuracy                           0.91        78\n",
      "   macro avg       0.87      0.87      0.87        78\n",
      "weighted avg       0.92      0.91      0.91        78\n",
      "\n"
     ]
    }
   ],
   "source": [
    "print(classification_report(ytest,ysvc))"
   ]
  },
  {
   "cell_type": "code",
   "execution_count": 76,
   "id": "950407e7",
   "metadata": {},
   "outputs": [
    {
     "data": {
      "text/plain": [
       "91.0"
      ]
     },
     "execution_count": 76,
     "metadata": {},
     "output_type": "execute_result"
    }
   ],
   "source": [
    "acc_svc=accuracy_score(ytest,ysvc)*100\n",
    "acc_svc=round(acc_svc,1)\n",
    "acc_svc"
   ]
  },
  {
   "cell_type": "code",
   "execution_count": 77,
   "id": "ddba5214",
   "metadata": {},
   "outputs": [],
   "source": [
    "from sklearn.naive_bayes import GaussianNB"
   ]
  },
  {
   "cell_type": "code",
   "execution_count": 78,
   "id": "513f2715",
   "metadata": {},
   "outputs": [
    {
     "data": {
      "text/plain": [
       "array([1, 2, 2, 2, 1, 1, 2, 2, 1, 2, 1, 2, 1, 1, 2, 2, 2, 0, 2, 0, 2, 2,\n",
       "       2, 2, 2, 1, 1, 2, 2, 2, 0, 2, 0, 2, 2, 2, 2, 2, 2, 2, 1, 1, 1, 1,\n",
       "       2, 2, 0, 1, 2, 0, 2, 0, 1, 2, 2, 2, 2, 2, 0, 2, 2, 1, 0, 2, 2, 1,\n",
       "       2, 1, 0, 2, 2, 1, 2, 2, 0, 2, 0, 1])"
      ]
     },
     "execution_count": 78,
     "metadata": {},
     "output_type": "execute_result"
    }
   ],
   "source": [
    "nb=GaussianNB()\n",
    "nbmodel=nb.fit(xtrainsc,ytrain)\n",
    "ynb=nbmodel.predict(xtestsc)\n",
    "ynb"
   ]
  },
  {
   "cell_type": "code",
   "execution_count": 79,
   "id": "cbeeb09e",
   "metadata": {},
   "outputs": [
    {
     "name": "stdout",
     "output_type": "stream",
     "text": [
      "              precision    recall  f1-score   support\n",
      "\n",
      "           0       0.42      0.56      0.48         9\n",
      "           1       0.90      0.60      0.72        30\n",
      "           2       0.85      1.00      0.92        39\n",
      "\n",
      "    accuracy                           0.79        78\n",
      "   macro avg       0.72      0.72      0.70        78\n",
      "weighted avg       0.82      0.79      0.79        78\n",
      "\n"
     ]
    }
   ],
   "source": [
    "print(classification_report(ytest,ynb))"
   ]
  },
  {
   "cell_type": "code",
   "execution_count": 80,
   "id": "c058fcb5",
   "metadata": {},
   "outputs": [
    {
     "data": {
      "text/plain": [
       "79.5"
      ]
     },
     "execution_count": 80,
     "metadata": {},
     "output_type": "execute_result"
    }
   ],
   "source": [
    "acc_nb=accuracy_score(ytest,ynb)*100\n",
    "acc_nb=round(acc_nb,1)\n",
    "acc_nb"
   ]
  },
  {
   "cell_type": "code",
   "execution_count": 82,
   "id": "53a56ca8",
   "metadata": {},
   "outputs": [],
   "source": [
    "from sklearn.neighbors import KNeighborsClassifier"
   ]
  },
  {
   "cell_type": "code",
   "execution_count": 83,
   "id": "70cc72bf",
   "metadata": {},
   "outputs": [
    {
     "data": {
      "text/plain": [
       "array([1, 2, 2, 2, 1, 1, 2, 2, 1, 2, 1, 2, 0, 1, 2, 2, 2, 0, 1, 0, 2, 2,\n",
       "       1, 0, 2, 1, 1, 2, 2, 2, 0, 2, 0, 2, 2, 2, 2, 2, 2, 2, 0, 1, 1, 0,\n",
       "       2, 0, 0, 1, 2, 1, 2, 1, 1, 2, 2, 2, 1, 2, 1, 2, 2, 1, 0, 2, 2, 0,\n",
       "       2, 1, 1, 1, 2, 0, 1, 2, 0, 2, 0, 1])"
      ]
     },
     "execution_count": 83,
     "metadata": {},
     "output_type": "execute_result"
    }
   ],
   "source": [
    "knn=KNeighborsClassifier(n_neighbors=4)\n",
    "knnmodel=knn.fit(xtrainsc,ytrain)\n",
    "yknn=knnmodel.predict(xtestsc)\n",
    "yknn"
   ]
  },
  {
   "cell_type": "code",
   "execution_count": 84,
   "id": "f95b1701",
   "metadata": {},
   "outputs": [
    {
     "name": "stdout",
     "output_type": "stream",
     "text": [
      "              precision    recall  f1-score   support\n",
      "\n",
      "           0       0.40      0.67      0.50         9\n",
      "           1       0.83      0.67      0.74        30\n",
      "           2       0.95      0.95      0.95        39\n",
      "\n",
      "    accuracy                           0.81        78\n",
      "   macro avg       0.73      0.76      0.73        78\n",
      "weighted avg       0.84      0.81      0.82        78\n",
      "\n"
     ]
    }
   ],
   "source": [
    "print(classification_report(ytest,yknn))"
   ]
  },
  {
   "cell_type": "code",
   "execution_count": 85,
   "id": "a0fe9a56",
   "metadata": {},
   "outputs": [
    {
     "data": {
      "text/plain": [
       "80.8"
      ]
     },
     "execution_count": 85,
     "metadata": {},
     "output_type": "execute_result"
    }
   ],
   "source": [
    "acc_knn=accuracy_score(ytest,yknn)*100\n",
    "acc_knn=round(acc_knn,1)\n",
    "acc_knn"
   ]
  },
  {
   "cell_type": "code",
   "execution_count": 86,
   "id": "ed230643",
   "metadata": {},
   "outputs": [
    {
     "data": {
      "text/html": [
       "<div>\n",
       "<style scoped>\n",
       "    .dataframe tbody tr th:only-of-type {\n",
       "        vertical-align: middle;\n",
       "    }\n",
       "\n",
       "    .dataframe tbody tr th {\n",
       "        vertical-align: top;\n",
       "    }\n",
       "\n",
       "    .dataframe thead th {\n",
       "        text-align: right;\n",
       "    }\n",
       "</style>\n",
       "<table border=\"1\" class=\"dataframe\">\n",
       "  <thead>\n",
       "    <tr style=\"text-align: right;\">\n",
       "      <th></th>\n",
       "      <th>Classification Model</th>\n",
       "      <th>Accuracy Percentage</th>\n",
       "    </tr>\n",
       "  </thead>\n",
       "  <tbody>\n",
       "    <tr>\n",
       "      <th>0</th>\n",
       "      <td>Logistic Regression</td>\n",
       "      <td>89.7</td>\n",
       "    </tr>\n",
       "    <tr>\n",
       "      <th>1</th>\n",
       "      <td>Decision Tree Classifier</td>\n",
       "      <td>80.8</td>\n",
       "    </tr>\n",
       "    <tr>\n",
       "      <th>2</th>\n",
       "      <td>Random Forest Classifier</td>\n",
       "      <td>88.5</td>\n",
       "    </tr>\n",
       "    <tr>\n",
       "      <th>3</th>\n",
       "      <td>XGB Classifier</td>\n",
       "      <td>82.1</td>\n",
       "    </tr>\n",
       "    <tr>\n",
       "      <th>4</th>\n",
       "      <td>Support Vector Classifier</td>\n",
       "      <td>91.0</td>\n",
       "    </tr>\n",
       "    <tr>\n",
       "      <th>5</th>\n",
       "      <td>Naive Bayes Classification</td>\n",
       "      <td>79.5</td>\n",
       "    </tr>\n",
       "    <tr>\n",
       "      <th>6</th>\n",
       "      <td>K-Nearest Neighbors Classification</td>\n",
       "      <td>80.8</td>\n",
       "    </tr>\n",
       "  </tbody>\n",
       "</table>\n",
       "</div>"
      ],
      "text/plain": [
       "                 Classification Model  Accuracy Percentage\n",
       "0                 Logistic Regression                 89.7\n",
       "1            Decision Tree Classifier                 80.8\n",
       "2            Random Forest Classifier                 88.5\n",
       "3                      XGB Classifier                 82.1\n",
       "4           Support Vector Classifier                 91.0\n",
       "5          Naive Bayes Classification                 79.5\n",
       "6  K-Nearest Neighbors Classification                 80.8"
      ]
     },
     "execution_count": 86,
     "metadata": {},
     "output_type": "execute_result"
    }
   ],
   "source": [
    "comparison=pd.DataFrame({'Classification Model':['Logistic Regression','Decision Tree Classifier',\n",
    "                                                'Random Forest Classifier','XGB Classifier','Support Vector Classifier',\n",
    "                                                'Naive Bayes Classification','K-Nearest Neighbors Classification'],\n",
    "                        'Accuracy Percentage':[acc_lr1,acc_dtc,acc_rfc,acc_xgb,acc_svc,acc_nb,acc_knn]})\n",
    "comparison"
   ]
  },
  {
   "cell_type": "markdown",
   "id": "c0045489",
   "metadata": {},
   "source": [
    "As per the above comparison, we can implement the Support Vector Classifier model gives 91% accuracy for predicting the outcome of Liver Disease. As per the prediction, most patients would be suffering from Spondylolisthesis."
   ]
  },
  {
   "cell_type": "markdown",
   "id": "04b8be2c",
   "metadata": {},
   "source": [
    "# Classifying disease from unseen values"
   ]
  },
  {
   "cell_type": "code",
   "execution_count": 90,
   "id": "2d72bd68",
   "metadata": {},
   "outputs": [
    {
     "data": {
      "text/html": [
       "<div>\n",
       "<style scoped>\n",
       "    .dataframe tbody tr th:only-of-type {\n",
       "        vertical-align: middle;\n",
       "    }\n",
       "\n",
       "    .dataframe tbody tr th {\n",
       "        vertical-align: top;\n",
       "    }\n",
       "\n",
       "    .dataframe thead th {\n",
       "        text-align: right;\n",
       "    }\n",
       "</style>\n",
       "<table border=\"1\" class=\"dataframe\">\n",
       "  <thead>\n",
       "    <tr style=\"text-align: right;\">\n",
       "      <th></th>\n",
       "      <th>pelvic_incidence</th>\n",
       "      <th>pelvic_tilt</th>\n",
       "      <th>lumbar_lordosis_angle</th>\n",
       "      <th>sacral_slope</th>\n",
       "      <th>pelvic_radius</th>\n",
       "      <th>degree_spondylolisthesis</th>\n",
       "      <th>class</th>\n",
       "    </tr>\n",
       "  </thead>\n",
       "  <tbody>\n",
       "    <tr>\n",
       "      <th>0</th>\n",
       "      <td>63.027817</td>\n",
       "      <td>22.552586</td>\n",
       "      <td>39.609117</td>\n",
       "      <td>40.475232</td>\n",
       "      <td>98.672917</td>\n",
       "      <td>-0.254400</td>\n",
       "      <td>0</td>\n",
       "    </tr>\n",
       "    <tr>\n",
       "      <th>1</th>\n",
       "      <td>39.056951</td>\n",
       "      <td>10.060991</td>\n",
       "      <td>25.015378</td>\n",
       "      <td>28.995960</td>\n",
       "      <td>114.405425</td>\n",
       "      <td>4.564259</td>\n",
       "      <td>0</td>\n",
       "    </tr>\n",
       "    <tr>\n",
       "      <th>2</th>\n",
       "      <td>68.832021</td>\n",
       "      <td>22.218482</td>\n",
       "      <td>50.092194</td>\n",
       "      <td>46.613539</td>\n",
       "      <td>105.985135</td>\n",
       "      <td>-3.530317</td>\n",
       "      <td>0</td>\n",
       "    </tr>\n",
       "    <tr>\n",
       "      <th>3</th>\n",
       "      <td>69.297008</td>\n",
       "      <td>24.652878</td>\n",
       "      <td>44.311238</td>\n",
       "      <td>44.644130</td>\n",
       "      <td>101.868495</td>\n",
       "      <td>11.211523</td>\n",
       "      <td>0</td>\n",
       "    </tr>\n",
       "    <tr>\n",
       "      <th>4</th>\n",
       "      <td>49.712859</td>\n",
       "      <td>9.652075</td>\n",
       "      <td>28.317406</td>\n",
       "      <td>40.060784</td>\n",
       "      <td>108.168725</td>\n",
       "      <td>7.918501</td>\n",
       "      <td>0</td>\n",
       "    </tr>\n",
       "  </tbody>\n",
       "</table>\n",
       "</div>"
      ],
      "text/plain": [
       "   pelvic_incidence  pelvic_tilt  lumbar_lordosis_angle  sacral_slope  \\\n",
       "0         63.027817    22.552586              39.609117     40.475232   \n",
       "1         39.056951    10.060991              25.015378     28.995960   \n",
       "2         68.832021    22.218482              50.092194     46.613539   \n",
       "3         69.297008    24.652878              44.311238     44.644130   \n",
       "4         49.712859     9.652075              28.317406     40.060784   \n",
       "\n",
       "   pelvic_radius  degree_spondylolisthesis  class  \n",
       "0      98.672917                 -0.254400      0  \n",
       "1     114.405425                  4.564259      0  \n",
       "2     105.985135                 -3.530317      0  \n",
       "3     101.868495                 11.211523      0  \n",
       "4     108.168725                  7.918501      0  "
      ]
     },
     "execution_count": 90,
     "metadata": {},
     "output_type": "execute_result"
    }
   ],
   "source": [
    "df.head()"
   ]
  },
  {
   "cell_type": "code",
   "execution_count": 96,
   "id": "13ac94d1",
   "metadata": {},
   "outputs": [
    {
     "data": {
      "text/plain": [
       "array([[ 70.048971,  54.478123,  50.528741,  45.123456, 130.254565,\n",
       "         10.456789]])"
      ]
     },
     "execution_count": 96,
     "metadata": {},
     "output_type": "execute_result"
    }
   ],
   "source": [
    "input_array=np.asarray([70.048971,54.478123,50.528741,45.123456,130.254565,10.456789])\n",
    "input_reshaped=input_array.reshape(1,-1)\n",
    "input_reshaped"
   ]
  },
  {
   "cell_type": "code",
   "execution_count": 97,
   "id": "9d2755fe",
   "metadata": {},
   "outputs": [
    {
     "data": {
      "text/plain": [
       "array([2])"
      ]
     },
     "execution_count": 97,
     "metadata": {},
     "output_type": "execute_result"
    }
   ],
   "source": [
    "prediction=svcmodel.predict(input_reshaped)\n",
    "prediction"
   ]
  },
  {
   "cell_type": "code",
   "execution_count": 98,
   "id": "634e2735",
   "metadata": {},
   "outputs": [
    {
     "name": "stdout",
     "output_type": "stream",
     "text": [
      "The patient is suffering from Spondylolisthesis and will be requiring urgent treatment\n"
     ]
    }
   ],
   "source": [
    "if prediction[0]==0:\n",
    "    print('The patient is normal and hence will be requiring no treatment for now')\n",
    "elif prediction[0]==1:\n",
    "    print('The patient is suffering from Hernia and will be requiring preliminary to moderate treatment')\n",
    "else:\n",
    "    print('The patient is suffering from Spondylolisthesis and will be requiring urgent treatment')"
   ]
  },
  {
   "cell_type": "code",
   "execution_count": null,
   "id": "ed1e6af7",
   "metadata": {},
   "outputs": [],
   "source": []
  }
 ],
 "metadata": {
  "kernelspec": {
   "display_name": "Python 3",
   "language": "python",
   "name": "python3"
  },
  "language_info": {
   "codemirror_mode": {
    "name": "ipython",
    "version": 3
   },
   "file_extension": ".py",
   "mimetype": "text/x-python",
   "name": "python",
   "nbconvert_exporter": "python",
   "pygments_lexer": "ipython3",
   "version": "3.8.8"
  }
 },
 "nbformat": 4,
 "nbformat_minor": 5
}
