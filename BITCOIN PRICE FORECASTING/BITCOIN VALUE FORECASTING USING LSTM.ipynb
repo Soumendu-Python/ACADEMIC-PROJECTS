{
 "cells": [
  {
   "cell_type": "code",
   "execution_count": 4,
   "id": "9fe2866f",
   "metadata": {},
   "outputs": [],
   "source": [
    "import numpy as np\n",
    "import pandas as pd\n",
    "import matplotlib.pyplot as plt\n",
    "import os\n",
    "os.chdir(r'C:\\Post Graduate Course in Data Analytics\\KAGGLE DATASETS & SCRIPTS\\BITCOIN VALUE TIME SERIES PROJECT')"
   ]
  },
  {
   "cell_type": "code",
   "execution_count": 5,
   "id": "c46da013",
   "metadata": {},
   "outputs": [
    {
     "data": {
      "text/html": [
       "<div>\n",
       "<style scoped>\n",
       "    .dataframe tbody tr th:only-of-type {\n",
       "        vertical-align: middle;\n",
       "    }\n",
       "\n",
       "    .dataframe tbody tr th {\n",
       "        vertical-align: top;\n",
       "    }\n",
       "\n",
       "    .dataframe thead th {\n",
       "        text-align: right;\n",
       "    }\n",
       "</style>\n",
       "<table border=\"1\" class=\"dataframe\">\n",
       "  <thead>\n",
       "    <tr style=\"text-align: right;\">\n",
       "      <th></th>\n",
       "      <th>SNo</th>\n",
       "      <th>Name</th>\n",
       "      <th>Symbol</th>\n",
       "      <th>Date</th>\n",
       "      <th>High</th>\n",
       "      <th>Low</th>\n",
       "      <th>Open</th>\n",
       "      <th>Close</th>\n",
       "      <th>Volume</th>\n",
       "      <th>Marketcap</th>\n",
       "    </tr>\n",
       "  </thead>\n",
       "  <tbody>\n",
       "    <tr>\n",
       "      <th>0</th>\n",
       "      <td>1</td>\n",
       "      <td>Bitcoin</td>\n",
       "      <td>BTC</td>\n",
       "      <td>2013-04-29 23:59:59</td>\n",
       "      <td>147.488007</td>\n",
       "      <td>134.000000</td>\n",
       "      <td>134.444000</td>\n",
       "      <td>144.539993</td>\n",
       "      <td>0.000000e+00</td>\n",
       "      <td>1.603769e+09</td>\n",
       "    </tr>\n",
       "    <tr>\n",
       "      <th>1</th>\n",
       "      <td>2</td>\n",
       "      <td>Bitcoin</td>\n",
       "      <td>BTC</td>\n",
       "      <td>2013-04-30 23:59:59</td>\n",
       "      <td>146.929993</td>\n",
       "      <td>134.050003</td>\n",
       "      <td>144.000000</td>\n",
       "      <td>139.000000</td>\n",
       "      <td>0.000000e+00</td>\n",
       "      <td>1.542813e+09</td>\n",
       "    </tr>\n",
       "    <tr>\n",
       "      <th>2</th>\n",
       "      <td>3</td>\n",
       "      <td>Bitcoin</td>\n",
       "      <td>BTC</td>\n",
       "      <td>2013-05-01 23:59:59</td>\n",
       "      <td>139.889999</td>\n",
       "      <td>107.720001</td>\n",
       "      <td>139.000000</td>\n",
       "      <td>116.989998</td>\n",
       "      <td>0.000000e+00</td>\n",
       "      <td>1.298955e+09</td>\n",
       "    </tr>\n",
       "    <tr>\n",
       "      <th>3</th>\n",
       "      <td>4</td>\n",
       "      <td>Bitcoin</td>\n",
       "      <td>BTC</td>\n",
       "      <td>2013-05-02 23:59:59</td>\n",
       "      <td>125.599998</td>\n",
       "      <td>92.281898</td>\n",
       "      <td>116.379997</td>\n",
       "      <td>105.209999</td>\n",
       "      <td>0.000000e+00</td>\n",
       "      <td>1.168517e+09</td>\n",
       "    </tr>\n",
       "    <tr>\n",
       "      <th>4</th>\n",
       "      <td>5</td>\n",
       "      <td>Bitcoin</td>\n",
       "      <td>BTC</td>\n",
       "      <td>2013-05-03 23:59:59</td>\n",
       "      <td>108.127998</td>\n",
       "      <td>79.099998</td>\n",
       "      <td>106.250000</td>\n",
       "      <td>97.750000</td>\n",
       "      <td>0.000000e+00</td>\n",
       "      <td>1.085995e+09</td>\n",
       "    </tr>\n",
       "    <tr>\n",
       "      <th>...</th>\n",
       "      <td>...</td>\n",
       "      <td>...</td>\n",
       "      <td>...</td>\n",
       "      <td>...</td>\n",
       "      <td>...</td>\n",
       "      <td>...</td>\n",
       "      <td>...</td>\n",
       "      <td>...</td>\n",
       "      <td>...</td>\n",
       "      <td>...</td>\n",
       "    </tr>\n",
       "    <tr>\n",
       "      <th>2986</th>\n",
       "      <td>2987</td>\n",
       "      <td>Bitcoin</td>\n",
       "      <td>BTC</td>\n",
       "      <td>2021-07-02 23:59:59</td>\n",
       "      <td>33939.588699</td>\n",
       "      <td>32770.680780</td>\n",
       "      <td>33549.600177</td>\n",
       "      <td>33897.048590</td>\n",
       "      <td>3.872897e+10</td>\n",
       "      <td>6.354508e+11</td>\n",
       "    </tr>\n",
       "    <tr>\n",
       "      <th>2987</th>\n",
       "      <td>2988</td>\n",
       "      <td>Bitcoin</td>\n",
       "      <td>BTC</td>\n",
       "      <td>2021-07-03 23:59:59</td>\n",
       "      <td>34909.259899</td>\n",
       "      <td>33402.696536</td>\n",
       "      <td>33854.421362</td>\n",
       "      <td>34668.548402</td>\n",
       "      <td>2.438396e+10</td>\n",
       "      <td>6.499397e+11</td>\n",
       "    </tr>\n",
       "    <tr>\n",
       "      <th>2988</th>\n",
       "      <td>2989</td>\n",
       "      <td>Bitcoin</td>\n",
       "      <td>BTC</td>\n",
       "      <td>2021-07-04 23:59:59</td>\n",
       "      <td>35937.567147</td>\n",
       "      <td>34396.477458</td>\n",
       "      <td>34665.564866</td>\n",
       "      <td>35287.779766</td>\n",
       "      <td>2.492431e+10</td>\n",
       "      <td>6.615748e+11</td>\n",
       "    </tr>\n",
       "    <tr>\n",
       "      <th>2989</th>\n",
       "      <td>2990</td>\n",
       "      <td>Bitcoin</td>\n",
       "      <td>BTC</td>\n",
       "      <td>2021-07-05 23:59:59</td>\n",
       "      <td>35284.344430</td>\n",
       "      <td>33213.661034</td>\n",
       "      <td>35284.344430</td>\n",
       "      <td>33746.002456</td>\n",
       "      <td>2.672155e+10</td>\n",
       "      <td>6.326962e+11</td>\n",
       "    </tr>\n",
       "    <tr>\n",
       "      <th>2990</th>\n",
       "      <td>2991</td>\n",
       "      <td>Bitcoin</td>\n",
       "      <td>BTC</td>\n",
       "      <td>2021-07-06 23:59:59</td>\n",
       "      <td>35038.536363</td>\n",
       "      <td>33599.916169</td>\n",
       "      <td>33723.509655</td>\n",
       "      <td>34235.193451</td>\n",
       "      <td>2.650126e+10</td>\n",
       "      <td>6.418992e+11</td>\n",
       "    </tr>\n",
       "  </tbody>\n",
       "</table>\n",
       "<p>2991 rows × 10 columns</p>\n",
       "</div>"
      ],
      "text/plain": [
       "       SNo     Name Symbol                 Date          High           Low  \\\n",
       "0        1  Bitcoin    BTC  2013-04-29 23:59:59    147.488007    134.000000   \n",
       "1        2  Bitcoin    BTC  2013-04-30 23:59:59    146.929993    134.050003   \n",
       "2        3  Bitcoin    BTC  2013-05-01 23:59:59    139.889999    107.720001   \n",
       "3        4  Bitcoin    BTC  2013-05-02 23:59:59    125.599998     92.281898   \n",
       "4        5  Bitcoin    BTC  2013-05-03 23:59:59    108.127998     79.099998   \n",
       "...    ...      ...    ...                  ...           ...           ...   \n",
       "2986  2987  Bitcoin    BTC  2021-07-02 23:59:59  33939.588699  32770.680780   \n",
       "2987  2988  Bitcoin    BTC  2021-07-03 23:59:59  34909.259899  33402.696536   \n",
       "2988  2989  Bitcoin    BTC  2021-07-04 23:59:59  35937.567147  34396.477458   \n",
       "2989  2990  Bitcoin    BTC  2021-07-05 23:59:59  35284.344430  33213.661034   \n",
       "2990  2991  Bitcoin    BTC  2021-07-06 23:59:59  35038.536363  33599.916169   \n",
       "\n",
       "              Open         Close        Volume     Marketcap  \n",
       "0       134.444000    144.539993  0.000000e+00  1.603769e+09  \n",
       "1       144.000000    139.000000  0.000000e+00  1.542813e+09  \n",
       "2       139.000000    116.989998  0.000000e+00  1.298955e+09  \n",
       "3       116.379997    105.209999  0.000000e+00  1.168517e+09  \n",
       "4       106.250000     97.750000  0.000000e+00  1.085995e+09  \n",
       "...            ...           ...           ...           ...  \n",
       "2986  33549.600177  33897.048590  3.872897e+10  6.354508e+11  \n",
       "2987  33854.421362  34668.548402  2.438396e+10  6.499397e+11  \n",
       "2988  34665.564866  35287.779766  2.492431e+10  6.615748e+11  \n",
       "2989  35284.344430  33746.002456  2.672155e+10  6.326962e+11  \n",
       "2990  33723.509655  34235.193451  2.650126e+10  6.418992e+11  \n",
       "\n",
       "[2991 rows x 10 columns]"
      ]
     },
     "execution_count": 5,
     "metadata": {},
     "output_type": "execute_result"
    }
   ],
   "source": [
    "df=pd.read_csv('coin_Bitcoin.csv')\n",
    "df"
   ]
  },
  {
   "cell_type": "code",
   "execution_count": 6,
   "id": "c3e646a5",
   "metadata": {},
   "outputs": [
    {
     "name": "stdout",
     "output_type": "stream",
     "text": [
      "<class 'pandas.core.frame.DataFrame'>\n",
      "RangeIndex: 2991 entries, 0 to 2990\n",
      "Data columns (total 10 columns):\n",
      " #   Column     Non-Null Count  Dtype  \n",
      "---  ------     --------------  -----  \n",
      " 0   SNo        2991 non-null   int64  \n",
      " 1   Name       2991 non-null   object \n",
      " 2   Symbol     2991 non-null   object \n",
      " 3   Date       2991 non-null   object \n",
      " 4   High       2991 non-null   float64\n",
      " 5   Low        2991 non-null   float64\n",
      " 6   Open       2991 non-null   float64\n",
      " 7   Close      2991 non-null   float64\n",
      " 8   Volume     2991 non-null   float64\n",
      " 9   Marketcap  2991 non-null   float64\n",
      "dtypes: float64(6), int64(1), object(3)\n",
      "memory usage: 233.8+ KB\n"
     ]
    }
   ],
   "source": [
    "df.info()"
   ]
  },
  {
   "cell_type": "code",
   "execution_count": 7,
   "id": "8855e687",
   "metadata": {},
   "outputs": [
    {
     "data": {
      "text/plain": [
       "0         144.539993\n",
       "1         139.000000\n",
       "2         116.989998\n",
       "3         105.209999\n",
       "4          97.750000\n",
       "            ...     \n",
       "2986    33897.048590\n",
       "2987    34668.548402\n",
       "2988    35287.779766\n",
       "2989    33746.002456\n",
       "2990    34235.193451\n",
       "Name: Close, Length: 2991, dtype: float64"
      ]
     },
     "execution_count": 7,
     "metadata": {},
     "output_type": "execute_result"
    }
   ],
   "source": [
    "df1=df.reset_index()['Close']\n",
    "df1"
   ]
  },
  {
   "cell_type": "code",
   "execution_count": 8,
   "id": "aa9f146e",
   "metadata": {},
   "outputs": [
    {
     "data": {
      "text/plain": [
       "[<matplotlib.lines.Line2D at 0x1e666453e50>]"
      ]
     },
     "execution_count": 8,
     "metadata": {},
     "output_type": "execute_result"
    },
    {
     "data": {
      "image/png": "[encoded data removed]",
      "text/plain": [
       "<Figure size 432x288 with 1 Axes>"
      ]
     },
     "metadata": {
      "needs_background": "light"
     },
     "output_type": "display_data"
    }
   ],
   "source": [
    "plt.plot(df1)"
   ]
  },
  {
   "cell_type": "code",
   "execution_count": 9,
   "id": "8affed0c",
   "metadata": {},
   "outputs": [],
   "source": [
    "from sklearn.preprocessing import MinMaxScaler"
   ]
  },
  {
   "cell_type": "code",
   "execution_count": 10,
   "id": "98c2842e",
   "metadata": {},
   "outputs": [],
   "source": [
    "sc=MinMaxScaler(feature_range=(0,1))\n",
    "df1=sc.fit_transform(np.array(df1).reshape(-1,1))"
   ]
  },
  {
   "cell_type": "code",
   "execution_count": 11,
   "id": "178ca251",
   "metadata": {},
   "outputs": [
    {
     "data": {
      "text/plain": [
       "array([[0.00119979],\n",
       "       [0.00111246],\n",
       "       [0.00076549],\n",
       "       ...,\n",
       "       [0.5552035 ],\n",
       "       [0.53089867],\n",
       "       [0.53861036]])"
      ]
     },
     "execution_count": 11,
     "metadata": {},
     "output_type": "execute_result"
    }
   ],
   "source": [
    "df1"
   ]
  },
  {
   "cell_type": "code",
   "execution_count": 12,
   "id": "87479d64",
   "metadata": {},
   "outputs": [],
   "source": [
    "train_size=int(len(df1)*0.75)\n",
    "test_size=len(df1)-train_size\n",
    "train_data,test_data=df1[0:train_size,:],df1[train_size:len(df1),:1]"
   ]
  },
  {
   "cell_type": "code",
   "execution_count": 13,
   "id": "14e0c959",
   "metadata": {},
   "outputs": [
    {
     "data": {
      "text/plain": [
       "2243"
      ]
     },
     "execution_count": 13,
     "metadata": {},
     "output_type": "execute_result"
    }
   ],
   "source": [
    "len(train_data)"
   ]
  },
  {
   "cell_type": "code",
   "execution_count": 14,
   "id": "6937dc24",
   "metadata": {},
   "outputs": [
    {
     "data": {
      "text/plain": [
       "748"
      ]
     },
     "execution_count": 14,
     "metadata": {},
     "output_type": "execute_result"
    }
   ],
   "source": [
    "len(test_data)"
   ]
  },
  {
   "cell_type": "code",
   "execution_count": 15,
   "id": "6bf16946",
   "metadata": {},
   "outputs": [],
   "source": [
    "def create_dataset(dataset,time_step):\n",
    "    x,y=[],[]\n",
    "    for i in range(len(dataset)-time_step-1):\n",
    "        a=dataset[i:(i+time_step),0]\n",
    "        x.append(a)\n",
    "        y.append(dataset[i+time_step,0])\n",
    "    return np.array(x),np.array(y)"
   ]
  },
  {
   "cell_type": "code",
   "execution_count": 16,
   "id": "4e1a2e36",
   "metadata": {},
   "outputs": [],
   "source": [
    "xtrain,ytrain=create_dataset(train_data,150)"
   ]
  },
  {
   "cell_type": "code",
   "execution_count": 17,
   "id": "0d91dc35",
   "metadata": {},
   "outputs": [
    {
     "data": {
      "text/plain": [
       "(2092, 150)"
      ]
     },
     "execution_count": 17,
     "metadata": {},
     "output_type": "execute_result"
    }
   ],
   "source": [
    "xtrain.shape"
   ]
  },
  {
   "cell_type": "code",
   "execution_count": 18,
   "id": "2c00760c",
   "metadata": {},
   "outputs": [
    {
     "data": {
      "text/plain": [
       "(2092,)"
      ]
     },
     "execution_count": 18,
     "metadata": {},
     "output_type": "execute_result"
    }
   ],
   "source": [
    "ytrain.shape"
   ]
  },
  {
   "cell_type": "code",
   "execution_count": 19,
   "id": "214c2f4e",
   "metadata": {},
   "outputs": [],
   "source": [
    "xtest,ytest=create_dataset(test_data,150)"
   ]
  },
  {
   "cell_type": "code",
   "execution_count": 20,
   "id": "3d4f39ff",
   "metadata": {},
   "outputs": [
    {
     "data": {
      "text/plain": [
       "(597, 150)"
      ]
     },
     "execution_count": 20,
     "metadata": {},
     "output_type": "execute_result"
    }
   ],
   "source": [
    "xtest.shape"
   ]
  },
  {
   "cell_type": "code",
   "execution_count": 21,
   "id": "3a89f9e2",
   "metadata": {},
   "outputs": [
    {
     "data": {
      "text/plain": [
       "(597,)"
      ]
     },
     "execution_count": 21,
     "metadata": {},
     "output_type": "execute_result"
    }
   ],
   "source": [
    "ytest.shape"
   ]
  },
  {
   "cell_type": "code",
   "execution_count": 22,
   "id": "7a45691d",
   "metadata": {},
   "outputs": [],
   "source": [
    "xtrain=xtrain.reshape(xtrain.shape[0],xtrain.shape[1],1)\n",
    "xtest=xtest.reshape(xtest.shape[0],xtest.shape[1],1)"
   ]
  },
  {
   "cell_type": "code",
   "execution_count": 23,
   "id": "a74e6057",
   "metadata": {},
   "outputs": [
    {
     "name": "stdout",
     "output_type": "stream",
     "text": [
      "(2092, 150, 1) (597, 150, 1)\n"
     ]
    }
   ],
   "source": [
    "print(xtrain.shape,xtest.shape)"
   ]
  },
  {
   "cell_type": "code",
   "execution_count": 24,
   "id": "00e09d77",
   "metadata": {},
   "outputs": [],
   "source": [
    "from keras.models import Sequential\n",
    "from keras.layers import LSTM,Dense"
   ]
  },
  {
   "cell_type": "code",
   "execution_count": 25,
   "id": "1a361f13",
   "metadata": {},
   "outputs": [],
   "source": [
    "model=Sequential()\n",
    "model.add(LSTM(50,return_sequences=True,input_shape=(150,1)))\n",
    "model.add(LSTM(50,return_sequences=True))\n",
    "model.add(LSTM(50,return_sequences=True))\n",
    "model.add(LSTM(50))\n",
    "model.add(Dense(1))"
   ]
  },
  {
   "cell_type": "code",
   "execution_count": 26,
   "id": "93161055",
   "metadata": {},
   "outputs": [
    {
     "name": "stdout",
     "output_type": "stream",
     "text": [
      "Model: \"sequential\"\n",
      "_________________________________________________________________\n",
      "Layer (type)                 Output Shape              Param #   \n",
      "=================================================================\n",
      "lstm (LSTM)                  (None, 150, 50)           10400     \n",
      "_________________________________________________________________\n",
      "lstm_1 (LSTM)                (None, 150, 50)           20200     \n",
      "_________________________________________________________________\n",
      "lstm_2 (LSTM)                (None, 150, 50)           20200     \n",
      "_________________________________________________________________\n",
      "lstm_3 (LSTM)                (None, 50)                20200     \n",
      "_________________________________________________________________\n",
      "dense (Dense)                (None, 1)                 51        \n",
      "=================================================================\n",
      "Total params: 71,051\n",
      "Trainable params: 71,051\n",
      "Non-trainable params: 0\n",
      "_________________________________________________________________\n"
     ]
    }
   ],
   "source": [
    "model.summary()"
   ]
  },
  {
   "cell_type": "code",
   "execution_count": 27,
   "id": "396159a6",
   "metadata": {},
   "outputs": [],
   "source": [
    "model.compile(loss='mean_squared_error',optimizer='adam')"
   ]
  },
  {
   "cell_type": "code",
   "execution_count": 28,
   "id": "faa146e4",
   "metadata": {},
   "outputs": [
    {
     "name": "stdout",
     "output_type": "stream",
     "text": [
      "Epoch 1/100\n",
      "21/21 [==============================] - 27s 845ms/step - loss: 0.0011 - val_loss: 0.0174\n",
      "Epoch 2/100\n",
      "21/21 [==============================] - 15s 704ms/step - loss: 2.6114e-04 - val_loss: 0.0130\n",
      "Epoch 3/100\n",
      "21/21 [==============================] - 14s 672ms/step - loss: 1.9216e-04 - val_loss: 0.0099\n",
      "Epoch 4/100\n",
      "21/21 [==============================] - 14s 673ms/step - loss: 1.6854e-04 - val_loss: 0.0131\n",
      "Epoch 5/100\n",
      "21/21 [==============================] - 14s 652ms/step - loss: 1.4489e-04 - val_loss: 0.0146\n",
      "Epoch 6/100\n",
      "21/21 [==============================] - 16s 784ms/step - loss: 1.3919e-04 - val_loss: 0.0124\n",
      "Epoch 7/100\n",
      "21/21 [==============================] - 13s 618ms/step - loss: 1.2009e-04 - val_loss: 0.0198\n",
      "Epoch 8/100\n",
      "21/21 [==============================] - 13s 643ms/step - loss: 1.2738e-04 - val_loss: 0.0198\n",
      "Epoch 9/100\n",
      "21/21 [==============================] - 14s 681ms/step - loss: 1.2788e-04 - val_loss: 0.0197\n",
      "Epoch 10/100\n",
      "21/21 [==============================] - 15s 698ms/step - loss: 1.0723e-04 - val_loss: 0.0219\n",
      "Epoch 11/100\n",
      "21/21 [==============================] - 15s 705ms/step - loss: 1.0801e-04 - val_loss: 0.0271\n",
      "Epoch 12/100\n",
      "21/21 [==============================] - 13s 618ms/step - loss: 9.6566e-05 - val_loss: 0.0234\n",
      "Epoch 13/100\n",
      "21/21 [==============================] - 13s 633ms/step - loss: 9.6077e-05 - val_loss: 0.0259\n",
      "Epoch 14/100\n",
      "21/21 [==============================] - 13s 614ms/step - loss: 9.1962e-05 - val_loss: 0.0200\n",
      "Epoch 15/100\n",
      "21/21 [==============================] - 13s 621ms/step - loss: 1.1499e-04 - val_loss: 0.0191\n",
      "Epoch 16/100\n",
      "21/21 [==============================] - 14s 678ms/step - loss: 9.8538e-05 - val_loss: 0.0184\n",
      "Epoch 17/100\n",
      "21/21 [==============================] - 14s 669ms/step - loss: 8.7894e-05 - val_loss: 0.0189\n",
      "Epoch 18/100\n",
      "21/21 [==============================] - 16s 785ms/step - loss: 8.5890e-05 - val_loss: 0.0225\n",
      "Epoch 19/100\n",
      "21/21 [==============================] - 14s 689ms/step - loss: 8.0129e-05 - val_loss: 0.0117\n",
      "Epoch 20/100\n",
      "21/21 [==============================] - 17s 816ms/step - loss: 8.7579e-05 - val_loss: 0.0128\n",
      "Epoch 21/100\n",
      "21/21 [==============================] - 16s 783ms/step - loss: 7.6142e-05 - val_loss: 0.0131\n",
      "Epoch 22/100\n",
      "21/21 [==============================] - 14s 695ms/step - loss: 8.5221e-05 - val_loss: 0.0094\n",
      "Epoch 23/100\n",
      "21/21 [==============================] - 14s 648ms/step - loss: 7.7009e-05 - val_loss: 0.0092\n",
      "Epoch 24/100\n",
      "21/21 [==============================] - 15s 729ms/step - loss: 7.6375e-05 - val_loss: 0.0139\n",
      "Epoch 25/100\n",
      "21/21 [==============================] - 17s 798ms/step - loss: 8.2124e-05 - val_loss: 0.0127\n",
      "Epoch 26/100\n",
      "21/21 [==============================] - 19s 898ms/step - loss: 7.6957e-05 - val_loss: 0.0119\n",
      "Epoch 27/100\n",
      "21/21 [==============================] - 17s 764ms/step - loss: 7.2512e-05 - val_loss: 0.0081\n",
      "Epoch 28/100\n",
      "21/21 [==============================] - 15s 731ms/step - loss: 6.7353e-05 - val_loss: 0.0106\n",
      "Epoch 29/100\n",
      "21/21 [==============================] - 16s 754ms/step - loss: 6.1209e-05 - val_loss: 0.0095\n",
      "Epoch 30/100\n",
      "21/21 [==============================] - 17s 789ms/step - loss: 6.1723e-05 - val_loss: 0.0071\n",
      "Epoch 31/100\n",
      "21/21 [==============================] - 21s 1s/step - loss: 5.6033e-05 - val_loss: 0.0096\n",
      "Epoch 32/100\n",
      "21/21 [==============================] - 16s 749ms/step - loss: 5.8641e-05 - val_loss: 0.0087\n",
      "Epoch 33/100\n",
      "21/21 [==============================] - 15s 721ms/step - loss: 5.3486e-05 - val_loss: 0.0069\n",
      "Epoch 34/100\n",
      "21/21 [==============================] - 16s 755ms/step - loss: 5.4084e-05 - val_loss: 0.0101\n",
      "Epoch 35/100\n",
      "21/21 [==============================] - 15s 709ms/step - loss: 5.5016e-05 - val_loss: 0.0058\n",
      "Epoch 36/100\n",
      "21/21 [==============================] - 16s 790ms/step - loss: 5.4049e-05 - val_loss: 0.0049\n",
      "Epoch 37/100\n",
      "21/21 [==============================] - 15s 664ms/step - loss: 5.4434e-05 - val_loss: 0.0071\n",
      "Epoch 38/100\n",
      "21/21 [==============================] - 14s 696ms/step - loss: 5.6465e-05 - val_loss: 0.0078\n",
      "Epoch 39/100\n",
      "21/21 [==============================] - 15s 724ms/step - loss: 5.9025e-05 - val_loss: 0.0095\n",
      "Epoch 40/100\n",
      "21/21 [==============================] - 15s 727ms/step - loss: 6.3493e-05 - val_loss: 0.0075\n",
      "Epoch 41/100\n",
      "21/21 [==============================] - 14s 694ms/step - loss: 4.8837e-05 - val_loss: 0.0060\n",
      "Epoch 42/100\n",
      "21/21 [==============================] - 16s 741ms/step - loss: 4.7244e-05 - val_loss: 0.0069\n",
      "Epoch 43/100\n",
      "21/21 [==============================] - 13s 638ms/step - loss: 5.3841e-05 - val_loss: 0.0059\n",
      "Epoch 44/100\n",
      "21/21 [==============================] - 14s 684ms/step - loss: 5.0320e-05 - val_loss: 0.0090\n",
      "Epoch 45/100\n",
      "21/21 [==============================] - 15s 702ms/step - loss: 4.8367e-05 - val_loss: 0.0046\n",
      "Epoch 46/100\n",
      "21/21 [==============================] - 14s 683ms/step - loss: 4.8156e-05 - val_loss: 0.0055\n",
      "Epoch 47/100\n",
      "21/21 [==============================] - 16s 760ms/step - loss: 5.1710e-05 - val_loss: 0.0068\n",
      "Epoch 48/100\n",
      "21/21 [==============================] - 14s 669ms/step - loss: 4.4742e-05 - val_loss: 0.0064\n",
      "Epoch 49/100\n",
      "21/21 [==============================] - 16s 773ms/step - loss: 4.5458e-05 - val_loss: 0.0049\n",
      "Epoch 50/100\n",
      "21/21 [==============================] - 16s 767ms/step - loss: 4.4840e-05 - val_loss: 0.0068\n",
      "Epoch 51/100\n",
      "21/21 [==============================] - 22s 1s/step - loss: 4.4240e-05 - val_loss: 0.0051\n",
      "Epoch 52/100\n",
      "21/21 [==============================] - 23s 1s/step - loss: 4.6903e-05 - val_loss: 0.0057\n",
      "Epoch 53/100\n",
      "21/21 [==============================] - 18s 833ms/step - loss: 4.2761e-05 - val_loss: 0.0076\n",
      "Epoch 54/100\n",
      "21/21 [==============================] - 16s 753ms/step - loss: 4.5251e-05 - val_loss: 0.0045\n",
      "Epoch 55/100\n",
      "21/21 [==============================] - 16s 753ms/step - loss: 4.6265e-05 - val_loss: 0.0034\n",
      "Epoch 56/100\n",
      "21/21 [==============================] - 14s 658ms/step - loss: 4.5045e-05 - val_loss: 0.0081\n",
      "Epoch 57/100\n",
      "21/21 [==============================] - 15s 737ms/step - loss: 4.4384e-05 - val_loss: 0.0059\n",
      "Epoch 58/100\n",
      "21/21 [==============================] - 16s 763ms/step - loss: 4.3858e-05 - val_loss: 0.0045\n",
      "Epoch 59/100\n",
      "21/21 [==============================] - 17s 838ms/step - loss: 4.6429e-05 - val_loss: 0.0031\n",
      "Epoch 60/100\n",
      "21/21 [==============================] - 20s 937ms/step - loss: 5.4557e-05 - val_loss: 0.0021\n",
      "Epoch 61/100\n",
      "21/21 [==============================] - 18s 856ms/step - loss: 5.5195e-05 - val_loss: 0.0044\n",
      "Epoch 62/100\n",
      "21/21 [==============================] - 15s 700ms/step - loss: 4.2258e-05 - val_loss: 0.0032\n",
      "Epoch 63/100\n",
      "21/21 [==============================] - 13s 644ms/step - loss: 3.9543e-05 - val_loss: 0.0061\n",
      "Epoch 64/100\n",
      "21/21 [==============================] - 14s 653ms/step - loss: 4.1019e-05 - val_loss: 0.0031\n",
      "Epoch 65/100\n",
      "21/21 [==============================] - 13s 620ms/step - loss: 4.7323e-05 - val_loss: 0.0032\n",
      "Epoch 66/100\n",
      "21/21 [==============================] - 11s 545ms/step - loss: 4.4431e-05 - val_loss: 0.0078\n",
      "Epoch 67/100\n",
      "21/21 [==============================] - 15s 721ms/step - loss: 4.3450e-05 - val_loss: 0.0051\n",
      "Epoch 68/100\n",
      "21/21 [==============================] - 13s 622ms/step - loss: 4.5833e-05 - val_loss: 0.0071\n",
      "Epoch 69/100\n",
      "21/21 [==============================] - 13s 598ms/step - loss: 4.4838e-05 - val_loss: 0.0053\n",
      "Epoch 70/100\n",
      "21/21 [==============================] - 13s 627ms/step - loss: 4.0172e-05 - val_loss: 0.0060\n",
      "Epoch 71/100\n",
      "21/21 [==============================] - 13s 627ms/step - loss: 4.0056e-05 - val_loss: 0.0048\n",
      "Epoch 72/100\n",
      "21/21 [==============================] - 16s 760ms/step - loss: 3.5577e-05 - val_loss: 0.0057\n",
      "Epoch 73/100\n",
      "21/21 [==============================] - 13s 618ms/step - loss: 4.0072e-05 - val_loss: 0.0030\n",
      "Epoch 74/100\n",
      "21/21 [==============================] - 12s 588ms/step - loss: 4.3385e-05 - val_loss: 0.0037\n",
      "Epoch 75/100\n",
      "21/21 [==============================] - 13s 609ms/step - loss: 4.2616e-05 - val_loss: 0.0059\n",
      "Epoch 76/100\n",
      "21/21 [==============================] - 13s 638ms/step - loss: 4.1064e-05 - val_loss: 0.0060\n",
      "Epoch 77/100\n",
      "21/21 [==============================] - 12s 550ms/step - loss: 3.5174e-05 - val_loss: 0.0065\n"
     ]
    },
    {
     "name": "stdout",
     "output_type": "stream",
     "text": [
      "Epoch 78/100\n",
      "21/21 [==============================] - 12s 552ms/step - loss: 3.4277e-05 - val_loss: 0.0030\n",
      "Epoch 79/100\n",
      "21/21 [==============================] - 11s 545ms/step - loss: 4.2604e-05 - val_loss: 0.0036\n",
      "Epoch 80/100\n",
      "21/21 [==============================] - 12s 580ms/step - loss: 3.9263e-05 - val_loss: 0.0059\n",
      "Epoch 81/100\n",
      "21/21 [==============================] - 13s 601ms/step - loss: 3.2539e-05 - val_loss: 0.0032\n",
      "Epoch 82/100\n",
      "21/21 [==============================] - 12s 598ms/step - loss: 3.3270e-05 - val_loss: 0.0043\n",
      "Epoch 83/100\n",
      "21/21 [==============================] - 12s 571ms/step - loss: 3.2878e-05 - val_loss: 0.0035\n",
      "Epoch 84/100\n",
      "21/21 [==============================] - 13s 600ms/step - loss: 3.1944e-05 - val_loss: 0.0043\n",
      "Epoch 85/100\n",
      "21/21 [==============================] - 12s 596ms/step - loss: 3.5098e-05 - val_loss: 0.0031\n",
      "Epoch 86/100\n",
      "21/21 [==============================] - 12s 597ms/step - loss: 3.2458e-05 - val_loss: 0.0046\n",
      "Epoch 87/100\n",
      "21/21 [==============================] - 13s 601ms/step - loss: 3.4493e-05 - val_loss: 0.0050\n",
      "Epoch 88/100\n",
      "21/21 [==============================] - 13s 612ms/step - loss: 3.2152e-05 - val_loss: 0.0044\n",
      "Epoch 89/100\n",
      "21/21 [==============================] - 14s 673ms/step - loss: 3.2714e-05 - val_loss: 0.0037\n",
      "Epoch 90/100\n",
      "21/21 [==============================] - 13s 607ms/step - loss: 3.3365e-05 - val_loss: 0.0048\n",
      "Epoch 91/100\n",
      "21/21 [==============================] - 13s 609ms/step - loss: 2.9513e-05 - val_loss: 0.0040\n",
      "Epoch 92/100\n",
      "21/21 [==============================] - 13s 621ms/step - loss: 2.7006e-05 - val_loss: 0.0034\n",
      "Epoch 93/100\n",
      "21/21 [==============================] - 15s 719ms/step - loss: 2.6699e-05 - val_loss: 0.0038\n",
      "Epoch 94/100\n",
      "21/21 [==============================] - 20s 951ms/step - loss: 2.4990e-05 - val_loss: 0.0055\n",
      "Epoch 95/100\n",
      "21/21 [==============================] - 22s 1s/step - loss: 2.6098e-05 - val_loss: 0.0053\n",
      "Epoch 96/100\n",
      "21/21 [==============================] - 18s 867ms/step - loss: 3.4822e-05 - val_loss: 0.0049\n",
      "Epoch 97/100\n",
      "21/21 [==============================] - 15s 699ms/step - loss: 2.7943e-05 - val_loss: 0.0036\n",
      "Epoch 98/100\n",
      "21/21 [==============================] - 15s 701ms/step - loss: 2.5063e-05 - val_loss: 0.0043\n",
      "Epoch 99/100\n",
      "21/21 [==============================] - 15s 713ms/step - loss: 2.5291e-05 - val_loss: 0.0049\n",
      "Epoch 100/100\n",
      "21/21 [==============================] - 15s 721ms/step - loss: 2.5573e-05 - val_loss: 0.0032\n"
     ]
    }
   ],
   "source": [
    "history=model.fit(xtrain,ytrain,validation_data=(xtest,ytest),epochs=100,batch_size=100,verbose=1)"
   ]
  },
  {
   "cell_type": "code",
   "execution_count": 29,
   "id": "0c5c0805",
   "metadata": {},
   "outputs": [],
   "source": [
    "train_predict=model.predict(xtrain)\n",
    "test_predict=model.predict(xtest)"
   ]
  },
  {
   "cell_type": "code",
   "execution_count": 30,
   "id": "caa088f8",
   "metadata": {},
   "outputs": [],
   "source": [
    "train_predict=sc.inverse_transform(train_predict)\n",
    "test_predict=sc.inverse_transform(test_predict)"
   ]
  },
  {
   "cell_type": "code",
   "execution_count": 31,
   "id": "3fec82d6",
   "metadata": {},
   "outputs": [],
   "source": [
    "from sklearn.metrics import mean_squared_error"
   ]
  },
  {
   "cell_type": "code",
   "execution_count": 32,
   "id": "6d8496da",
   "metadata": {},
   "outputs": [
    {
     "data": {
      "text/plain": [
       "4437.863378222285"
      ]
     },
     "execution_count": 32,
     "metadata": {},
     "output_type": "execute_result"
    }
   ],
   "source": [
    "np.sqrt(mean_squared_error(ytrain,train_predict))"
   ]
  },
  {
   "cell_type": "code",
   "execution_count": 33,
   "id": "e7996d5e",
   "metadata": {},
   "outputs": [
    {
     "data": {
      "text/plain": [
       "24658.209221929683"
      ]
     },
     "execution_count": 33,
     "metadata": {},
     "output_type": "execute_result"
    }
   ],
   "source": [
    "np.sqrt(mean_squared_error(ytest,test_predict))"
   ]
  },
  {
   "cell_type": "code",
   "execution_count": 34,
   "id": "7b2cf58b",
   "metadata": {},
   "outputs": [],
   "source": [
    "look_back=150\n",
    "trainpredictplot=np.empty_like(df1)\n",
    "trainpredictplot[:,:]=np.nan\n",
    "trainpredictplot[look_back:len(train_predict)+look_back,:]=train_predict\n",
    "\n",
    "testpredictplot=np.empty_like(df1)\n",
    "testpredictplot[:,:]=np.nan\n",
    "testpredictplot[len(train_predict)+(look_back*2)+1:len(df1)-1,:]=test_predict\n"
   ]
  },
  {
   "cell_type": "code",
   "execution_count": 35,
   "id": "4510b8a8",
   "metadata": {},
   "outputs": [
    {
     "data": {
      "text/plain": [
       "array([[nan],\n",
       "       [nan],\n",
       "       [nan],\n",
       "       ...,\n",
       "       [nan],\n",
       "       [nan],\n",
       "       [nan]])"
      ]
     },
     "execution_count": 35,
     "metadata": {},
     "output_type": "execute_result"
    }
   ],
   "source": [
    "trainpredictplot"
   ]
  },
  {
   "cell_type": "code",
   "execution_count": 36,
   "id": "d2c8a93b",
   "metadata": {},
   "outputs": [
    {
     "data": {
      "image/png": "[encoded data removed]",
      "text/plain": [
       "<Figure size 432x288 with 1 Axes>"
      ]
     },
     "metadata": {
      "needs_background": "light"
     },
     "output_type": "display_data"
    }
   ],
   "source": [
    "plt.plot(sc.inverse_transform(df1))\n",
    "plt.plot(trainpredictplot)\n",
    "plt.plot(testpredictplot)\n",
    "plt.show()"
   ]
  },
  {
   "cell_type": "code",
   "execution_count": 37,
   "id": "32e39693",
   "metadata": {},
   "outputs": [
    {
     "data": {
      "text/plain": [
       "748"
      ]
     },
     "execution_count": 37,
     "metadata": {},
     "output_type": "execute_result"
    }
   ],
   "source": [
    "len(test_data)"
   ]
  },
  {
   "cell_type": "code",
   "execution_count": 54,
   "id": "1436dc68",
   "metadata": {},
   "outputs": [
    {
     "data": {
      "text/plain": [
       "(1, 150)"
      ]
     },
     "execution_count": 54,
     "metadata": {},
     "output_type": "execute_result"
    }
   ],
   "source": [
    "x_input=test_data[598:].reshape(1,-1)\n",
    "x_input.shape"
   ]
  },
  {
   "cell_type": "code",
   "execution_count": 55,
   "id": "124656e6",
   "metadata": {},
   "outputs": [
    {
     "data": {
      "text/plain": [
       "array([[0.61220137, 0.72716975, 0.73165687, 0.70701875, 0.75417167,\n",
       "        0.74779538, 0.74150022, 0.76690847, 0.75473485, 0.77451595,\n",
       "        0.82100661, 0.8136099 , 0.8799508 , 0.88328314, 0.9059902 ,\n",
       "        0.85345417, 0.76859739, 0.78248414, 0.74131634, 0.7294287 ,\n",
       "        0.72704344, 0.71048034, 0.78131614, 0.76157542, 0.79561427,\n",
       "        0.7644473 , 0.77021917, 0.76998392, 0.80615181, 0.82254385,\n",
       "        0.86317748, 0.88184905, 0.91017053, 0.90271354, 0.96436711,\n",
       "        0.93377254, 0.88025137, 0.89440287, 0.9269715 , 0.9110186 ,\n",
       "        0.91870729, 0.91818691, 0.90572973, 0.85852749, 0.8618348 ,\n",
       "        0.83086325, 0.81399399, 0.86811475, 0.8812967 , 0.88093783,\n",
       "        0.90930471, 0.92770926, 0.92772723, 0.93051709, 0.93506514,\n",
       "        0.90699825, 0.9252006 , 0.92991918, 0.91627497, 0.88248574,\n",
       "        0.91834946, 0.91710487, 0.94151145, 0.94800202, 0.94309128,\n",
       "        1.        , 0.99379267, 0.99701353, 0.96956463, 0.95555079,\n",
       "        0.88512225, 0.87736758, 0.88917124, 0.84870551, 0.81491005,\n",
       "        0.8043698 , 0.78793121, 0.7714322 , 0.8505289 , 0.86647219,\n",
       "        0.86318674, 0.84317261, 0.90930436, 0.91053196, 0.89166268,\n",
       "        0.90063586, 0.83967974, 0.90416254, 0.88796499, 0.90309682,\n",
       "        0.92591345, 0.91690487, 0.8795041 , 0.89282128, 0.77373819,\n",
       "        0.78265531, 0.78524602, 0.73605637, 0.73126204, 0.6852536 ,\n",
       "        0.67535196, 0.58223368, 0.64182691, 0.58699841, 0.59065475,\n",
       "        0.54705033, 0.60908854, 0.6043001 , 0.61836131, 0.60484782,\n",
       "        0.56166407, 0.54461452, 0.56135703, 0.58744237, 0.57722831,\n",
       "        0.59126244, 0.61701456, 0.5805306 , 0.55936806, 0.56426155,\n",
       "        0.52797766, 0.52658921, 0.58763576, 0.57750694, 0.58746674,\n",
       "        0.55937686, 0.61526623, 0.63293182, 0.63589219, 0.60343053,\n",
       "        0.59880282, 0.56307714, 0.56037555, 0.56167495, 0.49827775,\n",
       "        0.51134571, 0.53053651, 0.54534548, 0.49766431, 0.50631092,\n",
       "        0.54514383, 0.54174966, 0.56434668, 0.55131066, 0.52815752,\n",
       "        0.53327979, 0.54544183, 0.5552035 , 0.53089867, 0.53861036]])"
      ]
     },
     "execution_count": 55,
     "metadata": {},
     "output_type": "execute_result"
    }
   ],
   "source": [
    "x_input"
   ]
  },
  {
   "cell_type": "code",
   "execution_count": 56,
   "id": "9dbf1cfc",
   "metadata": {},
   "outputs": [],
   "source": [
    "temp_input=list(x_input)\n",
    "temp_input=temp_input[0].tolist()"
   ]
  },
  {
   "cell_type": "code",
   "execution_count": 57,
   "id": "e5bea425",
   "metadata": {},
   "outputs": [
    {
     "data": {
      "text/plain": [
       "[0.6122013713739329,\n",
       " 0.7271697507162774,\n",
       " 0.7316568697464649,\n",
       " 0.7070187507187238,\n",
       " 0.7541716699756232,\n",
       " 0.7477953818089361,\n",
       " 0.7415002207589072,\n",
       " 0.7669084662751825,\n",
       " 0.7547348546897903,\n",
       " 0.7745159531144207,\n",
       " 0.8210066119027296,\n",
       " 0.8136098964903667,\n",
       " 0.8799507997950198,\n",
       " 0.8832831359111819,\n",
       " 0.9059901989348902,\n",
       " 0.8534541669706456,\n",
       " 0.76859738583862,\n",
       " 0.7824841372109501,\n",
       " 0.7413163404337236,\n",
       " 0.7294286977110844,\n",
       " 0.7270434412554367,\n",
       " 0.7104803394774203,\n",
       " 0.7813161398255112,\n",
       " 0.7615754164899116,\n",
       " 0.7956142663901087,\n",
       " 0.7644473014463062,\n",
       " 0.7702191662758353,\n",
       " 0.7699839204666649,\n",
       " 0.8061518127737974,\n",
       " 0.8225438505356846,\n",
       " 0.8631774819244867,\n",
       " 0.8818490526177396,\n",
       " 0.9101705290170514,\n",
       " 0.9027135438430914,\n",
       " 0.9643671127128419,\n",
       " 0.9337725361514047,\n",
       " 0.8802513678707756,\n",
       " 0.8944028713674868,\n",
       " 0.9269715042129597,\n",
       " 0.9110186044200775,\n",
       " 0.918707294595221,\n",
       " 0.9181869138747053,\n",
       " 0.9057297327229326,\n",
       " 0.8585274925639796,\n",
       " 0.8618348028845076,\n",
       " 0.8308632508114777,\n",
       " 0.8139939939186963,\n",
       " 0.86811475285437,\n",
       " 0.8812966991136033,\n",
       " 0.8809378269205645,\n",
       " 0.9093047116535586,\n",
       " 0.9277092624218641,\n",
       " 0.9277272283423523,\n",
       " 0.9305170949645275,\n",
       " 0.9350651403347358,\n",
       " 0.9069982462071035,\n",
       " 0.9252006049572031,\n",
       " 0.9299191758965402,\n",
       " 0.9162749745191343,\n",
       " 0.8824857420545438,\n",
       " 0.918349457688099,\n",
       " 0.9171048680269865,\n",
       " 0.9415114535354607,\n",
       " 0.9480020238658166,\n",
       " 0.9430912822743986,\n",
       " 1.0,\n",
       " 0.9937926723672426,\n",
       " 0.9970135255817302,\n",
       " 0.9695646329409262,\n",
       " 0.955550792151911,\n",
       " 0.8851222537392226,\n",
       " 0.877367580522177,\n",
       " 0.8891712356786748,\n",
       " 0.8487055125731258,\n",
       " 0.8149100513253358,\n",
       " 0.8043697966139561,\n",
       " 0.7879312051164927,\n",
       " 0.7714321981306871,\n",
       " 0.8505289017498474,\n",
       " 0.8664721948307995,\n",
       " 0.8631867368065039,\n",
       " 0.8431726142440228,\n",
       " 0.9093043565525822,\n",
       " 0.9105319636075205,\n",
       " 0.8916626846367296,\n",
       " 0.9006358629876149,\n",
       " 0.8396797373696583,\n",
       " 0.9041625380134698,\n",
       " 0.8879649917351843,\n",
       " 0.9030968165267566,\n",
       " 0.9259134527255125,\n",
       " 0.916904870331803,\n",
       " 0.8795041043486527,\n",
       " 0.8928212818582708,\n",
       " 0.7737381893005248,\n",
       " 0.7826553089861573,\n",
       " 0.7852460199197276,\n",
       " 0.7360563685447558,\n",
       " 0.7312620443212708,\n",
       " 0.6852535971505836,\n",
       " 0.6753519624480585,\n",
       " 0.5822336846589146,\n",
       " 0.6418269090883083,\n",
       " 0.5869984056669384,\n",
       " 0.5906547522040709,\n",
       " 0.5470503332680882,\n",
       " 0.6090885352637417,\n",
       " 0.6043000958075229,\n",
       " 0.6183613104697028,\n",
       " 0.6048478166072334,\n",
       " 0.561664069750562,\n",
       " 0.5446145241114301,\n",
       " 0.561357028245695,\n",
       " 0.5874423720171204,\n",
       " 0.5772283120029179,\n",
       " 0.5912624363986764,\n",
       " 0.6170145562964336,\n",
       " 0.5805306013437852,\n",
       " 0.559368056468819,\n",
       " 0.5642615516971007,\n",
       " 0.5279776561730376,\n",
       " 0.5265892104839298,\n",
       " 0.5876357635555752,\n",
       " 0.577506941316174,\n",
       " 0.5874667408377043,\n",
       " 0.5593768595326313,\n",
       " 0.615266230433159,\n",
       " 0.6329318170496655,\n",
       " 0.6358921866811932,\n",
       " 0.6034305348192301,\n",
       " 0.5988028225231209,\n",
       " 0.5630771438181162,\n",
       " 0.560375552598837,\n",
       " 0.5616749478592883,\n",
       " 0.4982777538259306,\n",
       " 0.5113457090562339,\n",
       " 0.5305365128204544,\n",
       " 0.5453454750127491,\n",
       " 0.4976643123407922,\n",
       " 0.5063109172539029,\n",
       " 0.545143830800254,\n",
       " 0.5417496606758191,\n",
       " 0.5643466782948386,\n",
       " 0.551310655034269,\n",
       " 0.5281575223340864,\n",
       " 0.5332797860553005,\n",
       " 0.5454418335789196,\n",
       " 0.5552034967215723,\n",
       " 0.5308986704351298,\n",
       " 0.538610356213343]"
      ]
     },
     "execution_count": 57,
     "metadata": {},
     "output_type": "execute_result"
    }
   ],
   "source": [
    "temp_input"
   ]
  },
  {
   "cell_type": "code",
   "execution_count": 58,
   "id": "48b3ffac",
   "metadata": {},
   "outputs": [
    {
     "data": {
      "text/plain": [
       "150"
      ]
     },
     "execution_count": 58,
     "metadata": {},
     "output_type": "execute_result"
    }
   ],
   "source": [
    "len(temp_input)"
   ]
  },
  {
   "cell_type": "code",
   "execution_count": 59,
   "id": "7c44555d",
   "metadata": {},
   "outputs": [
    {
     "name": "stdout",
     "output_type": "stream",
     "text": [
      "[0.49671978]\n",
      "151\n",
      "1 day input [[0.46434504]]\n",
      "2 day input [[0.43606234]]\n",
      "3 day input [[0.41267085]]\n",
      "4 day input [[0.39500666]]\n",
      "5 day input [[0.38260183]]\n",
      "6 day input [[0.37428936]]\n",
      "7 day input [[0.36869657]]\n",
      "8 day input [[0.36452568]]\n",
      "9 day input [[0.36071354]]\n",
      "10 day input [[0.35650355]]\n",
      "11 day input [[0.35145727]]\n",
      "12 day input [[0.34542632]]\n",
      "13 day input [[0.3384944]]\n",
      "14 day input [[0.33090323]]\n",
      "15 day input [[0.3229739]]\n",
      "16 day input [[0.31503633]]\n",
      "17 day input [[0.30737567]]\n",
      "18 day input [[0.300199]]\n",
      "19 day input [[0.293625]]\n",
      "20 day input [[0.28768837]]\n",
      "21 day input [[0.28235745]]\n",
      "22 day input [[0.27755573]]\n",
      "23 day input [[0.27318394]]\n",
      "24 day input [[0.2691389]]\n",
      "25 day input [[0.26532766]]\n",
      "26 day input [[0.2616766]]\n",
      "27 day input [[0.2581346]]\n",
      "28 day input [[0.25467312]]\n",
      "29 day input [[0.25128305]]\n",
      "30 day input [[0.2479699]]\n"
     ]
    }
   ],
   "source": [
    "lst_output=[]\n",
    "n_steps=150\n",
    "i=0\n",
    "while (i<31):\n",
    "    if (len(temp_input)>150):\n",
    "        x_input=np.array(temp_input[1:])\n",
    "        x_input=x_input.reshape(1,-1)\n",
    "        x_input=x_input.reshape((1,n_steps,1))\n",
    "        yhat=model.predict(x_input,verbose=0)\n",
    "        print('{} day input {}'.format(i,yhat))\n",
    "        temp_input.extend(yhat[0].tolist())\n",
    "        temp_input=temp_input[1:]\n",
    "        lst_output.extend(yhat.tolist())\n",
    "        i=i+1\n",
    "    else:\n",
    "        x_input=x_input.reshape((1,n_steps,1))\n",
    "        yhat=model.predict(x_input,verbose=0)\n",
    "        print(yhat[0])\n",
    "        temp_input.extend(yhat[0].tolist())\n",
    "        print(len(temp_input))\n",
    "        lst_output.extend(yhat.tolist())\n",
    "        i=i+1"
   ]
  },
  {
   "cell_type": "code",
   "execution_count": 60,
   "id": "c6f54df0",
   "metadata": {},
   "outputs": [],
   "source": [
    "day_new=np.arange(1,151)\n",
    "day_pred=np.arange(151,182)"
   ]
  },
  {
   "cell_type": "code",
   "execution_count": 61,
   "id": "49abf544",
   "metadata": {},
   "outputs": [
    {
     "data": {
      "text/plain": [
       "2991"
      ]
     },
     "execution_count": 61,
     "metadata": {},
     "output_type": "execute_result"
    }
   ],
   "source": [
    "len(df1)"
   ]
  },
  {
   "cell_type": "code",
   "execution_count": 62,
   "id": "ed91f7d9",
   "metadata": {},
   "outputs": [
    {
     "data": {
      "text/plain": [
       "[<matplotlib.lines.Line2D at 0x1e60242ab80>]"
      ]
     },
     "execution_count": 62,
     "metadata": {},
     "output_type": "execute_result"
    },
    {
     "data": {
      "image/png": "[encoded data removed]",
      "text/plain": [
       "<Figure size 432x288 with 1 Axes>"
      ]
     },
     "metadata": {
      "needs_background": "light"
     },
     "output_type": "display_data"
    }
   ],
   "source": [
    "plt.plot(day_new,sc.inverse_transform(df1[2841:]))\n",
    "plt.plot(day_pred,sc.inverse_transform(lst_output))"
   ]
  },
  {
   "cell_type": "code",
   "execution_count": 63,
   "id": "2bef3b53",
   "metadata": {},
   "outputs": [
    {
     "data": {
      "text/plain": [
       "[<matplotlib.lines.Line2D at 0x1e6707e9370>]"
      ]
     },
     "execution_count": 63,
     "metadata": {},
     "output_type": "execute_result"
    },
    {
     "data": {
      "image/png": "[encoded data removed]",
      "text/plain": [
       "<Figure size 432x288 with 1 Axes>"
      ]
     },
     "metadata": {
      "needs_background": "light"
     },
     "output_type": "display_data"
    }
   ],
   "source": [
    "df3=df1.tolist()\n",
    "df3.extend(lst_output)\n",
    "plt.plot(df3[1000:])"
   ]
  },
  {
   "cell_type": "code",
   "execution_count": null,
   "id": "f247bbcf",
   "metadata": {},
   "outputs": [],
   "source": []
  }
 ],
 "metadata": {
  "kernelspec": {
   "display_name": "Python 3",
   "language": "python",
   "name": "python3"
  },
  "language_info": {
   "codemirror_mode": {
    "name": "ipython",
    "version": 3
   },
   "file_extension": ".py",
   "mimetype": "text/x-python",
   "name": "python",
   "nbconvert_exporter": "python",
   "pygments_lexer": "ipython3",
   "version": "3.8.8"
  }
 },
 "nbformat": 4,
 "nbformat_minor": 5
}
