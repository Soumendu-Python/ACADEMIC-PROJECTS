{
 "cells": [
  {
   "cell_type": "code",
   "execution_count": 2,
   "id": "3d952a40",
   "metadata": {},
   "outputs": [],
   "source": [
    "import numpy as np\n",
    "import pandas as pd\n",
    "import re\n",
    "import os\n",
    "os.chdir(r'C:\\Post Graduate Course in Data Analytics\\KAGGLE DATASETS & SCRIPTS\\AMAZON REVIEWS SENTIMENT')"
   ]
  },
  {
   "cell_type": "code",
   "execution_count": 4,
   "id": "66e4e576",
   "metadata": {},
   "outputs": [],
   "source": [
    "import warnings\n",
    "warnings.filterwarnings('ignore')"
   ]
  },
  {
   "cell_type": "code",
   "execution_count": 40,
   "id": "9313d19f",
   "metadata": {},
   "outputs": [],
   "source": [
    "import nltk\n",
    "from nltk import word_tokenize\n",
    "from sklearn.feature_extraction.text import CountVectorizer\n",
    "from sklearn.feature_extraction.text import TfidfVectorizer,TfidfTransformer\n",
    "from wordcloud import WordCloud\n",
    "from sklearn.model_selection import train_test_split\n",
    "from sklearn.linear_model import LogisticRegression\n",
    "from sklearn.metrics import classification_report,confusion_matrix"
   ]
  },
  {
   "cell_type": "code",
   "execution_count": 165,
   "id": "3a0ba85b",
   "metadata": {},
   "outputs": [
    {
     "data": {
      "text/html": [
       "<div>\n",
       "<style scoped>\n",
       "    .dataframe tbody tr th:only-of-type {\n",
       "        vertical-align: middle;\n",
       "    }\n",
       "\n",
       "    .dataframe tbody tr th {\n",
       "        vertical-align: top;\n",
       "    }\n",
       "\n",
       "    .dataframe thead th {\n",
       "        text-align: right;\n",
       "    }\n",
       "</style>\n",
       "<table border=\"1\" class=\"dataframe\">\n",
       "  <thead>\n",
       "    <tr style=\"text-align: right;\">\n",
       "      <th></th>\n",
       "      <th>Id</th>\n",
       "      <th>ProductId</th>\n",
       "      <th>UserId</th>\n",
       "      <th>ProfileName</th>\n",
       "      <th>HelpfulnessNumerator</th>\n",
       "      <th>HelpfulnessDenominator</th>\n",
       "      <th>Score</th>\n",
       "      <th>Time</th>\n",
       "      <th>Summary</th>\n",
       "      <th>Text</th>\n",
       "    </tr>\n",
       "  </thead>\n",
       "  <tbody>\n",
       "    <tr>\n",
       "      <th>0</th>\n",
       "      <td>1</td>\n",
       "      <td>B001E4KFG0</td>\n",
       "      <td>A3SGXH7AUHU8GW</td>\n",
       "      <td>delmartian</td>\n",
       "      <td>1</td>\n",
       "      <td>1</td>\n",
       "      <td>5</td>\n",
       "      <td>1303862400</td>\n",
       "      <td>Good Quality Dog Food</td>\n",
       "      <td>I have bought several of the Vitality canned d...</td>\n",
       "    </tr>\n",
       "    <tr>\n",
       "      <th>1</th>\n",
       "      <td>2</td>\n",
       "      <td>B00813GRG4</td>\n",
       "      <td>A1D87F6ZCVE5NK</td>\n",
       "      <td>dll pa</td>\n",
       "      <td>0</td>\n",
       "      <td>0</td>\n",
       "      <td>1</td>\n",
       "      <td>1346976000</td>\n",
       "      <td>Not as Advertised</td>\n",
       "      <td>Product arrived labeled as Jumbo Salted Peanut...</td>\n",
       "    </tr>\n",
       "    <tr>\n",
       "      <th>2</th>\n",
       "      <td>3</td>\n",
       "      <td>B000LQOCH0</td>\n",
       "      <td>ABXLMWJIXXAIN</td>\n",
       "      <td>Natalia Corres \"Natalia Corres\"</td>\n",
       "      <td>1</td>\n",
       "      <td>1</td>\n",
       "      <td>4</td>\n",
       "      <td>1219017600</td>\n",
       "      <td>\"Delight\" says it all</td>\n",
       "      <td>This is a confection that has been around a fe...</td>\n",
       "    </tr>\n",
       "    <tr>\n",
       "      <th>3</th>\n",
       "      <td>4</td>\n",
       "      <td>B000UA0QIQ</td>\n",
       "      <td>A395BORC6FGVXV</td>\n",
       "      <td>Karl</td>\n",
       "      <td>3</td>\n",
       "      <td>3</td>\n",
       "      <td>2</td>\n",
       "      <td>1307923200</td>\n",
       "      <td>Cough Medicine</td>\n",
       "      <td>If you are looking for the secret ingredient i...</td>\n",
       "    </tr>\n",
       "    <tr>\n",
       "      <th>4</th>\n",
       "      <td>5</td>\n",
       "      <td>B006K2ZZ7K</td>\n",
       "      <td>A1UQRSCLF8GW1T</td>\n",
       "      <td>Michael D. Bigham \"M. Wassir\"</td>\n",
       "      <td>0</td>\n",
       "      <td>0</td>\n",
       "      <td>5</td>\n",
       "      <td>1350777600</td>\n",
       "      <td>Great taffy</td>\n",
       "      <td>Great taffy at a great price.  There was a wid...</td>\n",
       "    </tr>\n",
       "    <tr>\n",
       "      <th>...</th>\n",
       "      <td>...</td>\n",
       "      <td>...</td>\n",
       "      <td>...</td>\n",
       "      <td>...</td>\n",
       "      <td>...</td>\n",
       "      <td>...</td>\n",
       "      <td>...</td>\n",
       "      <td>...</td>\n",
       "      <td>...</td>\n",
       "      <td>...</td>\n",
       "    </tr>\n",
       "    <tr>\n",
       "      <th>568449</th>\n",
       "      <td>568450</td>\n",
       "      <td>B001EO7N10</td>\n",
       "      <td>A28KG5XORO54AY</td>\n",
       "      <td>Lettie D. Carter</td>\n",
       "      <td>0</td>\n",
       "      <td>0</td>\n",
       "      <td>5</td>\n",
       "      <td>1299628800</td>\n",
       "      <td>Will not do without</td>\n",
       "      <td>Great for sesame chicken..this is a good if no...</td>\n",
       "    </tr>\n",
       "    <tr>\n",
       "      <th>568450</th>\n",
       "      <td>568451</td>\n",
       "      <td>B003S1WTCU</td>\n",
       "      <td>A3I8AFVPEE8KI5</td>\n",
       "      <td>R. Sawyer</td>\n",
       "      <td>0</td>\n",
       "      <td>0</td>\n",
       "      <td>2</td>\n",
       "      <td>1331251200</td>\n",
       "      <td>disappointed</td>\n",
       "      <td>I'm disappointed with the flavor. The chocolat...</td>\n",
       "    </tr>\n",
       "    <tr>\n",
       "      <th>568451</th>\n",
       "      <td>568452</td>\n",
       "      <td>B004I613EE</td>\n",
       "      <td>A121AA1GQV751Z</td>\n",
       "      <td>pksd \"pk_007\"</td>\n",
       "      <td>2</td>\n",
       "      <td>2</td>\n",
       "      <td>5</td>\n",
       "      <td>1329782400</td>\n",
       "      <td>Perfect for our maltipoo</td>\n",
       "      <td>These stars are small, so you can give 10-15 o...</td>\n",
       "    </tr>\n",
       "    <tr>\n",
       "      <th>568452</th>\n",
       "      <td>568453</td>\n",
       "      <td>B004I613EE</td>\n",
       "      <td>A3IBEVCTXKNOH</td>\n",
       "      <td>Kathy A. Welch \"katwel\"</td>\n",
       "      <td>1</td>\n",
       "      <td>1</td>\n",
       "      <td>5</td>\n",
       "      <td>1331596800</td>\n",
       "      <td>Favorite Training and reward treat</td>\n",
       "      <td>These are the BEST treats for training and rew...</td>\n",
       "    </tr>\n",
       "    <tr>\n",
       "      <th>568453</th>\n",
       "      <td>568454</td>\n",
       "      <td>B001LR2CU2</td>\n",
       "      <td>A3LGQPJCZVL9UC</td>\n",
       "      <td>srfell17</td>\n",
       "      <td>0</td>\n",
       "      <td>0</td>\n",
       "      <td>5</td>\n",
       "      <td>1338422400</td>\n",
       "      <td>Great Honey</td>\n",
       "      <td>I am very satisfied ,product is as advertised,...</td>\n",
       "    </tr>\n",
       "  </tbody>\n",
       "</table>\n",
       "<p>568454 rows × 10 columns</p>\n",
       "</div>"
      ],
      "text/plain": [
       "            Id   ProductId          UserId                      ProfileName  \\\n",
       "0            1  B001E4KFG0  A3SGXH7AUHU8GW                       delmartian   \n",
       "1            2  B00813GRG4  A1D87F6ZCVE5NK                           dll pa   \n",
       "2            3  B000LQOCH0   ABXLMWJIXXAIN  Natalia Corres \"Natalia Corres\"   \n",
       "3            4  B000UA0QIQ  A395BORC6FGVXV                             Karl   \n",
       "4            5  B006K2ZZ7K  A1UQRSCLF8GW1T    Michael D. Bigham \"M. Wassir\"   \n",
       "...        ...         ...             ...                              ...   \n",
       "568449  568450  B001EO7N10  A28KG5XORO54AY                 Lettie D. Carter   \n",
       "568450  568451  B003S1WTCU  A3I8AFVPEE8KI5                        R. Sawyer   \n",
       "568451  568452  B004I613EE  A121AA1GQV751Z                    pksd \"pk_007\"   \n",
       "568452  568453  B004I613EE   A3IBEVCTXKNOH          Kathy A. Welch \"katwel\"   \n",
       "568453  568454  B001LR2CU2  A3LGQPJCZVL9UC                         srfell17   \n",
       "\n",
       "        HelpfulnessNumerator  HelpfulnessDenominator  Score        Time  \\\n",
       "0                          1                       1      5  1303862400   \n",
       "1                          0                       0      1  1346976000   \n",
       "2                          1                       1      4  1219017600   \n",
       "3                          3                       3      2  1307923200   \n",
       "4                          0                       0      5  1350777600   \n",
       "...                      ...                     ...    ...         ...   \n",
       "568449                     0                       0      5  1299628800   \n",
       "568450                     0                       0      2  1331251200   \n",
       "568451                     2                       2      5  1329782400   \n",
       "568452                     1                       1      5  1331596800   \n",
       "568453                     0                       0      5  1338422400   \n",
       "\n",
       "                                   Summary  \\\n",
       "0                    Good Quality Dog Food   \n",
       "1                        Not as Advertised   \n",
       "2                    \"Delight\" says it all   \n",
       "3                           Cough Medicine   \n",
       "4                              Great taffy   \n",
       "...                                    ...   \n",
       "568449                 Will not do without   \n",
       "568450                        disappointed   \n",
       "568451            Perfect for our maltipoo   \n",
       "568452  Favorite Training and reward treat   \n",
       "568453                         Great Honey   \n",
       "\n",
       "                                                     Text  \n",
       "0       I have bought several of the Vitality canned d...  \n",
       "1       Product arrived labeled as Jumbo Salted Peanut...  \n",
       "2       This is a confection that has been around a fe...  \n",
       "3       If you are looking for the secret ingredient i...  \n",
       "4       Great taffy at a great price.  There was a wid...  \n",
       "...                                                   ...  \n",
       "568449  Great for sesame chicken..this is a good if no...  \n",
       "568450  I'm disappointed with the flavor. The chocolat...  \n",
       "568451  These stars are small, so you can give 10-15 o...  \n",
       "568452  These are the BEST treats for training and rew...  \n",
       "568453  I am very satisfied ,product is as advertised,...  \n",
       "\n",
       "[568454 rows x 10 columns]"
      ]
     },
     "execution_count": 165,
     "metadata": {},
     "output_type": "execute_result"
    }
   ],
   "source": [
    "df=pd.read_csv('Reviews.csv')\n",
    "df"
   ]
  },
  {
   "cell_type": "code",
   "execution_count": 166,
   "id": "65bd14be",
   "metadata": {},
   "outputs": [
    {
     "data": {
      "text/plain": [
       "(568454, 10)"
      ]
     },
     "execution_count": 166,
     "metadata": {},
     "output_type": "execute_result"
    }
   ],
   "source": [
    "df.shape"
   ]
  },
  {
   "cell_type": "code",
   "execution_count": 167,
   "id": "0f34e5c0",
   "metadata": {},
   "outputs": [
    {
     "data": {
      "text/html": [
       "<div>\n",
       "<style scoped>\n",
       "    .dataframe tbody tr th:only-of-type {\n",
       "        vertical-align: middle;\n",
       "    }\n",
       "\n",
       "    .dataframe tbody tr th {\n",
       "        vertical-align: top;\n",
       "    }\n",
       "\n",
       "    .dataframe thead th {\n",
       "        text-align: right;\n",
       "    }\n",
       "</style>\n",
       "<table border=\"1\" class=\"dataframe\">\n",
       "  <thead>\n",
       "    <tr style=\"text-align: right;\">\n",
       "      <th></th>\n",
       "      <th>Id</th>\n",
       "      <th>ProductId</th>\n",
       "      <th>UserId</th>\n",
       "      <th>ProfileName</th>\n",
       "      <th>HelpfulnessNumerator</th>\n",
       "      <th>HelpfulnessDenominator</th>\n",
       "      <th>Score</th>\n",
       "      <th>Time</th>\n",
       "      <th>Summary</th>\n",
       "      <th>Text</th>\n",
       "    </tr>\n",
       "  </thead>\n",
       "  <tbody>\n",
       "    <tr>\n",
       "      <th>0</th>\n",
       "      <td>131351</td>\n",
       "      <td>B0054ETSO6</td>\n",
       "      <td>AOBARLJKWU4O5</td>\n",
       "      <td>Justin</td>\n",
       "      <td>0</td>\n",
       "      <td>0</td>\n",
       "      <td>5</td>\n",
       "      <td>1350777600</td>\n",
       "      <td>Perfect prop for Breaking Bad Costume</td>\n",
       "      <td>I bought this product for my Breaking Bad Hall...</td>\n",
       "    </tr>\n",
       "    <tr>\n",
       "      <th>1</th>\n",
       "      <td>303248</td>\n",
       "      <td>B0002DGRZC</td>\n",
       "      <td>A3KXPLKL5EPJX</td>\n",
       "      <td>Judith M Dell</td>\n",
       "      <td>0</td>\n",
       "      <td>0</td>\n",
       "      <td>5</td>\n",
       "      <td>1350777600</td>\n",
       "      <td>Dogs LOVE it!!  Plus it is healthy...</td>\n",
       "      <td>My dog would do anything for his liver treats!...</td>\n",
       "    </tr>\n",
       "    <tr>\n",
       "      <th>2</th>\n",
       "      <td>76551</td>\n",
       "      <td>B0049ULB78</td>\n",
       "      <td>A23WIZX2TZ220</td>\n",
       "      <td>S. LEECH \"BudgetAudiophile\"</td>\n",
       "      <td>0</td>\n",
       "      <td>0</td>\n",
       "      <td>5</td>\n",
       "      <td>1344816000</td>\n",
       "      <td>Good coffee</td>\n",
       "      <td>Just finished off my first Amazon packaged (50...</td>\n",
       "    </tr>\n",
       "    <tr>\n",
       "      <th>3</th>\n",
       "      <td>320323</td>\n",
       "      <td>B003Z6W32E</td>\n",
       "      <td>A2VGU1H26WZEZG</td>\n",
       "      <td>Punk</td>\n",
       "      <td>3</td>\n",
       "      <td>3</td>\n",
       "      <td>5</td>\n",
       "      <td>1288742400</td>\n",
       "      <td>Instant brew!</td>\n",
       "      <td>In my search for instant java fix, I have samp...</td>\n",
       "    </tr>\n",
       "    <tr>\n",
       "      <th>4</th>\n",
       "      <td>548131</td>\n",
       "      <td>B007RTR9G0</td>\n",
       "      <td>A38Z8ZXX1BPFRL</td>\n",
       "      <td>Melodie \"2kidznus\"</td>\n",
       "      <td>1</td>\n",
       "      <td>1</td>\n",
       "      <td>1</td>\n",
       "      <td>1338768000</td>\n",
       "      <td>Like the smell but it left my hair greasy..had...</td>\n",
       "      <td>This is not a product I can use.  It left my h...</td>\n",
       "    </tr>\n",
       "    <tr>\n",
       "      <th>...</th>\n",
       "      <td>...</td>\n",
       "      <td>...</td>\n",
       "      <td>...</td>\n",
       "      <td>...</td>\n",
       "      <td>...</td>\n",
       "      <td>...</td>\n",
       "      <td>...</td>\n",
       "      <td>...</td>\n",
       "      <td>...</td>\n",
       "      <td>...</td>\n",
       "    </tr>\n",
       "    <tr>\n",
       "      <th>113686</th>\n",
       "      <td>94427</td>\n",
       "      <td>B000EQYW0E</td>\n",
       "      <td>AHWXH8CA96IBX</td>\n",
       "      <td>Alan Kaye</td>\n",
       "      <td>29</td>\n",
       "      <td>31</td>\n",
       "      <td>5</td>\n",
       "      <td>1153526400</td>\n",
       "      <td>The best chips ever invented, truly the pinnac...</td>\n",
       "      <td>Fate has smiled upon you today, for you have s...</td>\n",
       "    </tr>\n",
       "    <tr>\n",
       "      <th>113687</th>\n",
       "      <td>292046</td>\n",
       "      <td>B001EO5Y8Y</td>\n",
       "      <td>A2UQXRR458CWZV</td>\n",
       "      <td>Shari Best</td>\n",
       "      <td>0</td>\n",
       "      <td>0</td>\n",
       "      <td>5</td>\n",
       "      <td>1348617600</td>\n",
       "      <td>Green Mountain Coffee, Dark Magic k-cup</td>\n",
       "      <td>I've been drinking this for quite awhile now a...</td>\n",
       "    </tr>\n",
       "    <tr>\n",
       "      <th>113688</th>\n",
       "      <td>465268</td>\n",
       "      <td>B000FSRN7U</td>\n",
       "      <td>A1KDCAP54QTZKA</td>\n",
       "      <td>Marcus Aurelius \"Marcus Aurelius\"</td>\n",
       "      <td>0</td>\n",
       "      <td>0</td>\n",
       "      <td>2</td>\n",
       "      <td>1249603200</td>\n",
       "      <td>Salty &amp; Greasy</td>\n",
       "      <td>I really like ChooChoo R Snacks Jerky, their q...</td>\n",
       "    </tr>\n",
       "    <tr>\n",
       "      <th>113689</th>\n",
       "      <td>379226</td>\n",
       "      <td>B001TM70XS</td>\n",
       "      <td>A3D0J18LY62I06</td>\n",
       "      <td>Cat Guy \"Mr Poofy's Cat Guy\"</td>\n",
       "      <td>10</td>\n",
       "      <td>10</td>\n",
       "      <td>5</td>\n",
       "      <td>1266969600</td>\n",
       "      <td>Its just chicken and gravy - my cats love this...</td>\n",
       "      <td>I love this food for my kitties!  Mr poof devo...</td>\n",
       "    </tr>\n",
       "    <tr>\n",
       "      <th>113690</th>\n",
       "      <td>247697</td>\n",
       "      <td>B001E6GFZI</td>\n",
       "      <td>A1LCGJFOXIRH3A</td>\n",
       "      <td>S. Westen</td>\n",
       "      <td>2</td>\n",
       "      <td>2</td>\n",
       "      <td>5</td>\n",
       "      <td>1264291200</td>\n",
       "      <td>Love my fiber!</td>\n",
       "      <td>I started on Weight Watchers in November 2008 ...</td>\n",
       "    </tr>\n",
       "  </tbody>\n",
       "</table>\n",
       "<p>113691 rows × 10 columns</p>\n",
       "</div>"
      ],
      "text/plain": [
       "            Id   ProductId          UserId                        ProfileName  \\\n",
       "0       131351  B0054ETSO6   AOBARLJKWU4O5                             Justin   \n",
       "1       303248  B0002DGRZC   A3KXPLKL5EPJX                      Judith M Dell   \n",
       "2        76551  B0049ULB78   A23WIZX2TZ220        S. LEECH \"BudgetAudiophile\"   \n",
       "3       320323  B003Z6W32E  A2VGU1H26WZEZG                               Punk   \n",
       "4       548131  B007RTR9G0  A38Z8ZXX1BPFRL                 Melodie \"2kidznus\"   \n",
       "...        ...         ...             ...                                ...   \n",
       "113686   94427  B000EQYW0E   AHWXH8CA96IBX                          Alan Kaye   \n",
       "113687  292046  B001EO5Y8Y  A2UQXRR458CWZV                         Shari Best   \n",
       "113688  465268  B000FSRN7U  A1KDCAP54QTZKA  Marcus Aurelius \"Marcus Aurelius\"   \n",
       "113689  379226  B001TM70XS  A3D0J18LY62I06       Cat Guy \"Mr Poofy's Cat Guy\"   \n",
       "113690  247697  B001E6GFZI  A1LCGJFOXIRH3A                          S. Westen   \n",
       "\n",
       "        HelpfulnessNumerator  HelpfulnessDenominator  Score        Time  \\\n",
       "0                          0                       0      5  1350777600   \n",
       "1                          0                       0      5  1350777600   \n",
       "2                          0                       0      5  1344816000   \n",
       "3                          3                       3      5  1288742400   \n",
       "4                          1                       1      1  1338768000   \n",
       "...                      ...                     ...    ...         ...   \n",
       "113686                    29                      31      5  1153526400   \n",
       "113687                     0                       0      5  1348617600   \n",
       "113688                     0                       0      2  1249603200   \n",
       "113689                    10                      10      5  1266969600   \n",
       "113690                     2                       2      5  1264291200   \n",
       "\n",
       "                                                  Summary  \\\n",
       "0                   Perfect prop for Breaking Bad Costume   \n",
       "1                   Dogs LOVE it!!  Plus it is healthy...   \n",
       "2                                             Good coffee   \n",
       "3                                           Instant brew!   \n",
       "4       Like the smell but it left my hair greasy..had...   \n",
       "...                                                   ...   \n",
       "113686  The best chips ever invented, truly the pinnac...   \n",
       "113687            Green Mountain Coffee, Dark Magic k-cup   \n",
       "113688                                     Salty & Greasy   \n",
       "113689  Its just chicken and gravy - my cats love this...   \n",
       "113690                                     Love my fiber!   \n",
       "\n",
       "                                                     Text  \n",
       "0       I bought this product for my Breaking Bad Hall...  \n",
       "1       My dog would do anything for his liver treats!...  \n",
       "2       Just finished off my first Amazon packaged (50...  \n",
       "3       In my search for instant java fix, I have samp...  \n",
       "4       This is not a product I can use.  It left my h...  \n",
       "...                                                   ...  \n",
       "113686  Fate has smiled upon you today, for you have s...  \n",
       "113687  I've been drinking this for quite awhile now a...  \n",
       "113688  I really like ChooChoo R Snacks Jerky, their q...  \n",
       "113689  I love this food for my kitties!  Mr poof devo...  \n",
       "113690  I started on Weight Watchers in November 2008 ...  \n",
       "\n",
       "[113691 rows x 10 columns]"
      ]
     },
     "execution_count": 167,
     "metadata": {},
     "output_type": "execute_result"
    }
   ],
   "source": [
    "df=df.sample(frac=0.2,replace=True).reset_index(drop=True)\n",
    "df"
   ]
  },
  {
   "cell_type": "code",
   "execution_count": 168,
   "id": "37ff858c",
   "metadata": {},
   "outputs": [
    {
     "data": {
      "text/plain": [
       "(113691, 10)"
      ]
     },
     "execution_count": 168,
     "metadata": {},
     "output_type": "execute_result"
    }
   ],
   "source": [
    "df.shape"
   ]
  },
  {
   "cell_type": "code",
   "execution_count": 169,
   "id": "b6cecf65",
   "metadata": {},
   "outputs": [
    {
     "name": "stdout",
     "output_type": "stream",
     "text": [
      "<class 'pandas.core.frame.DataFrame'>\n",
      "RangeIndex: 113691 entries, 0 to 113690\n",
      "Data columns (total 10 columns):\n",
      " #   Column                  Non-Null Count   Dtype \n",
      "---  ------                  --------------   ----- \n",
      " 0   Id                      113691 non-null  int64 \n",
      " 1   ProductId               113691 non-null  object\n",
      " 2   UserId                  113691 non-null  object\n",
      " 3   ProfileName             113687 non-null  object\n",
      " 4   HelpfulnessNumerator    113691 non-null  int64 \n",
      " 5   HelpfulnessDenominator  113691 non-null  int64 \n",
      " 6   Score                   113691 non-null  int64 \n",
      " 7   Time                    113691 non-null  int64 \n",
      " 8   Summary                 113685 non-null  object\n",
      " 9   Text                    113691 non-null  object\n",
      "dtypes: int64(5), object(5)\n",
      "memory usage: 8.7+ MB\n"
     ]
    }
   ],
   "source": [
    "df.info()"
   ]
  },
  {
   "cell_type": "code",
   "execution_count": 170,
   "id": "633d9289",
   "metadata": {},
   "outputs": [
    {
     "data": {
      "text/plain": [
       "Id                        0\n",
       "ProductId                 0\n",
       "UserId                    0\n",
       "ProfileName               4\n",
       "HelpfulnessNumerator      0\n",
       "HelpfulnessDenominator    0\n",
       "Score                     0\n",
       "Time                      0\n",
       "Summary                   6\n",
       "Text                      0\n",
       "dtype: int64"
      ]
     },
     "execution_count": 170,
     "metadata": {},
     "output_type": "execute_result"
    }
   ],
   "source": [
    "df.isnull().sum()"
   ]
  },
  {
   "cell_type": "code",
   "execution_count": 171,
   "id": "de4f4967",
   "metadata": {},
   "outputs": [],
   "source": [
    "df.dropna(inplace=True)"
   ]
  },
  {
   "cell_type": "code",
   "execution_count": 172,
   "id": "df7a1018",
   "metadata": {},
   "outputs": [
    {
     "data": {
      "text/plain": [
       "Id                        0\n",
       "ProductId                 0\n",
       "UserId                    0\n",
       "ProfileName               0\n",
       "HelpfulnessNumerator      0\n",
       "HelpfulnessDenominator    0\n",
       "Score                     0\n",
       "Time                      0\n",
       "Summary                   0\n",
       "Text                      0\n",
       "dtype: int64"
      ]
     },
     "execution_count": 172,
     "metadata": {},
     "output_type": "execute_result"
    }
   ],
   "source": [
    "df.isnull().sum()"
   ]
  },
  {
   "cell_type": "code",
   "execution_count": 173,
   "id": "17111e59",
   "metadata": {},
   "outputs": [],
   "source": [
    "df.reset_index(drop=True,inplace=True)"
   ]
  },
  {
   "cell_type": "code",
   "execution_count": 174,
   "id": "eaccea25",
   "metadata": {},
   "outputs": [
    {
     "data": {
      "text/plain": [
       "5    63.736244\n",
       "4    14.341887\n",
       "1     9.070997\n",
       "3     7.628364\n",
       "2     5.222509\n",
       "Name: Score, dtype: float64"
      ]
     },
     "execution_count": 174,
     "metadata": {},
     "output_type": "execute_result"
    }
   ],
   "source": [
    "rating_pct=df['Score'].value_counts()/len(df)*100\n",
    "rating_pct"
   ]
  },
  {
   "cell_type": "code",
   "execution_count": 175,
   "id": "bb783404",
   "metadata": {},
   "outputs": [
    {
     "data": {
      "text/plain": [
       "0          30\n",
       "1          61\n",
       "2         162\n",
       "3          78\n",
       "4         128\n",
       "         ... \n",
       "113676    180\n",
       "113677     28\n",
       "113678    111\n",
       "113679    102\n",
       "113680    130\n",
       "Name: Text, Length: 113681, dtype: int64"
      ]
     },
     "execution_count": 175,
     "metadata": {},
     "output_type": "execute_result"
    }
   ],
   "source": [
    "wordsperreview=df['Text'].apply(lambda x: len(x.split(' ')))\n",
    "wordsperreview"
   ]
  },
  {
   "cell_type": "code",
   "execution_count": 176,
   "id": "c42e26a8",
   "metadata": {},
   "outputs": [],
   "source": [
    "txt=' '.join(review for review in df.Text)"
   ]
  },
  {
   "cell_type": "code",
   "execution_count": 177,
   "id": "d4f1f107",
   "metadata": {},
   "outputs": [],
   "source": [
    "wordcloud=WordCloud(background_color='white',max_font_size=100,max_words=100,width=800,height=800).generate(txt)"
   ]
  },
  {
   "cell_type": "code",
   "execution_count": 152,
   "id": "3e6323ae",
   "metadata": {},
   "outputs": [],
   "source": [
    "import matplotlib.pyplot as plt"
   ]
  },
  {
   "cell_type": "code",
   "execution_count": 178,
   "id": "072b1edc",
   "metadata": {},
   "outputs": [
    {
     "data": {
      "image/png": "[encoded data removed]",
      "text/plain": [
       "<Figure size 432x288 with 1 Axes>"
      ]
     },
     "metadata": {
      "needs_background": "light"
     },
     "output_type": "display_data"
    }
   ],
   "source": [
    "plt.imshow(wordcloud,interpolation='bilinear')\n",
    "plt.axis('off')\n",
    "plt.show()"
   ]
  },
  {
   "cell_type": "code",
   "execution_count": 179,
   "id": "c4fcfad3",
   "metadata": {},
   "outputs": [],
   "source": [
    "df=pd.DataFrame(df,columns=['Score','Text'])\n",
    "df.rename(columns={'Score':'Rating','Text':'Review'},inplace=True)"
   ]
  },
  {
   "cell_type": "code",
   "execution_count": 180,
   "id": "33a30c78",
   "metadata": {},
   "outputs": [
    {
     "data": {
      "text/html": [
       "<div>\n",
       "<style scoped>\n",
       "    .dataframe tbody tr th:only-of-type {\n",
       "        vertical-align: middle;\n",
       "    }\n",
       "\n",
       "    .dataframe tbody tr th {\n",
       "        vertical-align: top;\n",
       "    }\n",
       "\n",
       "    .dataframe thead th {\n",
       "        text-align: right;\n",
       "    }\n",
       "</style>\n",
       "<table border=\"1\" class=\"dataframe\">\n",
       "  <thead>\n",
       "    <tr style=\"text-align: right;\">\n",
       "      <th></th>\n",
       "      <th>Rating</th>\n",
       "      <th>Review</th>\n",
       "    </tr>\n",
       "  </thead>\n",
       "  <tbody>\n",
       "    <tr>\n",
       "      <th>0</th>\n",
       "      <td>5</td>\n",
       "      <td>I bought this product for my Breaking Bad Hall...</td>\n",
       "    </tr>\n",
       "    <tr>\n",
       "      <th>1</th>\n",
       "      <td>5</td>\n",
       "      <td>My dog would do anything for his liver treats!...</td>\n",
       "    </tr>\n",
       "    <tr>\n",
       "      <th>2</th>\n",
       "      <td>5</td>\n",
       "      <td>Just finished off my first Amazon packaged (50...</td>\n",
       "    </tr>\n",
       "    <tr>\n",
       "      <th>3</th>\n",
       "      <td>5</td>\n",
       "      <td>In my search for instant java fix, I have samp...</td>\n",
       "    </tr>\n",
       "    <tr>\n",
       "      <th>4</th>\n",
       "      <td>1</td>\n",
       "      <td>This is not a product I can use.  It left my h...</td>\n",
       "    </tr>\n",
       "    <tr>\n",
       "      <th>...</th>\n",
       "      <td>...</td>\n",
       "      <td>...</td>\n",
       "    </tr>\n",
       "    <tr>\n",
       "      <th>113676</th>\n",
       "      <td>5</td>\n",
       "      <td>Fate has smiled upon you today, for you have s...</td>\n",
       "    </tr>\n",
       "    <tr>\n",
       "      <th>113677</th>\n",
       "      <td>5</td>\n",
       "      <td>I've been drinking this for quite awhile now a...</td>\n",
       "    </tr>\n",
       "    <tr>\n",
       "      <th>113678</th>\n",
       "      <td>2</td>\n",
       "      <td>I really like ChooChoo R Snacks Jerky, their q...</td>\n",
       "    </tr>\n",
       "    <tr>\n",
       "      <th>113679</th>\n",
       "      <td>5</td>\n",
       "      <td>I love this food for my kitties!  Mr poof devo...</td>\n",
       "    </tr>\n",
       "    <tr>\n",
       "      <th>113680</th>\n",
       "      <td>5</td>\n",
       "      <td>I started on Weight Watchers in November 2008 ...</td>\n",
       "    </tr>\n",
       "  </tbody>\n",
       "</table>\n",
       "<p>113681 rows × 2 columns</p>\n",
       "</div>"
      ],
      "text/plain": [
       "        Rating                                             Review\n",
       "0            5  I bought this product for my Breaking Bad Hall...\n",
       "1            5  My dog would do anything for his liver treats!...\n",
       "2            5  Just finished off my first Amazon packaged (50...\n",
       "3            5  In my search for instant java fix, I have samp...\n",
       "4            1  This is not a product I can use.  It left my h...\n",
       "...        ...                                                ...\n",
       "113676       5  Fate has smiled upon you today, for you have s...\n",
       "113677       5  I've been drinking this for quite awhile now a...\n",
       "113678       2  I really like ChooChoo R Snacks Jerky, their q...\n",
       "113679       5  I love this food for my kitties!  Mr poof devo...\n",
       "113680       5  I started on Weight Watchers in November 2008 ...\n",
       "\n",
       "[113681 rows x 2 columns]"
      ]
     },
     "execution_count": 180,
     "metadata": {},
     "output_type": "execute_result"
    }
   ],
   "source": [
    "df"
   ]
  },
  {
   "cell_type": "code",
   "execution_count": 181,
   "id": "1d8af805",
   "metadata": {},
   "outputs": [],
   "source": [
    "def apply_sentiment(Rating):\n",
    "    if Rating<=4:\n",
    "        return 0\n",
    "    else:\n",
    "        return 1"
   ]
  },
  {
   "cell_type": "code",
   "execution_count": 182,
   "id": "c78470e0",
   "metadata": {},
   "outputs": [],
   "source": [
    "df['Sentiment']=df['Rating'].apply(apply_sentiment)"
   ]
  },
  {
   "cell_type": "code",
   "execution_count": 183,
   "id": "fe28e266",
   "metadata": {},
   "outputs": [
    {
     "data": {
      "text/html": [
       "<div>\n",
       "<style scoped>\n",
       "    .dataframe tbody tr th:only-of-type {\n",
       "        vertical-align: middle;\n",
       "    }\n",
       "\n",
       "    .dataframe tbody tr th {\n",
       "        vertical-align: top;\n",
       "    }\n",
       "\n",
       "    .dataframe thead th {\n",
       "        text-align: right;\n",
       "    }\n",
       "</style>\n",
       "<table border=\"1\" class=\"dataframe\">\n",
       "  <thead>\n",
       "    <tr style=\"text-align: right;\">\n",
       "      <th></th>\n",
       "      <th>Rating</th>\n",
       "      <th>Review</th>\n",
       "      <th>Sentiment</th>\n",
       "    </tr>\n",
       "  </thead>\n",
       "  <tbody>\n",
       "    <tr>\n",
       "      <th>0</th>\n",
       "      <td>5</td>\n",
       "      <td>I bought this product for my Breaking Bad Hall...</td>\n",
       "      <td>1</td>\n",
       "    </tr>\n",
       "    <tr>\n",
       "      <th>1</th>\n",
       "      <td>5</td>\n",
       "      <td>My dog would do anything for his liver treats!...</td>\n",
       "      <td>1</td>\n",
       "    </tr>\n",
       "    <tr>\n",
       "      <th>2</th>\n",
       "      <td>5</td>\n",
       "      <td>Just finished off my first Amazon packaged (50...</td>\n",
       "      <td>1</td>\n",
       "    </tr>\n",
       "    <tr>\n",
       "      <th>3</th>\n",
       "      <td>5</td>\n",
       "      <td>In my search for instant java fix, I have samp...</td>\n",
       "      <td>1</td>\n",
       "    </tr>\n",
       "    <tr>\n",
       "      <th>4</th>\n",
       "      <td>1</td>\n",
       "      <td>This is not a product I can use.  It left my h...</td>\n",
       "      <td>0</td>\n",
       "    </tr>\n",
       "    <tr>\n",
       "      <th>...</th>\n",
       "      <td>...</td>\n",
       "      <td>...</td>\n",
       "      <td>...</td>\n",
       "    </tr>\n",
       "    <tr>\n",
       "      <th>113676</th>\n",
       "      <td>5</td>\n",
       "      <td>Fate has smiled upon you today, for you have s...</td>\n",
       "      <td>1</td>\n",
       "    </tr>\n",
       "    <tr>\n",
       "      <th>113677</th>\n",
       "      <td>5</td>\n",
       "      <td>I've been drinking this for quite awhile now a...</td>\n",
       "      <td>1</td>\n",
       "    </tr>\n",
       "    <tr>\n",
       "      <th>113678</th>\n",
       "      <td>2</td>\n",
       "      <td>I really like ChooChoo R Snacks Jerky, their q...</td>\n",
       "      <td>0</td>\n",
       "    </tr>\n",
       "    <tr>\n",
       "      <th>113679</th>\n",
       "      <td>5</td>\n",
       "      <td>I love this food for my kitties!  Mr poof devo...</td>\n",
       "      <td>1</td>\n",
       "    </tr>\n",
       "    <tr>\n",
       "      <th>113680</th>\n",
       "      <td>5</td>\n",
       "      <td>I started on Weight Watchers in November 2008 ...</td>\n",
       "      <td>1</td>\n",
       "    </tr>\n",
       "  </tbody>\n",
       "</table>\n",
       "<p>113681 rows × 3 columns</p>\n",
       "</div>"
      ],
      "text/plain": [
       "        Rating                                             Review  Sentiment\n",
       "0            5  I bought this product for my Breaking Bad Hall...          1\n",
       "1            5  My dog would do anything for his liver treats!...          1\n",
       "2            5  Just finished off my first Amazon packaged (50...          1\n",
       "3            5  In my search for instant java fix, I have samp...          1\n",
       "4            1  This is not a product I can use.  It left my h...          0\n",
       "...        ...                                                ...        ...\n",
       "113676       5  Fate has smiled upon you today, for you have s...          1\n",
       "113677       5  I've been drinking this for quite awhile now a...          1\n",
       "113678       2  I really like ChooChoo R Snacks Jerky, their q...          0\n",
       "113679       5  I love this food for my kitties!  Mr poof devo...          1\n",
       "113680       5  I started on Weight Watchers in November 2008 ...          1\n",
       "\n",
       "[113681 rows x 3 columns]"
      ]
     },
     "execution_count": 183,
     "metadata": {},
     "output_type": "execute_result"
    }
   ],
   "source": [
    "df"
   ]
  },
  {
   "cell_type": "code",
   "execution_count": 184,
   "id": "a85fc697",
   "metadata": {},
   "outputs": [],
   "source": [
    "df.drop('Rating',axis=1,inplace=True)"
   ]
  },
  {
   "cell_type": "code",
   "execution_count": 185,
   "id": "9de85647",
   "metadata": {},
   "outputs": [
    {
     "data": {
      "text/plain": [
       "1    72456\n",
       "0    41225\n",
       "Name: Sentiment, dtype: int64"
      ]
     },
     "execution_count": 185,
     "metadata": {},
     "output_type": "execute_result"
    }
   ],
   "source": [
    "df.Sentiment.value_counts()"
   ]
  },
  {
   "cell_type": "code",
   "execution_count": 186,
   "id": "a96ef3d0",
   "metadata": {},
   "outputs": [],
   "source": [
    "def clean_text(review):\n",
    "    review=str(review).lower()\n",
    "    review=re.sub('\\[.*?\\]','',review)\n",
    "    review=re.sub('https?://\\S+|www\\.\\S+','',review)\n",
    "    review=re.sub('<.*?>+','',review)\n",
    "    review=re.sub(r'[^a-zA-Z0-9\\s]','',review)\n",
    "    review=re.sub('\\n','',review)\n",
    "    review=re.sub('\\w*\\d\\w*','',review)\n",
    "    return review"
   ]
  },
  {
   "cell_type": "code",
   "execution_count": 187,
   "id": "2271b18f",
   "metadata": {},
   "outputs": [],
   "source": [
    "df['Review']=df['Review'].apply(clean_text)"
   ]
  },
  {
   "cell_type": "code",
   "execution_count": 188,
   "id": "4faffafe",
   "metadata": {},
   "outputs": [
    {
     "data": {
      "text/html": [
       "<div>\n",
       "<style scoped>\n",
       "    .dataframe tbody tr th:only-of-type {\n",
       "        vertical-align: middle;\n",
       "    }\n",
       "\n",
       "    .dataframe tbody tr th {\n",
       "        vertical-align: top;\n",
       "    }\n",
       "\n",
       "    .dataframe thead th {\n",
       "        text-align: right;\n",
       "    }\n",
       "</style>\n",
       "<table border=\"1\" class=\"dataframe\">\n",
       "  <thead>\n",
       "    <tr style=\"text-align: right;\">\n",
       "      <th></th>\n",
       "      <th>Review</th>\n",
       "      <th>Sentiment</th>\n",
       "    </tr>\n",
       "  </thead>\n",
       "  <tbody>\n",
       "    <tr>\n",
       "      <th>0</th>\n",
       "      <td>i bought this product for my breaking bad hall...</td>\n",
       "      <td>1</td>\n",
       "    </tr>\n",
       "    <tr>\n",
       "      <th>1</th>\n",
       "      <td>my dog would do anything for his liver treats ...</td>\n",
       "      <td>1</td>\n",
       "    </tr>\n",
       "    <tr>\n",
       "      <th>2</th>\n",
       "      <td>just finished off my first amazon packaged  co...</td>\n",
       "      <td>1</td>\n",
       "    </tr>\n",
       "    <tr>\n",
       "      <th>3</th>\n",
       "      <td>in my search for instant java fix i have sampl...</td>\n",
       "      <td>1</td>\n",
       "    </tr>\n",
       "    <tr>\n",
       "      <th>4</th>\n",
       "      <td>this is not a product i can use  it left my ha...</td>\n",
       "      <td>0</td>\n",
       "    </tr>\n",
       "    <tr>\n",
       "      <th>...</th>\n",
       "      <td>...</td>\n",
       "      <td>...</td>\n",
       "    </tr>\n",
       "    <tr>\n",
       "      <th>113676</th>\n",
       "      <td>fate has smiled upon you today for you have st...</td>\n",
       "      <td>1</td>\n",
       "    </tr>\n",
       "    <tr>\n",
       "      <th>113677</th>\n",
       "      <td>ive been drinking this for quite awhile now an...</td>\n",
       "      <td>1</td>\n",
       "    </tr>\n",
       "    <tr>\n",
       "      <th>113678</th>\n",
       "      <td>i really like choochoo r snacks jerky their qu...</td>\n",
       "      <td>0</td>\n",
       "    </tr>\n",
       "    <tr>\n",
       "      <th>113679</th>\n",
       "      <td>i love this food for my kitties  mr poof devou...</td>\n",
       "      <td>1</td>\n",
       "    </tr>\n",
       "    <tr>\n",
       "      <th>113680</th>\n",
       "      <td>i started on weight watchers in november  and ...</td>\n",
       "      <td>1</td>\n",
       "    </tr>\n",
       "  </tbody>\n",
       "</table>\n",
       "<p>113681 rows × 2 columns</p>\n",
       "</div>"
      ],
      "text/plain": [
       "                                                   Review  Sentiment\n",
       "0       i bought this product for my breaking bad hall...          1\n",
       "1       my dog would do anything for his liver treats ...          1\n",
       "2       just finished off my first amazon packaged  co...          1\n",
       "3       in my search for instant java fix i have sampl...          1\n",
       "4       this is not a product i can use  it left my ha...          0\n",
       "...                                                   ...        ...\n",
       "113676  fate has smiled upon you today for you have st...          1\n",
       "113677  ive been drinking this for quite awhile now an...          1\n",
       "113678  i really like choochoo r snacks jerky their qu...          0\n",
       "113679  i love this food for my kitties  mr poof devou...          1\n",
       "113680  i started on weight watchers in november  and ...          1\n",
       "\n",
       "[113681 rows x 2 columns]"
      ]
     },
     "execution_count": 188,
     "metadata": {},
     "output_type": "execute_result"
    }
   ],
   "source": [
    "df"
   ]
  },
  {
   "cell_type": "code",
   "execution_count": 189,
   "id": "ccd5f24e",
   "metadata": {},
   "outputs": [],
   "source": [
    "from nltk.corpus import stopwords"
   ]
  },
  {
   "cell_type": "code",
   "execution_count": 190,
   "id": "3826cc8d",
   "metadata": {},
   "outputs": [],
   "source": [
    "stop_words=set(stopwords.words('english'))\n",
    "stopword=[]\n",
    "sentence=df['Review'][0]\n",
    "\n",
    "def remove_stopwords(stop_words,sentence):\n",
    "    return [word for word in nltk.word_tokenize(sentence) if word not in stop_words]"
   ]
  },
  {
   "cell_type": "code",
   "execution_count": 191,
   "id": "d0b00d8b",
   "metadata": {},
   "outputs": [],
   "source": [
    "df['reviews_text']=df['Review'].apply(lambda row: remove_stopwords(stop_words,row))"
   ]
  },
  {
   "cell_type": "code",
   "execution_count": 192,
   "id": "3034e4c8",
   "metadata": {},
   "outputs": [],
   "source": [
    "x=df['reviews_text']\n",
    "y=df['Sentiment']"
   ]
  },
  {
   "cell_type": "code",
   "execution_count": 193,
   "id": "87b70b47",
   "metadata": {},
   "outputs": [
    {
     "data": {
      "text/plain": [
       "0         [bought, product, breaking, bad, halloween, co...\n",
       "1         [dog, would, anything, liver, treats, whenever...\n",
       "2         [finished, first, amazon, packaged, count, box...\n",
       "3         [search, instant, java, fix, sampled, french, ...\n",
       "4         [product, use, left, hair, greasy, applied, we...\n",
       "                                ...                        \n",
       "113676    [fate, smiled, upon, today, stumbled, upon, re...\n",
       "113677    [ive, drinking, quite, awhile, disappointed, l...\n",
       "113678    [really, like, choochoo, r, snacks, jerky, qua...\n",
       "113679    [love, food, kitties, mr, poof, devours, stuff...\n",
       "113680    [started, weight, watchers, november, august, ...\n",
       "Name: reviews_text, Length: 113681, dtype: object"
      ]
     },
     "execution_count": 193,
     "metadata": {},
     "output_type": "execute_result"
    }
   ],
   "source": [
    "x"
   ]
  },
  {
   "cell_type": "code",
   "execution_count": 194,
   "id": "fb250fd6",
   "metadata": {},
   "outputs": [],
   "source": [
    "for i in range(0,113679):\n",
    "    x[i]=' '.join(str(j) for j in x[i])"
   ]
  },
  {
   "cell_type": "code",
   "execution_count": 195,
   "id": "63a0ad51",
   "metadata": {},
   "outputs": [
    {
     "data": {
      "text/plain": [
       "'resemblance beverage margarita purely coincidental touch salt sort cleaning product green kind tastes like honeydew melon family agreed idea supposed taste like might mind much im fan honeydew honeydew melon margarita suppose somewhat resembles gatorade color though saltyi even liked appletini flavor although never drunk actual appletinicontemplating conjures technicolor yawns youth margarita flavor dreadful free lunch low calorie margarita'"
      ]
     },
     "execution_count": 195,
     "metadata": {},
     "output_type": "execute_result"
    }
   ],
   "source": [
    "x[11801]"
   ]
  },
  {
   "cell_type": "code",
   "execution_count": 196,
   "id": "9a09e564",
   "metadata": {},
   "outputs": [
    {
     "data": {
      "text/plain": [
       "0         bought product breaking bad halloween costume ...\n",
       "1         dog would anything liver treats whenever playm...\n",
       "2         finished first amazon packaged count box impre...\n",
       "3         search instant java fix sampled french german ...\n",
       "4         product use left hair greasy applied wet hair ...\n",
       "                                ...                        \n",
       "113676    fate smiled upon today stumbled upon review be...\n",
       "113677    ive drinking quite awhile disappointed like st...\n",
       "113678    really like choochoo r snacks jerky quality ex...\n",
       "113679    [love, food, kitties, mr, poof, devours, stuff...\n",
       "113680    [started, weight, watchers, november, august, ...\n",
       "Name: reviews_text, Length: 113681, dtype: object"
      ]
     },
     "execution_count": 196,
     "metadata": {},
     "output_type": "execute_result"
    }
   ],
   "source": [
    "x"
   ]
  },
  {
   "cell_type": "code",
   "execution_count": 205,
   "id": "0139b37c",
   "metadata": {},
   "outputs": [],
   "source": [
    "x.drop(labels=[113679,113680],inplace=True)"
   ]
  },
  {
   "cell_type": "code",
   "execution_count": 206,
   "id": "f946a2fc",
   "metadata": {},
   "outputs": [],
   "source": [
    "y.drop(labels=[113679,113680],inplace=True)"
   ]
  },
  {
   "cell_type": "code",
   "execution_count": 207,
   "id": "1d862b3d",
   "metadata": {},
   "outputs": [],
   "source": [
    "xtrain,xtest,ytrain,ytest=train_test_split(x,y,test_size=0.2,random_state=47)"
   ]
  },
  {
   "cell_type": "code",
   "execution_count": 208,
   "id": "459d576b",
   "metadata": {},
   "outputs": [],
   "source": [
    "from sklearn.pipeline import Pipeline"
   ]
  },
  {
   "cell_type": "code",
   "execution_count": 209,
   "id": "141fd3d2",
   "metadata": {},
   "outputs": [],
   "source": [
    "clf=Pipeline([\n",
    "    ('vect',TfidfVectorizer(stop_words='english')),\n",
    "    ('classifier',LogisticRegression()),\n",
    "])"
   ]
  },
  {
   "cell_type": "code",
   "execution_count": 210,
   "id": "1a2e00f5",
   "metadata": {},
   "outputs": [],
   "source": [
    "model=clf.fit(xtrain,ytrain)"
   ]
  },
  {
   "cell_type": "code",
   "execution_count": 211,
   "id": "d6897806",
   "metadata": {},
   "outputs": [],
   "source": [
    "ypred=clf.predict(xtest)"
   ]
  },
  {
   "cell_type": "code",
   "execution_count": 212,
   "id": "e2222e13",
   "metadata": {},
   "outputs": [
    {
     "data": {
      "text/plain": [
       "0.850972587224965"
      ]
     },
     "execution_count": 212,
     "metadata": {},
     "output_type": "execute_result"
    }
   ],
   "source": [
    "model.score(xtrain,ytrain)"
   ]
  },
  {
   "cell_type": "code",
   "execution_count": 213,
   "id": "3b37052c",
   "metadata": {},
   "outputs": [
    {
     "data": {
      "text/plain": [
       "0.8186136523574947"
      ]
     },
     "execution_count": 213,
     "metadata": {},
     "output_type": "execute_result"
    }
   ],
   "source": [
    "model.score(xtest,ytest)"
   ]
  },
  {
   "cell_type": "code",
   "execution_count": 214,
   "id": "5e0c3a9e",
   "metadata": {},
   "outputs": [
    {
     "data": {
      "text/plain": [
       "array([[ 5523,  2713],\n",
       "       [ 1411, 13089]], dtype=int64)"
      ]
     },
     "execution_count": 214,
     "metadata": {},
     "output_type": "execute_result"
    }
   ],
   "source": [
    "confusion_matrix(ytest,ypred)"
   ]
  },
  {
   "cell_type": "code",
   "execution_count": 215,
   "id": "7bb0ea2d",
   "metadata": {},
   "outputs": [
    {
     "name": "stdout",
     "output_type": "stream",
     "text": [
      "              precision    recall  f1-score   support\n",
      "\n",
      "           0       0.80      0.67      0.73      8236\n",
      "           1       0.83      0.90      0.86     14500\n",
      "\n",
      "    accuracy                           0.82     22736\n",
      "   macro avg       0.81      0.79      0.80     22736\n",
      "weighted avg       0.82      0.82      0.81     22736\n",
      "\n"
     ]
    }
   ],
   "source": [
    "print(classification_report(ytest,ypred))"
   ]
  },
  {
   "cell_type": "code",
   "execution_count": 216,
   "id": "5176fb19",
   "metadata": {},
   "outputs": [
    {
     "data": {
      "text/plain": [
       "array([1, 1, 1, ..., 1, 0, 0], dtype=int64)"
      ]
     },
     "execution_count": 216,
     "metadata": {},
     "output_type": "execute_result"
    }
   ],
   "source": [
    "ypred"
   ]
  },
  {
   "cell_type": "code",
   "execution_count": null,
   "id": "4cdc8f29",
   "metadata": {},
   "outputs": [],
   "source": []
  }
 ],
 "metadata": {
  "kernelspec": {
   "display_name": "Python 3",
   "language": "python",
   "name": "python3"
  },
  "language_info": {
   "codemirror_mode": {
    "name": "ipython",
    "version": 3
   },
   "file_extension": ".py",
   "mimetype": "text/x-python",
   "name": "python",
   "nbconvert_exporter": "python",
   "pygments_lexer": "ipython3",
   "version": "3.8.8"
  }
 },
 "nbformat": 4,
 "nbformat_minor": 5
}
