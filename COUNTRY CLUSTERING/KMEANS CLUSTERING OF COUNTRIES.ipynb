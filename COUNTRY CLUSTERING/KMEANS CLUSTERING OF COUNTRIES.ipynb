{
 "cells": [
  {
   "cell_type": "code",
   "execution_count": 2,
   "id": "295fdfda",
   "metadata": {},
   "outputs": [],
   "source": [
    "import numpy as np\n",
    "import pandas as pd\n",
    "import matplotlib.pyplot as plt\n",
    "import seaborn as sns\n",
    "from sklearn.cluster import KMeans\n",
    "from sklearn.preprocessing import StandardScaler\n",
    "from sklearn.metrics import silhouette_score,silhouette_samples\n",
    "import os\n",
    "os.chdir('C:\\\\Post Graduate Course in Data Analytics\\\\MACHINE LEARNING\\\\KAGGLE DATASETS')"
   ]
  },
  {
   "cell_type": "code",
   "execution_count": 11,
   "id": "168315a2",
   "metadata": {},
   "outputs": [
    {
     "data": {
      "text/html": [
       "<div>\n",
       "<style scoped>\n",
       "    .dataframe tbody tr th:only-of-type {\n",
       "        vertical-align: middle;\n",
       "    }\n",
       "\n",
       "    .dataframe tbody tr th {\n",
       "        vertical-align: top;\n",
       "    }\n",
       "\n",
       "    .dataframe thead th {\n",
       "        text-align: right;\n",
       "    }\n",
       "</style>\n",
       "<table border=\"1\" class=\"dataframe\">\n",
       "  <thead>\n",
       "    <tr style=\"text-align: right;\">\n",
       "      <th></th>\n",
       "      <th>country</th>\n",
       "      <th>child_mort</th>\n",
       "      <th>exports</th>\n",
       "      <th>health</th>\n",
       "      <th>imports</th>\n",
       "      <th>income</th>\n",
       "      <th>inflation</th>\n",
       "      <th>life_expec</th>\n",
       "      <th>total_fer</th>\n",
       "      <th>gdpp</th>\n",
       "    </tr>\n",
       "  </thead>\n",
       "  <tbody>\n",
       "    <tr>\n",
       "      <th>0</th>\n",
       "      <td>Afghanistan</td>\n",
       "      <td>90.2</td>\n",
       "      <td>10.0</td>\n",
       "      <td>7.58</td>\n",
       "      <td>44.9</td>\n",
       "      <td>1610</td>\n",
       "      <td>9.440</td>\n",
       "      <td>56.2</td>\n",
       "      <td>5.82</td>\n",
       "      <td>553</td>\n",
       "    </tr>\n",
       "    <tr>\n",
       "      <th>1</th>\n",
       "      <td>Albania</td>\n",
       "      <td>16.6</td>\n",
       "      <td>28.0</td>\n",
       "      <td>6.55</td>\n",
       "      <td>48.6</td>\n",
       "      <td>9930</td>\n",
       "      <td>4.490</td>\n",
       "      <td>76.3</td>\n",
       "      <td>1.65</td>\n",
       "      <td>4090</td>\n",
       "    </tr>\n",
       "    <tr>\n",
       "      <th>2</th>\n",
       "      <td>Algeria</td>\n",
       "      <td>27.3</td>\n",
       "      <td>38.4</td>\n",
       "      <td>4.17</td>\n",
       "      <td>31.4</td>\n",
       "      <td>12900</td>\n",
       "      <td>16.100</td>\n",
       "      <td>76.5</td>\n",
       "      <td>2.89</td>\n",
       "      <td>4460</td>\n",
       "    </tr>\n",
       "    <tr>\n",
       "      <th>3</th>\n",
       "      <td>Angola</td>\n",
       "      <td>119.0</td>\n",
       "      <td>62.3</td>\n",
       "      <td>2.85</td>\n",
       "      <td>42.9</td>\n",
       "      <td>5900</td>\n",
       "      <td>22.400</td>\n",
       "      <td>60.1</td>\n",
       "      <td>6.16</td>\n",
       "      <td>3530</td>\n",
       "    </tr>\n",
       "    <tr>\n",
       "      <th>4</th>\n",
       "      <td>Antigua and Barbuda</td>\n",
       "      <td>10.3</td>\n",
       "      <td>45.5</td>\n",
       "      <td>6.03</td>\n",
       "      <td>58.9</td>\n",
       "      <td>19100</td>\n",
       "      <td>1.440</td>\n",
       "      <td>76.8</td>\n",
       "      <td>2.13</td>\n",
       "      <td>12200</td>\n",
       "    </tr>\n",
       "    <tr>\n",
       "      <th>5</th>\n",
       "      <td>Argentina</td>\n",
       "      <td>14.5</td>\n",
       "      <td>18.9</td>\n",
       "      <td>8.10</td>\n",
       "      <td>16.0</td>\n",
       "      <td>18700</td>\n",
       "      <td>20.900</td>\n",
       "      <td>75.8</td>\n",
       "      <td>2.37</td>\n",
       "      <td>10300</td>\n",
       "    </tr>\n",
       "    <tr>\n",
       "      <th>6</th>\n",
       "      <td>Armenia</td>\n",
       "      <td>18.1</td>\n",
       "      <td>20.8</td>\n",
       "      <td>4.40</td>\n",
       "      <td>45.3</td>\n",
       "      <td>6700</td>\n",
       "      <td>7.770</td>\n",
       "      <td>73.3</td>\n",
       "      <td>1.69</td>\n",
       "      <td>3220</td>\n",
       "    </tr>\n",
       "    <tr>\n",
       "      <th>7</th>\n",
       "      <td>Australia</td>\n",
       "      <td>4.8</td>\n",
       "      <td>19.8</td>\n",
       "      <td>8.73</td>\n",
       "      <td>20.9</td>\n",
       "      <td>41400</td>\n",
       "      <td>1.160</td>\n",
       "      <td>82.0</td>\n",
       "      <td>1.93</td>\n",
       "      <td>51900</td>\n",
       "    </tr>\n",
       "    <tr>\n",
       "      <th>8</th>\n",
       "      <td>Austria</td>\n",
       "      <td>4.3</td>\n",
       "      <td>51.3</td>\n",
       "      <td>11.00</td>\n",
       "      <td>47.8</td>\n",
       "      <td>43200</td>\n",
       "      <td>0.873</td>\n",
       "      <td>80.5</td>\n",
       "      <td>1.44</td>\n",
       "      <td>46900</td>\n",
       "    </tr>\n",
       "    <tr>\n",
       "      <th>9</th>\n",
       "      <td>Azerbaijan</td>\n",
       "      <td>39.2</td>\n",
       "      <td>54.3</td>\n",
       "      <td>5.88</td>\n",
       "      <td>20.7</td>\n",
       "      <td>16000</td>\n",
       "      <td>13.800</td>\n",
       "      <td>69.1</td>\n",
       "      <td>1.92</td>\n",
       "      <td>5840</td>\n",
       "    </tr>\n",
       "  </tbody>\n",
       "</table>\n",
       "</div>"
      ],
      "text/plain": [
       "               country  child_mort  exports  health  imports  income  \\\n",
       "0          Afghanistan        90.2     10.0    7.58     44.9    1610   \n",
       "1              Albania        16.6     28.0    6.55     48.6    9930   \n",
       "2              Algeria        27.3     38.4    4.17     31.4   12900   \n",
       "3               Angola       119.0     62.3    2.85     42.9    5900   \n",
       "4  Antigua and Barbuda        10.3     45.5    6.03     58.9   19100   \n",
       "5            Argentina        14.5     18.9    8.10     16.0   18700   \n",
       "6              Armenia        18.1     20.8    4.40     45.3    6700   \n",
       "7            Australia         4.8     19.8    8.73     20.9   41400   \n",
       "8              Austria         4.3     51.3   11.00     47.8   43200   \n",
       "9           Azerbaijan        39.2     54.3    5.88     20.7   16000   \n",
       "\n",
       "   inflation  life_expec  total_fer   gdpp  \n",
       "0      9.440        56.2       5.82    553  \n",
       "1      4.490        76.3       1.65   4090  \n",
       "2     16.100        76.5       2.89   4460  \n",
       "3     22.400        60.1       6.16   3530  \n",
       "4      1.440        76.8       2.13  12200  \n",
       "5     20.900        75.8       2.37  10300  \n",
       "6      7.770        73.3       1.69   3220  \n",
       "7      1.160        82.0       1.93  51900  \n",
       "8      0.873        80.5       1.44  46900  \n",
       "9     13.800        69.1       1.92   5840  "
      ]
     },
     "execution_count": 11,
     "metadata": {},
     "output_type": "execute_result"
    }
   ],
   "source": [
    "df=pd.read_csv('Country-data.csv')\n",
    "df.head(10)"
   ]
  },
  {
   "cell_type": "code",
   "execution_count": 4,
   "id": "0913458d",
   "metadata": {},
   "outputs": [
    {
     "name": "stdout",
     "output_type": "stream",
     "text": [
      "<class 'pandas.core.frame.DataFrame'>\n",
      "RangeIndex: 167 entries, 0 to 166\n",
      "Data columns (total 10 columns):\n",
      " #   Column      Non-Null Count  Dtype  \n",
      "---  ------      --------------  -----  \n",
      " 0   country     167 non-null    object \n",
      " 1   child_mort  167 non-null    float64\n",
      " 2   exports     167 non-null    float64\n",
      " 3   health      167 non-null    float64\n",
      " 4   imports     167 non-null    float64\n",
      " 5   income      167 non-null    int64  \n",
      " 6   inflation   167 non-null    float64\n",
      " 7   life_expec  167 non-null    float64\n",
      " 8   total_fer   167 non-null    float64\n",
      " 9   gdpp        167 non-null    int64  \n",
      "dtypes: float64(7), int64(2), object(1)\n",
      "memory usage: 13.2+ KB\n"
     ]
    }
   ],
   "source": [
    "df.info()"
   ]
  },
  {
   "cell_type": "code",
   "execution_count": 7,
   "id": "9a505c82",
   "metadata": {},
   "outputs": [
    {
     "data": {
      "text/html": [
       "<div>\n",
       "<style scoped>\n",
       "    .dataframe tbody tr th:only-of-type {\n",
       "        vertical-align: middle;\n",
       "    }\n",
       "\n",
       "    .dataframe tbody tr th {\n",
       "        vertical-align: top;\n",
       "    }\n",
       "\n",
       "    .dataframe thead th {\n",
       "        text-align: right;\n",
       "    }\n",
       "</style>\n",
       "<table border=\"1\" class=\"dataframe\">\n",
       "  <thead>\n",
       "    <tr style=\"text-align: right;\">\n",
       "      <th></th>\n",
       "      <th>count</th>\n",
       "      <th>unique</th>\n",
       "      <th>top</th>\n",
       "      <th>freq</th>\n",
       "      <th>mean</th>\n",
       "      <th>std</th>\n",
       "      <th>min</th>\n",
       "      <th>25%</th>\n",
       "      <th>50%</th>\n",
       "      <th>75%</th>\n",
       "      <th>max</th>\n",
       "    </tr>\n",
       "  </thead>\n",
       "  <tbody>\n",
       "    <tr>\n",
       "      <th>country</th>\n",
       "      <td>167</td>\n",
       "      <td>167</td>\n",
       "      <td>Mauritius</td>\n",
       "      <td>1</td>\n",
       "      <td>NaN</td>\n",
       "      <td>NaN</td>\n",
       "      <td>NaN</td>\n",
       "      <td>NaN</td>\n",
       "      <td>NaN</td>\n",
       "      <td>NaN</td>\n",
       "      <td>NaN</td>\n",
       "    </tr>\n",
       "    <tr>\n",
       "      <th>child_mort</th>\n",
       "      <td>167.0</td>\n",
       "      <td>NaN</td>\n",
       "      <td>NaN</td>\n",
       "      <td>NaN</td>\n",
       "      <td>38.27006</td>\n",
       "      <td>40.328931</td>\n",
       "      <td>2.6</td>\n",
       "      <td>8.25</td>\n",
       "      <td>19.3</td>\n",
       "      <td>62.1</td>\n",
       "      <td>208.0</td>\n",
       "    </tr>\n",
       "    <tr>\n",
       "      <th>exports</th>\n",
       "      <td>167.0</td>\n",
       "      <td>NaN</td>\n",
       "      <td>NaN</td>\n",
       "      <td>NaN</td>\n",
       "      <td>41.108976</td>\n",
       "      <td>27.41201</td>\n",
       "      <td>0.109</td>\n",
       "      <td>23.8</td>\n",
       "      <td>35.0</td>\n",
       "      <td>51.35</td>\n",
       "      <td>200.0</td>\n",
       "    </tr>\n",
       "    <tr>\n",
       "      <th>health</th>\n",
       "      <td>167.0</td>\n",
       "      <td>NaN</td>\n",
       "      <td>NaN</td>\n",
       "      <td>NaN</td>\n",
       "      <td>6.815689</td>\n",
       "      <td>2.746837</td>\n",
       "      <td>1.81</td>\n",
       "      <td>4.92</td>\n",
       "      <td>6.32</td>\n",
       "      <td>8.6</td>\n",
       "      <td>17.9</td>\n",
       "    </tr>\n",
       "    <tr>\n",
       "      <th>imports</th>\n",
       "      <td>167.0</td>\n",
       "      <td>NaN</td>\n",
       "      <td>NaN</td>\n",
       "      <td>NaN</td>\n",
       "      <td>46.890215</td>\n",
       "      <td>24.209589</td>\n",
       "      <td>0.0659</td>\n",
       "      <td>30.2</td>\n",
       "      <td>43.3</td>\n",
       "      <td>58.75</td>\n",
       "      <td>174.0</td>\n",
       "    </tr>\n",
       "    <tr>\n",
       "      <th>income</th>\n",
       "      <td>167.0</td>\n",
       "      <td>NaN</td>\n",
       "      <td>NaN</td>\n",
       "      <td>NaN</td>\n",
       "      <td>17144.688623</td>\n",
       "      <td>19278.067698</td>\n",
       "      <td>609.0</td>\n",
       "      <td>3355.0</td>\n",
       "      <td>9960.0</td>\n",
       "      <td>22800.0</td>\n",
       "      <td>125000.0</td>\n",
       "    </tr>\n",
       "    <tr>\n",
       "      <th>inflation</th>\n",
       "      <td>167.0</td>\n",
       "      <td>NaN</td>\n",
       "      <td>NaN</td>\n",
       "      <td>NaN</td>\n",
       "      <td>7.781832</td>\n",
       "      <td>10.570704</td>\n",
       "      <td>-4.21</td>\n",
       "      <td>1.81</td>\n",
       "      <td>5.39</td>\n",
       "      <td>10.75</td>\n",
       "      <td>104.0</td>\n",
       "    </tr>\n",
       "    <tr>\n",
       "      <th>life_expec</th>\n",
       "      <td>167.0</td>\n",
       "      <td>NaN</td>\n",
       "      <td>NaN</td>\n",
       "      <td>NaN</td>\n",
       "      <td>70.555689</td>\n",
       "      <td>8.893172</td>\n",
       "      <td>32.1</td>\n",
       "      <td>65.3</td>\n",
       "      <td>73.1</td>\n",
       "      <td>76.8</td>\n",
       "      <td>82.8</td>\n",
       "    </tr>\n",
       "    <tr>\n",
       "      <th>total_fer</th>\n",
       "      <td>167.0</td>\n",
       "      <td>NaN</td>\n",
       "      <td>NaN</td>\n",
       "      <td>NaN</td>\n",
       "      <td>2.947964</td>\n",
       "      <td>1.513848</td>\n",
       "      <td>1.15</td>\n",
       "      <td>1.795</td>\n",
       "      <td>2.41</td>\n",
       "      <td>3.88</td>\n",
       "      <td>7.49</td>\n",
       "    </tr>\n",
       "    <tr>\n",
       "      <th>gdpp</th>\n",
       "      <td>167.0</td>\n",
       "      <td>NaN</td>\n",
       "      <td>NaN</td>\n",
       "      <td>NaN</td>\n",
       "      <td>12964.155689</td>\n",
       "      <td>18328.704809</td>\n",
       "      <td>231.0</td>\n",
       "      <td>1330.0</td>\n",
       "      <td>4660.0</td>\n",
       "      <td>14050.0</td>\n",
       "      <td>105000.0</td>\n",
       "    </tr>\n",
       "  </tbody>\n",
       "</table>\n",
       "</div>"
      ],
      "text/plain": [
       "            count unique        top freq          mean           std     min  \\\n",
       "country       167    167  Mauritius    1           NaN           NaN     NaN   \n",
       "child_mort  167.0    NaN        NaN  NaN      38.27006     40.328931     2.6   \n",
       "exports     167.0    NaN        NaN  NaN     41.108976      27.41201   0.109   \n",
       "health      167.0    NaN        NaN  NaN      6.815689      2.746837    1.81   \n",
       "imports     167.0    NaN        NaN  NaN     46.890215     24.209589  0.0659   \n",
       "income      167.0    NaN        NaN  NaN  17144.688623  19278.067698   609.0   \n",
       "inflation   167.0    NaN        NaN  NaN      7.781832     10.570704   -4.21   \n",
       "life_expec  167.0    NaN        NaN  NaN     70.555689      8.893172    32.1   \n",
       "total_fer   167.0    NaN        NaN  NaN      2.947964      1.513848    1.15   \n",
       "gdpp        167.0    NaN        NaN  NaN  12964.155689  18328.704809   231.0   \n",
       "\n",
       "               25%     50%      75%       max  \n",
       "country        NaN     NaN      NaN       NaN  \n",
       "child_mort    8.25    19.3     62.1     208.0  \n",
       "exports       23.8    35.0    51.35     200.0  \n",
       "health        4.92    6.32      8.6      17.9  \n",
       "imports       30.2    43.3    58.75     174.0  \n",
       "income      3355.0  9960.0  22800.0  125000.0  \n",
       "inflation     1.81    5.39    10.75     104.0  \n",
       "life_expec    65.3    73.1     76.8      82.8  \n",
       "total_fer    1.795    2.41     3.88      7.49  \n",
       "gdpp        1330.0  4660.0  14050.0  105000.0  "
      ]
     },
     "execution_count": 7,
     "metadata": {},
     "output_type": "execute_result"
    }
   ],
   "source": [
    "df.describe(include='all').transpose()"
   ]
  },
  {
   "cell_type": "code",
   "execution_count": 8,
   "id": "5eb5095b",
   "metadata": {},
   "outputs": [
    {
     "data": {
      "text/plain": [
       "country       0\n",
       "child_mort    0\n",
       "exports       0\n",
       "health        0\n",
       "imports       0\n",
       "income        0\n",
       "inflation     0\n",
       "life_expec    0\n",
       "total_fer     0\n",
       "gdpp          0\n",
       "dtype: int64"
      ]
     },
     "execution_count": 8,
     "metadata": {},
     "output_type": "execute_result"
    }
   ],
   "source": [
    "df.isnull().sum()"
   ]
  },
  {
   "cell_type": "code",
   "execution_count": 12,
   "id": "f411397b",
   "metadata": {},
   "outputs": [
    {
     "data": {
      "text/html": [
       "<div>\n",
       "<style scoped>\n",
       "    .dataframe tbody tr th:only-of-type {\n",
       "        vertical-align: middle;\n",
       "    }\n",
       "\n",
       "    .dataframe tbody tr th {\n",
       "        vertical-align: top;\n",
       "    }\n",
       "\n",
       "    .dataframe thead th {\n",
       "        text-align: right;\n",
       "    }\n",
       "</style>\n",
       "<table border=\"1\" class=\"dataframe\">\n",
       "  <thead>\n",
       "    <tr style=\"text-align: right;\">\n",
       "      <th></th>\n",
       "      <th>child_mort</th>\n",
       "      <th>exports</th>\n",
       "      <th>health</th>\n",
       "      <th>imports</th>\n",
       "      <th>income</th>\n",
       "      <th>inflation</th>\n",
       "      <th>life_expec</th>\n",
       "      <th>total_fer</th>\n",
       "      <th>gdpp</th>\n",
       "    </tr>\n",
       "    <tr>\n",
       "      <th>country</th>\n",
       "      <th></th>\n",
       "      <th></th>\n",
       "      <th></th>\n",
       "      <th></th>\n",
       "      <th></th>\n",
       "      <th></th>\n",
       "      <th></th>\n",
       "      <th></th>\n",
       "      <th></th>\n",
       "    </tr>\n",
       "  </thead>\n",
       "  <tbody>\n",
       "    <tr>\n",
       "      <th>United Arab Emirates</th>\n",
       "      <td>8.6</td>\n",
       "      <td>77.7</td>\n",
       "      <td>3.66</td>\n",
       "      <td>63.6</td>\n",
       "      <td>57600</td>\n",
       "      <td>12.50</td>\n",
       "      <td>76.5</td>\n",
       "      <td>1.87</td>\n",
       "      <td>35000</td>\n",
       "    </tr>\n",
       "    <tr>\n",
       "      <th>United Kingdom</th>\n",
       "      <td>5.2</td>\n",
       "      <td>28.2</td>\n",
       "      <td>9.64</td>\n",
       "      <td>30.8</td>\n",
       "      <td>36200</td>\n",
       "      <td>1.57</td>\n",
       "      <td>80.3</td>\n",
       "      <td>1.92</td>\n",
       "      <td>38900</td>\n",
       "    </tr>\n",
       "    <tr>\n",
       "      <th>United States</th>\n",
       "      <td>7.3</td>\n",
       "      <td>12.4</td>\n",
       "      <td>17.90</td>\n",
       "      <td>15.8</td>\n",
       "      <td>49400</td>\n",
       "      <td>1.22</td>\n",
       "      <td>78.7</td>\n",
       "      <td>1.93</td>\n",
       "      <td>48400</td>\n",
       "    </tr>\n",
       "    <tr>\n",
       "      <th>Uruguay</th>\n",
       "      <td>10.6</td>\n",
       "      <td>26.3</td>\n",
       "      <td>8.35</td>\n",
       "      <td>25.4</td>\n",
       "      <td>17100</td>\n",
       "      <td>4.91</td>\n",
       "      <td>76.4</td>\n",
       "      <td>2.08</td>\n",
       "      <td>11900</td>\n",
       "    </tr>\n",
       "    <tr>\n",
       "      <th>Uzbekistan</th>\n",
       "      <td>36.3</td>\n",
       "      <td>31.7</td>\n",
       "      <td>5.81</td>\n",
       "      <td>28.5</td>\n",
       "      <td>4240</td>\n",
       "      <td>16.50</td>\n",
       "      <td>68.8</td>\n",
       "      <td>2.34</td>\n",
       "      <td>1380</td>\n",
       "    </tr>\n",
       "    <tr>\n",
       "      <th>Vanuatu</th>\n",
       "      <td>29.2</td>\n",
       "      <td>46.6</td>\n",
       "      <td>5.25</td>\n",
       "      <td>52.7</td>\n",
       "      <td>2950</td>\n",
       "      <td>2.62</td>\n",
       "      <td>63.0</td>\n",
       "      <td>3.50</td>\n",
       "      <td>2970</td>\n",
       "    </tr>\n",
       "    <tr>\n",
       "      <th>Venezuela</th>\n",
       "      <td>17.1</td>\n",
       "      <td>28.5</td>\n",
       "      <td>4.91</td>\n",
       "      <td>17.6</td>\n",
       "      <td>16500</td>\n",
       "      <td>45.90</td>\n",
       "      <td>75.4</td>\n",
       "      <td>2.47</td>\n",
       "      <td>13500</td>\n",
       "    </tr>\n",
       "    <tr>\n",
       "      <th>Vietnam</th>\n",
       "      <td>23.3</td>\n",
       "      <td>72.0</td>\n",
       "      <td>6.84</td>\n",
       "      <td>80.2</td>\n",
       "      <td>4490</td>\n",
       "      <td>12.10</td>\n",
       "      <td>73.1</td>\n",
       "      <td>1.95</td>\n",
       "      <td>1310</td>\n",
       "    </tr>\n",
       "    <tr>\n",
       "      <th>Yemen</th>\n",
       "      <td>56.3</td>\n",
       "      <td>30.0</td>\n",
       "      <td>5.18</td>\n",
       "      <td>34.4</td>\n",
       "      <td>4480</td>\n",
       "      <td>23.60</td>\n",
       "      <td>67.5</td>\n",
       "      <td>4.67</td>\n",
       "      <td>1310</td>\n",
       "    </tr>\n",
       "    <tr>\n",
       "      <th>Zambia</th>\n",
       "      <td>83.1</td>\n",
       "      <td>37.0</td>\n",
       "      <td>5.89</td>\n",
       "      <td>30.9</td>\n",
       "      <td>3280</td>\n",
       "      <td>14.00</td>\n",
       "      <td>52.0</td>\n",
       "      <td>5.40</td>\n",
       "      <td>1460</td>\n",
       "    </tr>\n",
       "  </tbody>\n",
       "</table>\n",
       "</div>"
      ],
      "text/plain": [
       "                      child_mort  exports  health  imports  income  inflation  \\\n",
       "country                                                                         \n",
       "United Arab Emirates         8.6     77.7    3.66     63.6   57600      12.50   \n",
       "United Kingdom               5.2     28.2    9.64     30.8   36200       1.57   \n",
       "United States                7.3     12.4   17.90     15.8   49400       1.22   \n",
       "Uruguay                     10.6     26.3    8.35     25.4   17100       4.91   \n",
       "Uzbekistan                  36.3     31.7    5.81     28.5    4240      16.50   \n",
       "Vanuatu                     29.2     46.6    5.25     52.7    2950       2.62   \n",
       "Venezuela                   17.1     28.5    4.91     17.6   16500      45.90   \n",
       "Vietnam                     23.3     72.0    6.84     80.2    4490      12.10   \n",
       "Yemen                       56.3     30.0    5.18     34.4    4480      23.60   \n",
       "Zambia                      83.1     37.0    5.89     30.9    3280      14.00   \n",
       "\n",
       "                      life_expec  total_fer   gdpp  \n",
       "country                                             \n",
       "United Arab Emirates        76.5       1.87  35000  \n",
       "United Kingdom              80.3       1.92  38900  \n",
       "United States               78.7       1.93  48400  \n",
       "Uruguay                     76.4       2.08  11900  \n",
       "Uzbekistan                  68.8       2.34   1380  \n",
       "Vanuatu                     63.0       3.50   2970  \n",
       "Venezuela                   75.4       2.47  13500  \n",
       "Vietnam                     73.1       1.95   1310  \n",
       "Yemen                       67.5       4.67   1310  \n",
       "Zambia                      52.0       5.40   1460  "
      ]
     },
     "execution_count": 12,
     "metadata": {},
     "output_type": "execute_result"
    }
   ],
   "source": [
    "df=df.set_index('country')\n",
    "df.tail(10)"
   ]
  },
  {
   "cell_type": "code",
   "execution_count": 13,
   "id": "f114921b",
   "metadata": {},
   "outputs": [
    {
     "data": {
      "text/plain": [
       "array([[ 1.29153238, -1.13827979,  0.27908825, ..., -1.61909203,\n",
       "         1.90288227, -0.67917961],\n",
       "       [-0.5389489 , -0.47965843, -0.09701618, ...,  0.64786643,\n",
       "        -0.85997281, -0.48562324],\n",
       "       [-0.27283273, -0.09912164, -0.96607302, ...,  0.67042323,\n",
       "        -0.0384044 , -0.46537561],\n",
       "       ...,\n",
       "       [-0.37231541,  1.13030491,  0.0088773 , ...,  0.28695762,\n",
       "        -0.66120626, -0.63775406],\n",
       "       [ 0.44841668, -0.40647827, -0.59727159, ..., -0.34463279,\n",
       "         1.14094382, -0.63775406],\n",
       "       [ 1.11495062, -0.15034774, -0.33801514, ..., -2.09278484,\n",
       "         1.6246091 , -0.62954556]])"
      ]
     },
     "execution_count": 13,
     "metadata": {},
     "output_type": "execute_result"
    }
   ],
   "source": [
    "dfsc=StandardScaler().fit_transform(df)\n",
    "dfsc"
   ]
  },
  {
   "cell_type": "code",
   "execution_count": 14,
   "id": "655f3f9a",
   "metadata": {},
   "outputs": [
    {
     "name": "stderr",
     "output_type": "stream",
     "text": [
      "C:\\Users\\soume\\anaconda3\\lib\\site-packages\\sklearn\\cluster\\_kmeans.py:881: UserWarning: KMeans is known to have a memory leak on Windows with MKL, when there are less chunks than available threads. You can avoid it by setting the environment variable OMP_NUM_THREADS=1.\n",
      "  warnings.warn(\n"
     ]
    },
    {
     "name": "stdout",
     "output_type": "stream",
     "text": [
      "[1503.0000000000002, 1050.2145582853307, 831.424435208687, 700.7057359845705, 639.7071673518852, 579.518921063345, 509.0763784976059, 462.5991819043713, 440.7653538634047, 394.8961502867703]\n"
     ]
    }
   ],
   "source": [
    "wcss=[]\n",
    "for i in range(1,11):\n",
    "    kmeans=KMeans(n_clusters=i,init='random',random_state=121)\n",
    "    kmeans.fit(dfsc)\n",
    "    wcss.append(kmeans.inertia_)\n",
    "print(wcss)"
   ]
  },
  {
   "cell_type": "code",
   "execution_count": 15,
   "id": "8b58206b",
   "metadata": {},
   "outputs": [
    {
     "data": {
      "image/png": "[encoded data removed]",
      "text/plain": [
       "<Figure size 432x288 with 1 Axes>"
      ]
     },
     "metadata": {
      "needs_background": "light"
     },
     "output_type": "display_data"
    }
   ],
   "source": [
    "plt.plot(range(1,11),wcss,'rx-')\n",
    "plt.title('WCSS of Clusters')\n",
    "plt.xlabel('Number of Clusters')\n",
    "plt.ylabel('WCSS')\n",
    "plt.show()"
   ]
  },
  {
   "cell_type": "code",
   "execution_count": 69,
   "id": "06084a5f",
   "metadata": {},
   "outputs": [
    {
     "data": {
      "text/plain": [
       "array([1, 0, 0, 1, 0, 0, 0, 2, 2, 0, 0, 2, 0, 0, 0, 2, 0, 1, 0, 0, 0, 1,\n",
       "       0, 2, 0, 1, 1, 0, 1, 2, 0, 1, 1, 0, 0, 0, 1, 1, 1, 0, 1, 0, 2, 2,\n",
       "       2, 0, 0, 0, 0, 1, 1, 0, 0, 2, 2, 1, 1, 0, 2, 1, 2, 0, 0, 1, 1, 0,\n",
       "       1, 0, 2, 0, 0, 0, 1, 2, 2, 2, 0, 2, 0, 0, 1, 1, 2, 0, 1, 0, 0, 1,\n",
       "       1, 0, 0, 2, 0, 1, 1, 0, 0, 1, 2, 1, 0, 0, 0, 0, 0, 0, 1, 0, 1, 0,\n",
       "       2, 2, 1, 1, 2, 0, 1, 0, 0, 0, 0, 0, 2, 2, 0, 0, 1, 0, 0, 1, 0, 0,\n",
       "       1, 2, 2, 2, 0, 1, 2, 2, 0, 0, 1, 0, 2, 2, 0, 1, 0, 1, 1, 0, 0, 0,\n",
       "       0, 1, 0, 2, 2, 2, 0, 0, 0, 0, 0, 1, 1])"
      ]
     },
     "execution_count": 69,
     "metadata": {},
     "output_type": "execute_result"
    }
   ],
   "source": [
    "kmeans=KMeans(n_clusters=3)\n",
    "clusters=kmeans.fit_predict(dfsc)\n",
    "clusters"
   ]
  },
  {
   "cell_type": "code",
   "execution_count": 71,
   "id": "3295f7bb",
   "metadata": {},
   "outputs": [],
   "source": [
    "cluster_list=list(clusters)"
   ]
  },
  {
   "cell_type": "code",
   "execution_count": 72,
   "id": "e5e26d4f",
   "metadata": {},
   "outputs": [
    {
     "data": {
      "text/html": [
       "<div>\n",
       "<style scoped>\n",
       "    .dataframe tbody tr th:only-of-type {\n",
       "        vertical-align: middle;\n",
       "    }\n",
       "\n",
       "    .dataframe tbody tr th {\n",
       "        vertical-align: top;\n",
       "    }\n",
       "\n",
       "    .dataframe thead th {\n",
       "        text-align: right;\n",
       "    }\n",
       "</style>\n",
       "<table border=\"1\" class=\"dataframe\">\n",
       "  <thead>\n",
       "    <tr style=\"text-align: right;\">\n",
       "      <th></th>\n",
       "      <th>child_mort</th>\n",
       "      <th>exports</th>\n",
       "      <th>health</th>\n",
       "      <th>imports</th>\n",
       "      <th>income</th>\n",
       "      <th>inflation</th>\n",
       "      <th>life_expec</th>\n",
       "      <th>total_fer</th>\n",
       "      <th>gdpp</th>\n",
       "      <th>cluster</th>\n",
       "    </tr>\n",
       "    <tr>\n",
       "      <th>country</th>\n",
       "      <th></th>\n",
       "      <th></th>\n",
       "      <th></th>\n",
       "      <th></th>\n",
       "      <th></th>\n",
       "      <th></th>\n",
       "      <th></th>\n",
       "      <th></th>\n",
       "      <th></th>\n",
       "      <th></th>\n",
       "    </tr>\n",
       "  </thead>\n",
       "  <tbody>\n",
       "    <tr>\n",
       "      <th>Afghanistan</th>\n",
       "      <td>90.2</td>\n",
       "      <td>10.0</td>\n",
       "      <td>7.58</td>\n",
       "      <td>44.9</td>\n",
       "      <td>1610</td>\n",
       "      <td>9.440</td>\n",
       "      <td>56.2</td>\n",
       "      <td>5.82</td>\n",
       "      <td>553</td>\n",
       "      <td>1</td>\n",
       "    </tr>\n",
       "    <tr>\n",
       "      <th>Albania</th>\n",
       "      <td>16.6</td>\n",
       "      <td>28.0</td>\n",
       "      <td>6.55</td>\n",
       "      <td>48.6</td>\n",
       "      <td>9930</td>\n",
       "      <td>4.490</td>\n",
       "      <td>76.3</td>\n",
       "      <td>1.65</td>\n",
       "      <td>4090</td>\n",
       "      <td>0</td>\n",
       "    </tr>\n",
       "    <tr>\n",
       "      <th>Algeria</th>\n",
       "      <td>27.3</td>\n",
       "      <td>38.4</td>\n",
       "      <td>4.17</td>\n",
       "      <td>31.4</td>\n",
       "      <td>12900</td>\n",
       "      <td>16.100</td>\n",
       "      <td>76.5</td>\n",
       "      <td>2.89</td>\n",
       "      <td>4460</td>\n",
       "      <td>0</td>\n",
       "    </tr>\n",
       "    <tr>\n",
       "      <th>Angola</th>\n",
       "      <td>119.0</td>\n",
       "      <td>62.3</td>\n",
       "      <td>2.85</td>\n",
       "      <td>42.9</td>\n",
       "      <td>5900</td>\n",
       "      <td>22.400</td>\n",
       "      <td>60.1</td>\n",
       "      <td>6.16</td>\n",
       "      <td>3530</td>\n",
       "      <td>1</td>\n",
       "    </tr>\n",
       "    <tr>\n",
       "      <th>Antigua and Barbuda</th>\n",
       "      <td>10.3</td>\n",
       "      <td>45.5</td>\n",
       "      <td>6.03</td>\n",
       "      <td>58.9</td>\n",
       "      <td>19100</td>\n",
       "      <td>1.440</td>\n",
       "      <td>76.8</td>\n",
       "      <td>2.13</td>\n",
       "      <td>12200</td>\n",
       "      <td>0</td>\n",
       "    </tr>\n",
       "    <tr>\n",
       "      <th>Argentina</th>\n",
       "      <td>14.5</td>\n",
       "      <td>18.9</td>\n",
       "      <td>8.10</td>\n",
       "      <td>16.0</td>\n",
       "      <td>18700</td>\n",
       "      <td>20.900</td>\n",
       "      <td>75.8</td>\n",
       "      <td>2.37</td>\n",
       "      <td>10300</td>\n",
       "      <td>0</td>\n",
       "    </tr>\n",
       "    <tr>\n",
       "      <th>Armenia</th>\n",
       "      <td>18.1</td>\n",
       "      <td>20.8</td>\n",
       "      <td>4.40</td>\n",
       "      <td>45.3</td>\n",
       "      <td>6700</td>\n",
       "      <td>7.770</td>\n",
       "      <td>73.3</td>\n",
       "      <td>1.69</td>\n",
       "      <td>3220</td>\n",
       "      <td>0</td>\n",
       "    </tr>\n",
       "    <tr>\n",
       "      <th>Australia</th>\n",
       "      <td>4.8</td>\n",
       "      <td>19.8</td>\n",
       "      <td>8.73</td>\n",
       "      <td>20.9</td>\n",
       "      <td>41400</td>\n",
       "      <td>1.160</td>\n",
       "      <td>82.0</td>\n",
       "      <td>1.93</td>\n",
       "      <td>51900</td>\n",
       "      <td>2</td>\n",
       "    </tr>\n",
       "    <tr>\n",
       "      <th>Austria</th>\n",
       "      <td>4.3</td>\n",
       "      <td>51.3</td>\n",
       "      <td>11.00</td>\n",
       "      <td>47.8</td>\n",
       "      <td>43200</td>\n",
       "      <td>0.873</td>\n",
       "      <td>80.5</td>\n",
       "      <td>1.44</td>\n",
       "      <td>46900</td>\n",
       "      <td>2</td>\n",
       "    </tr>\n",
       "    <tr>\n",
       "      <th>Azerbaijan</th>\n",
       "      <td>39.2</td>\n",
       "      <td>54.3</td>\n",
       "      <td>5.88</td>\n",
       "      <td>20.7</td>\n",
       "      <td>16000</td>\n",
       "      <td>13.800</td>\n",
       "      <td>69.1</td>\n",
       "      <td>1.92</td>\n",
       "      <td>5840</td>\n",
       "      <td>0</td>\n",
       "    </tr>\n",
       "  </tbody>\n",
       "</table>\n",
       "</div>"
      ],
      "text/plain": [
       "                     child_mort  exports  health  imports  income  inflation  \\\n",
       "country                                                                        \n",
       "Afghanistan                90.2     10.0    7.58     44.9    1610      9.440   \n",
       "Albania                    16.6     28.0    6.55     48.6    9930      4.490   \n",
       "Algeria                    27.3     38.4    4.17     31.4   12900     16.100   \n",
       "Angola                    119.0     62.3    2.85     42.9    5900     22.400   \n",
       "Antigua and Barbuda        10.3     45.5    6.03     58.9   19100      1.440   \n",
       "Argentina                  14.5     18.9    8.10     16.0   18700     20.900   \n",
       "Armenia                    18.1     20.8    4.40     45.3    6700      7.770   \n",
       "Australia                   4.8     19.8    8.73     20.9   41400      1.160   \n",
       "Austria                     4.3     51.3   11.00     47.8   43200      0.873   \n",
       "Azerbaijan                 39.2     54.3    5.88     20.7   16000     13.800   \n",
       "\n",
       "                     life_expec  total_fer   gdpp  cluster  \n",
       "country                                                     \n",
       "Afghanistan                56.2       5.82    553        1  \n",
       "Albania                    76.3       1.65   4090        0  \n",
       "Algeria                    76.5       2.89   4460        0  \n",
       "Angola                     60.1       6.16   3530        1  \n",
       "Antigua and Barbuda        76.8       2.13  12200        0  \n",
       "Argentina                  75.8       2.37  10300        0  \n",
       "Armenia                    73.3       1.69   3220        0  \n",
       "Australia                  82.0       1.93  51900        2  \n",
       "Austria                    80.5       1.44  46900        2  \n",
       "Azerbaijan                 69.1       1.92   5840        0  "
      ]
     },
     "execution_count": 72,
     "metadata": {},
     "output_type": "execute_result"
    }
   ],
   "source": [
    "df['cluster']=cluster_list\n",
    "df.head(10)"
   ]
  },
  {
   "cell_type": "code",
   "execution_count": 21,
   "id": "6fc67522",
   "metadata": {},
   "outputs": [
    {
     "data": {
      "text/plain": [
       "0.28329575683463126"
      ]
     },
     "execution_count": 21,
     "metadata": {},
     "output_type": "execute_result"
    }
   ],
   "source": [
    "sil_score=silhouette_score(dfsc,clusters)\n",
    "sil_score"
   ]
  },
  {
   "cell_type": "code",
   "execution_count": 22,
   "id": "12b07b87",
   "metadata": {},
   "outputs": [
    {
     "data": {
      "text/plain": [
       "array([ 0.42365422,  0.53065531,  0.41803206,  0.31991876,  0.43383625,\n",
       "        0.35483992,  0.50078704,  0.25503118,  0.35021837,  0.38586768,\n",
       "        0.18867089, -0.18181368,  0.28339098,  0.36918173,  0.46980271,\n",
       "        0.26500644,  0.47896559,  0.36242395,  0.42974498,  0.33202277,\n",
       "        0.30392365, -0.08620519,  0.33707587,  0.09127455,  0.4732842 ,\n",
       "        0.45072557,  0.33778816,  0.31265347,  0.39479032,  0.31442187,\n",
       "        0.44128824,  0.38128751,  0.42467009,  0.35839794,  0.49491904,\n",
       "        0.42669157,  0.22917177,  0.40528266,  0.09377443,  0.27487082,\n",
       "        0.39290205,  0.34962824, -0.04447167, -0.13437676,  0.36156531,\n",
       "        0.46380254,  0.46812962,  0.3359854 ,  0.52222787,  0.14539918,\n",
       "        0.1547674 ,  0.27991977,  0.38562392,  0.29351207,  0.25856292,\n",
       "        0.02663844,  0.31094905,  0.43763125,  0.31422178,  0.22042106,\n",
       "        0.05020904,  0.50585854,  0.34747266,  0.42577269,  0.39680291,\n",
       "        0.32421495,  0.26745919,  0.22233967,  0.26937569,  0.18949805,\n",
       "        0.30426441,  0.44738488, -0.07846774,  0.23291893, -0.05205379,\n",
       "        0.20140158,  0.52734544,  0.20204064,  0.39580492,  0.35945699,\n",
       "        0.13950057,  0.03618425,  0.10480125,  0.3257099 , -0.01187205,\n",
       "        0.40174956,  0.3989174 ,  0.14463606,  0.16585212,  0.36250614,\n",
       "        0.33956994,  0.19486467,  0.49835908,  0.21147578,  0.43549744,\n",
       "        0.33194055,  0.38847   ,  0.43048637,  0.02315166,  0.18938633,\n",
       "        0.47107956,  0.08848763,  0.3234916 ,  0.15802131,  0.38252642,\n",
       "        0.47032566,  0.44160085,  0.08812355, -0.0294006 ,  0.23591208,\n",
       "        0.33088013,  0.14584575,  0.40811072,  0.08745134,  0.31938564,\n",
       "        0.20116015,  0.13771243,  0.32114288,  0.50582671,  0.47565894,\n",
       "        0.33770875,  0.36003951,  0.00886043,  0.19075251,  0.50013072,\n",
       "        0.43270414,  0.11405885,  0.29169687,  0.22224945,  0.22263698,\n",
       "        0.36009797,  0.19978495,  0.31034   ,  0.10141026, -0.1551173 ,\n",
       "        0.00156636,  0.09220887, -0.02079445, -0.14923494,  0.1261686 ,\n",
       "        0.35126327,  0.49932987,  0.22013052,  0.48397968,  0.35205496,\n",
       "        0.367971  ,  0.1650375 ,  0.36608535,  0.44270459,  0.17100013,\n",
       "        0.29655341,  0.28260732,  0.5243142 ,  0.42843574,  0.23114556,\n",
       "        0.38814513,  0.4986114 ,  0.04210249,  0.22340361,  0.19942054,\n",
       "        0.37609028,  0.34558249,  0.23582763,  0.17908562,  0.41725742,\n",
       "        0.08348042,  0.40451021])"
      ]
     },
     "execution_count": 22,
     "metadata": {},
     "output_type": "execute_result"
    }
   ],
   "source": [
    "sample_sil=silhouette_samples(dfsc,clusters)\n",
    "sample_sil"
   ]
  },
  {
   "cell_type": "code",
   "execution_count": 25,
   "id": "d8a9a4bb",
   "metadata": {},
   "outputs": [],
   "source": [
    "cluster_grp=df.groupby(df['cluster'])"
   ]
  },
  {
   "cell_type": "code",
   "execution_count": 27,
   "id": "fdd31c48",
   "metadata": {},
   "outputs": [
    {
     "name": "stdout",
     "output_type": "stream",
     "text": [
      "0\n",
      "                          child_mort  exports  health  imports  income  \\\n",
      "country                                                                  \n",
      "Afghanistan                     90.2    10.00    7.58     44.9    1610   \n",
      "Angola                         119.0    62.30    2.85     42.9    5900   \n",
      "Benin                          111.0    23.80    4.10     37.2    1820   \n",
      "Botswana                        52.5    43.60    8.30     51.3   13300   \n",
      "Burkina Faso                   116.0    19.20    6.74     29.6    1430   \n",
      "Burundi                         93.6     8.92   11.60     39.2     764   \n",
      "Cameroon                       108.0    22.20    5.13     27.0    2660   \n",
      "Central African Republic       149.0    11.80    3.98     26.5     888   \n",
      "Chad                           150.0    36.80    4.53     43.5    1930   \n",
      "Comoros                         88.2    16.50    4.51     51.7    1410   \n",
      "Congo, Dem. Rep.               116.0    41.10    7.91     49.6     609   \n",
      "Congo, Rep.                     63.9    85.10    2.46     54.7    5190   \n",
      "Cote d'Ivoire                  111.0    50.60    5.30     43.3    2690   \n",
      "Equatorial Guinea              111.0    85.80    4.48     58.9   33700   \n",
      "Eritrea                         55.2     4.79    2.66     23.3    1420   \n",
      "Gabon                           63.7    57.70    3.50     18.9   15400   \n",
      "Gambia                          80.3    23.80    5.69     42.7    1660   \n",
      "Ghana                           74.7    29.50    5.22     45.9    3060   \n",
      "Guinea                         109.0    30.30    4.93     43.2    1190   \n",
      "Guinea-Bissau                  114.0    14.90    8.50     35.2    1390   \n",
      "Haiti                          208.0    15.30    6.91     64.7    1500   \n",
      "Iraq                            36.9    39.40    8.41     34.1   12700   \n",
      "Kenya                           62.2    20.70    4.75     33.6    2480   \n",
      "Kiribati                        62.7    13.30   11.30     79.9    1730   \n",
      "Lao                             78.9    35.40    4.47     49.3    3980   \n",
      "Lesotho                         99.7    39.40   11.10    101.0    2380   \n",
      "Liberia                         89.3    19.10   11.80     92.6     700   \n",
      "Madagascar                      62.2    25.00    3.77     43.0    1390   \n",
      "Malawi                          90.5    22.80    6.59     34.9    1030   \n",
      "Mali                           137.0    22.80    4.98     35.1    1870   \n",
      "Mauritania                      97.4    50.70    4.41     61.2    3320   \n",
      "Mozambique                     101.0    31.50    5.21     46.2     918   \n",
      "Namibia                         56.0    47.80    6.78     60.7    8460   \n",
      "Niger                          123.0    22.20    5.16     49.1     814   \n",
      "Nigeria                        130.0    25.30    5.07     17.4    5150   \n",
      "Pakistan                        92.1    13.50    2.20     19.4    4280   \n",
      "Rwanda                          63.6    12.00   10.50     30.0    1350   \n",
      "Senegal                         66.8    24.90    5.66     40.3    2180   \n",
      "Sierra Leone                   160.0    16.80   13.10     34.5    1220   \n",
      "South Africa                    53.7    28.60    8.94     27.4   12000   \n",
      "Sudan                           76.7    19.70    6.32     17.2    3370   \n",
      "Tanzania                        71.9    18.70    6.01     29.1    2090   \n",
      "Timor-Leste                     62.6     2.20    9.12     27.8    1850   \n",
      "Togo                            90.3    40.20    7.65     57.3    1210   \n",
      "Uganda                          81.0    17.10    9.01     28.6    1540   \n",
      "Yemen                           56.3    30.00    5.18     34.4    4480   \n",
      "Zambia                          83.1    37.00    5.89     30.9    3280   \n",
      "\n",
      "                          inflation  life_expec  total_fer   gdpp  cluster  \n",
      "country                                                                     \n",
      "Afghanistan                   9.440        56.2       5.82    553        0  \n",
      "Angola                       22.400        60.1       6.16   3530        0  \n",
      "Benin                         0.885        61.8       5.36    758        0  \n",
      "Botswana                      8.920        57.1       2.88   6350        0  \n",
      "Burkina Faso                  6.810        57.9       5.87    575        0  \n",
      "Burundi                      12.300        57.7       6.26    231        0  \n",
      "Cameroon                      1.910        57.3       5.11   1310        0  \n",
      "Central African Republic      2.010        47.5       5.21    446        0  \n",
      "Chad                          6.390        56.5       6.59    897        0  \n",
      "Comoros                       3.870        65.9       4.75    769        0  \n",
      "Congo, Dem. Rep.             20.800        57.5       6.54    334        0  \n",
      "Congo, Rep.                  20.700        60.4       4.95   2740        0  \n",
      "Cote d'Ivoire                 5.390        56.3       5.27   1220        0  \n",
      "Equatorial Guinea            24.900        60.9       5.21  17100        0  \n",
      "Eritrea                      11.600        61.7       4.61    482        0  \n",
      "Gabon                        16.600        62.9       4.08   8750        0  \n",
      "Gambia                        4.300        65.5       5.71    562        0  \n",
      "Ghana                        16.600        62.2       4.27   1310        0  \n",
      "Guinea                       16.100        58.0       5.34    648        0  \n",
      "Guinea-Bissau                 2.970        55.6       5.05    547        0  \n",
      "Haiti                         5.450        32.1       3.33    662        0  \n",
      "Iraq                         16.600        67.2       4.56   4500        0  \n",
      "Kenya                         2.090        62.8       4.37    967        0  \n",
      "Kiribati                      1.520        60.7       3.84   1490        0  \n",
      "Lao                           9.200        63.8       3.15   1140        0  \n",
      "Lesotho                       4.150        46.5       3.30   1170        0  \n",
      "Liberia                       5.470        60.8       5.02    327        0  \n",
      "Madagascar                    8.790        60.8       4.60    413        0  \n",
      "Malawi                       12.100        53.1       5.31    459        0  \n",
      "Mali                          4.370        59.5       6.55    708        0  \n",
      "Mauritania                   18.900        68.2       4.98   1200        0  \n",
      "Mozambique                    7.640        54.5       5.56    419        0  \n",
      "Namibia                       3.560        58.6       3.60   5190        0  \n",
      "Niger                         2.550        58.8       7.49    348        0  \n",
      "Nigeria                     104.000        60.5       5.84   2330        0  \n",
      "Pakistan                     10.900        65.3       3.85   1040        0  \n",
      "Rwanda                        2.610        64.6       4.51    563        0  \n",
      "Senegal                       1.850        64.0       5.06   1000        0  \n",
      "Sierra Leone                 17.200        55.0       5.20    399        0  \n",
      "South Africa                  6.350        54.3       2.59   7280        0  \n",
      "Sudan                        19.600        66.3       4.88   1480        0  \n",
      "Tanzania                      9.250        59.3       5.43    702        0  \n",
      "Timor-Leste                  26.500        71.1       6.23   3600        0  \n",
      "Togo                          1.180        58.7       4.87    488        0  \n",
      "Uganda                       10.600        56.8       6.15    595        0  \n",
      "Yemen                        23.600        67.5       4.67   1310        0  \n",
      "Zambia                       14.000        52.0       5.40   1460        0  \n",
      "1\n",
      "                     child_mort  exports  health  imports  income  inflation  \\\n",
      "country                                                                        \n",
      "Albania                    16.6     28.0    6.55     48.6    9930       4.49   \n",
      "Algeria                    27.3     38.4    4.17     31.4   12900      16.10   \n",
      "Antigua and Barbuda        10.3     45.5    6.03     58.9   19100       1.44   \n",
      "Argentina                  14.5     18.9    8.10     16.0   18700      20.90   \n",
      "Armenia                    18.1     20.8    4.40     45.3    6700       7.77   \n",
      "...                         ...      ...     ...      ...     ...        ...   \n",
      "Uruguay                    10.6     26.3    8.35     25.4   17100       4.91   \n",
      "Uzbekistan                 36.3     31.7    5.81     28.5    4240      16.50   \n",
      "Vanuatu                    29.2     46.6    5.25     52.7    2950       2.62   \n",
      "Venezuela                  17.1     28.5    4.91     17.6   16500      45.90   \n",
      "Vietnam                    23.3     72.0    6.84     80.2    4490      12.10   \n",
      "\n",
      "                     life_expec  total_fer   gdpp  cluster  \n",
      "country                                                     \n",
      "Albania                    76.3       1.65   4090        1  \n",
      "Algeria                    76.5       2.89   4460        1  \n",
      "Antigua and Barbuda        76.8       2.13  12200        1  \n",
      "Argentina                  75.8       2.37  10300        1  \n",
      "Armenia                    73.3       1.69   3220        1  \n",
      "...                         ...        ...    ...      ...  \n",
      "Uruguay                    76.4       2.08  11900        1  \n",
      "Uzbekistan                 68.8       2.34   1380        1  \n",
      "Vanuatu                    63.0       3.50   2970        1  \n",
      "Venezuela                  75.4       2.47  13500        1  \n",
      "Vietnam                    73.1       1.95   1310        1  \n",
      "\n",
      "[84 rows x 10 columns]\n",
      "2\n",
      "                      child_mort  exports  health  imports  income  inflation  \\\n",
      "country                                                                         \n",
      "Australia                    4.8     19.8    8.73     20.9   41400      1.160   \n",
      "Austria                      4.3     51.3   11.00     47.8   43200      0.873   \n",
      "Bahrain                      8.6     69.5    4.97     50.9   41100      7.440   \n",
      "Belgium                      4.5     76.4   10.70     74.7   41100      1.880   \n",
      "Brunei                      10.5     67.4    2.84     28.0   80600     16.700   \n",
      "Canada                       5.6     29.1   11.30     31.0   40700      2.870   \n",
      "Cyprus                       3.6     50.2    5.97     57.5   33900      2.010   \n",
      "Czech Republic               3.4     66.0    7.88     62.9   28300     -1.430   \n",
      "Denmark                      4.1     50.5   11.40     43.6   44000      3.220   \n",
      "Finland                      3.0     38.7    8.95     37.4   39800      0.351   \n",
      "France                       4.2     26.8   11.90     28.1   36900      1.050   \n",
      "Germany                      4.2     42.3   11.60     37.1   40400      0.758   \n",
      "Greece                       3.9     22.1   10.30     30.7   28700      0.673   \n",
      "Iceland                      2.6     53.4    9.40     43.3   38800      5.470   \n",
      "Ireland                      4.2    103.0    9.19     86.5   45700     -3.220   \n",
      "Israel                       4.6     35.0    7.63     32.9   29600      1.770   \n",
      "Italy                        4.0     25.2    9.53     27.2   36200      0.319   \n",
      "Japan                        3.2     15.0    9.49     13.6   35800     -1.900   \n",
      "Kuwait                      10.8     66.7    2.63     30.4   75200     11.200   \n",
      "Luxembourg                   2.8    175.0    7.77    142.0   91700      3.620   \n",
      "Malta                        6.8    153.0    8.65    154.0   28300      3.830   \n",
      "Netherlands                  4.5     72.0   11.90     63.6   45500      0.848   \n",
      "New Zealand                  6.2     30.3   10.10     28.0   32300      3.730   \n",
      "Norway                       3.2     39.7    9.48     28.5   62300      5.950   \n",
      "Portugal                     3.9     29.9   11.00     37.4   27200      0.643   \n",
      "Qatar                        9.0     62.3    1.81     23.8  125000      6.980   \n",
      "Singapore                    2.8    200.0    3.96    174.0   72100     -0.046   \n",
      "Slovak Republic              7.0     76.3    8.79     77.8   25200      0.485   \n",
      "Slovenia                     3.2     64.3    9.41     62.9   28700     -0.987   \n",
      "South Korea                  4.1     49.4    6.93     46.2   30400      3.160   \n",
      "Spain                        3.8     25.5    9.54     26.8   32500      0.160   \n",
      "Sweden                       3.0     46.2    9.63     40.7   42900      0.991   \n",
      "Switzerland                  4.5     64.0   11.50     53.3   55500      0.317   \n",
      "United Arab Emirates         8.6     77.7    3.66     63.6   57600     12.500   \n",
      "United Kingdom               5.2     28.2    9.64     30.8   36200      1.570   \n",
      "United States                7.3     12.4   17.90     15.8   49400      1.220   \n",
      "\n",
      "                      life_expec  total_fer    gdpp  cluster  \n",
      "country                                                       \n",
      "Australia                   82.0       1.93   51900        2  \n",
      "Austria                     80.5       1.44   46900        2  \n",
      "Bahrain                     76.0       2.16   20700        2  \n",
      "Belgium                     80.0       1.86   44400        2  \n",
      "Brunei                      77.1       1.84   35300        2  \n",
      "Canada                      81.3       1.63   47400        2  \n",
      "Cyprus                      79.9       1.42   30800        2  \n",
      "Czech Republic              77.5       1.51   19800        2  \n",
      "Denmark                     79.5       1.87   58000        2  \n",
      "Finland                     80.0       1.87   46200        2  \n",
      "France                      81.4       2.03   40600        2  \n",
      "Germany                     80.1       1.39   41800        2  \n",
      "Greece                      80.4       1.48   26900        2  \n",
      "Iceland                     82.0       2.20   41900        2  \n",
      "Ireland                     80.4       2.05   48700        2  \n",
      "Israel                      81.4       3.03   30600        2  \n",
      "Italy                       81.7       1.46   35800        2  \n",
      "Japan                       82.8       1.39   44500        2  \n",
      "Kuwait                      78.2       2.21   38500        2  \n",
      "Luxembourg                  81.3       1.63  105000        2  \n",
      "Malta                       80.3       1.36   21100        2  \n",
      "Netherlands                 80.7       1.79   50300        2  \n",
      "New Zealand                 80.9       2.17   33700        2  \n",
      "Norway                      81.0       1.95   87800        2  \n",
      "Portugal                    79.8       1.39   22500        2  \n",
      "Qatar                       79.5       2.07   70300        2  \n",
      "Singapore                   82.7       1.15   46600        2  \n",
      "Slovak Republic             75.5       1.43   16600        2  \n",
      "Slovenia                    79.5       1.57   23400        2  \n",
      "South Korea                 80.1       1.23   22100        2  \n",
      "Spain                       81.9       1.37   30700        2  \n",
      "Sweden                      81.5       1.98   52100        2  \n",
      "Switzerland                 82.2       1.52   74600        2  \n",
      "United Arab Emirates        76.5       1.87   35000        2  \n",
      "United Kingdom              80.3       1.92   38900        2  \n",
      "United States               78.7       1.93   48400        2  \n"
     ]
    }
   ],
   "source": [
    "for i,j in cluster_grp:\n",
    "    print(i)\n",
    "    print(j)"
   ]
  },
  {
   "cell_type": "code",
   "execution_count": 48,
   "id": "ec9258c3",
   "metadata": {},
   "outputs": [
    {
     "data": {
      "text/plain": [
       "[<matplotlib.lines.Line2D at 0x1f8661c30d0>]"
      ]
     },
     "execution_count": 48,
     "metadata": {},
     "output_type": "execute_result"
    },
    {
     "data": {
      "image/png": "[encoded data removed]",
      "text/plain": [
       "<Figure size 432x288 with 1 Axes>"
      ]
     },
     "metadata": {
      "needs_background": "light"
     },
     "output_type": "display_data"
    }
   ],
   "source": [
    "plt.plot(cluster_grp['exports'].sum())"
   ]
  },
  {
   "cell_type": "code",
   "execution_count": 55,
   "id": "56dd0560",
   "metadata": {},
   "outputs": [
    {
     "data": {
      "image/png": "[encoded data removed]",
      "text/plain": [
       "<Figure size 432x288 with 1 Axes>"
      ]
     },
     "metadata": {
      "needs_background": "light"
     },
     "output_type": "display_data"
    },
    {
     "data": {
      "image/png": "[encoded data removed]",
      "text/plain": [
       "<Figure size 432x288 with 1 Axes>"
      ]
     },
     "metadata": {
      "needs_background": "light"
     },
     "output_type": "display_data"
    },
    {
     "data": {
      "image/png": "[encoded data removed]",
      "text/plain": [
       "<Figure size 432x288 with 1 Axes>"
      ]
     },
     "metadata": {
      "needs_background": "light"
     },
     "output_type": "display_data"
    },
    {
     "data": {
      "image/png": "[encoded data removed]",
      "text/plain": [
       "<Figure size 432x288 with 1 Axes>"
      ]
     },
     "metadata": {
      "needs_background": "light"
     },
     "output_type": "display_data"
    },
    {
     "data": {
      "image/png": "[encoded data removed]",
      "text/plain": [
       "<Figure size 432x288 with 1 Axes>"
      ]
     },
     "metadata": {
      "needs_background": "light"
     },
     "output_type": "display_data"
    },
    {
     "data": {
      "image/png": "[encoded data removed]",
      "text/plain": [
       "<Figure size 432x288 with 1 Axes>"
      ]
     },
     "metadata": {
      "needs_background": "light"
     },
     "output_type": "display_data"
    },
    {
     "data": {
      "image/png": "[encoded data removed]",
      "text/plain": [
       "<Figure size 432x288 with 1 Axes>"
      ]
     },
     "metadata": {
      "needs_background": "light"
     },
     "output_type": "display_data"
    },
    {
     "data": {
      "image/png": "[encoded data removed]",
      "text/plain": [
       "<Figure size 432x288 with 1 Axes>"
      ]
     },
     "metadata": {
      "needs_background": "light"
     },
     "output_type": "display_data"
    },
    {
     "data": {
      "image/png": "[encoded data removed]",
      "text/plain": [
       "<Figure size 432x288 with 1 Axes>"
      ]
     },
     "metadata": {
      "needs_background": "light"
     },
     "output_type": "display_data"
    }
   ],
   "source": [
    "for i in df.columns:\n",
    "    if i!='cluster':\n",
    "        sns.barplot(x='cluster',y=i,data=df)\n",
    "        plt.show()"
   ]
  },
  {
   "cell_type": "markdown",
   "id": "c07e1f01",
   "metadata": {},
   "source": [
    "Highest in Child Mortality - Cluster 0\n",
    "Lowest in Exports Per Capita - Cluster 0\n",
    "Lowest in Health Spending Per Capita - Cluster 1\n",
    "Lowest in Imports Per Capita - Cluster 0\n",
    "Lowest in Net Income Per Capita - Cluster 0\n",
    "Highest in Inflation - Cluster 0\n",
    "Lowest in Life Expectancy - Cluster 0\n",
    "Highest in No. of Births for present fertility rate - Cluster 0\n",
    "Lowest in GDP per capita - Cluster 0"
   ]
  },
  {
   "cell_type": "markdown",
   "id": "a0794769",
   "metadata": {},
   "source": [
    "# From the above statistics, we can conclude that the CEO of HELP International needs to focus more on the countries coming under cluster 0."
   ]
  },
  {
   "cell_type": "code",
   "execution_count": 63,
   "id": "5e91ad6f",
   "metadata": {},
   "outputs": [],
   "source": [
    "cluster_0_countries=list(df.index[df.cluster==0])"
   ]
  },
  {
   "cell_type": "code",
   "execution_count": 64,
   "id": "dd36a201",
   "metadata": {},
   "outputs": [
    {
     "data": {
      "text/plain": [
       "['Afghanistan',\n",
       " 'Angola',\n",
       " 'Benin',\n",
       " 'Botswana',\n",
       " 'Burkina Faso',\n",
       " 'Burundi',\n",
       " 'Cameroon',\n",
       " 'Central African Republic',\n",
       " 'Chad',\n",
       " 'Comoros',\n",
       " 'Congo, Dem. Rep.',\n",
       " 'Congo, Rep.',\n",
       " \"Cote d'Ivoire\",\n",
       " 'Equatorial Guinea',\n",
       " 'Eritrea',\n",
       " 'Gabon',\n",
       " 'Gambia',\n",
       " 'Ghana',\n",
       " 'Guinea',\n",
       " 'Guinea-Bissau',\n",
       " 'Haiti',\n",
       " 'Iraq',\n",
       " 'Kenya',\n",
       " 'Kiribati',\n",
       " 'Lao',\n",
       " 'Lesotho',\n",
       " 'Liberia',\n",
       " 'Madagascar',\n",
       " 'Malawi',\n",
       " 'Mali',\n",
       " 'Mauritania',\n",
       " 'Mozambique',\n",
       " 'Namibia',\n",
       " 'Niger',\n",
       " 'Nigeria',\n",
       " 'Pakistan',\n",
       " 'Rwanda',\n",
       " 'Senegal',\n",
       " 'Sierra Leone',\n",
       " 'South Africa',\n",
       " 'Sudan',\n",
       " 'Tanzania',\n",
       " 'Timor-Leste',\n",
       " 'Togo',\n",
       " 'Uganda',\n",
       " 'Yemen',\n",
       " 'Zambia']"
      ]
     },
     "execution_count": 64,
     "metadata": {},
     "output_type": "execute_result"
    }
   ],
   "source": [
    "cluster_0_countries"
   ]
  },
  {
   "cell_type": "code",
   "execution_count": 65,
   "id": "c3a3874e",
   "metadata": {},
   "outputs": [
    {
     "data": {
      "text/plain": [
       "47"
      ]
     },
     "execution_count": 65,
     "metadata": {},
     "output_type": "execute_result"
    }
   ],
   "source": [
    "len(cluster_0_countries)"
   ]
  },
  {
   "cell_type": "code",
   "execution_count": 74,
   "id": "376c3224",
   "metadata": {},
   "outputs": [
    {
     "name": "stdout",
     "output_type": "stream",
     "text": [
      "[0.36300434167151263, 0.2413339283715689, 0.15209255715312836]\n"
     ]
    }
   ],
   "source": [
    "mean=[]\n",
    "for i in range(0,3):\n",
    "    mean.append(sample_sil[i==clusters].mean())\n",
    "print(mean)"
   ]
  },
  {
   "cell_type": "code",
   "execution_count": 75,
   "id": "c177b181",
   "metadata": {},
   "outputs": [],
   "source": [
    "from yellowbrick.cluster import SilhouetteVisualizer"
   ]
  },
  {
   "cell_type": "code",
   "execution_count": 90,
   "id": "b470e5ed",
   "metadata": {},
   "outputs": [
    {
     "data": {
      "image/png": "[encoded data removed]",
      "text/plain": [
       "<Figure size 576x396 with 1 Axes>"
      ]
     },
     "metadata": {},
     "output_type": "display_data"
    },
    {
     "data": {
      "image/png": "[encoded data removed]",
      "text/plain": [
       "<Figure size 576x396 with 1 Axes>"
      ]
     },
     "metadata": {},
     "output_type": "display_data"
    },
    {
     "data": {
      "image/png": "[encoded data removed]",
      "text/plain": [
       "<Figure size 576x396 with 1 Axes>"
      ]
     },
     "metadata": {},
     "output_type": "display_data"
    },
    {
     "data": {
      "image/png": "[encoded data removed]",
      "text/plain": [
       "<Figure size 576x396 with 1 Axes>"
      ]
     },
     "metadata": {},
     "output_type": "display_data"
    },
    {
     "data": {
      "image/png": "[encoded data removed]",
      "text/plain": [
       "<Figure size 576x396 with 1 Axes>"
      ]
     },
     "metadata": {},
     "output_type": "display_data"
    }
   ],
   "source": [
    "for i in range(2,7):\n",
    "    model=KMeans(n_clusters=i,random_state=42)\n",
    "    visualizer=SilhouetteVisualizer(model,colors='yellowbrick')\n",
    "    visualizer.fit(dfsc)\n",
    "    visualizer.show()"
   ]
  },
  {
   "cell_type": "code",
   "execution_count": null,
   "id": "cd572af7",
   "metadata": {},
   "outputs": [],
   "source": []
  }
 ],
 "metadata": {
  "kernelspec": {
   "display_name": "Python 3",
   "language": "python",
   "name": "python3"
  },
  "language_info": {
   "codemirror_mode": {
    "name": "ipython",
    "version": 3
   },
   "file_extension": ".py",
   "mimetype": "text/x-python",
   "name": "python",
   "nbconvert_exporter": "python",
   "pygments_lexer": "ipython3",
   "version": "3.8.8"
  }
 },
 "nbformat": 4,
 "nbformat_minor": 5
}
